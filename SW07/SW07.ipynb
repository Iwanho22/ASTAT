{
 "cells": [
  {
   "cell_type": "markdown",
   "id": "f8edfe32-7c29-46a2-939f-a0d3f4e6fa2b",
   "metadata": {},
   "source": [
    "# <span style=\"color:rgb(160,0,86)\">Testverfahren</span>\n",
    "\n",
    "***"
   ]
  },
  {
   "cell_type": "markdown",
   "id": "efc2b411-5d0c-45cd-a36d-deb3a678be0e",
   "metadata": {},
   "source": [
    "## <span style=\"color:rgb(160,0,86)\">Lernziele</span>\n",
    "\n",
    "- Sie verstehen die Idee des **statistischen Testens**.\n",
    "- Sie kennen den Unterschied zwischen der **Nullhypothese** und der **Alternativhypothese**.  \n",
    "- Sie können das **Permuationsverfahren** anwenden.  \n",
    "\n",
    "***"
   ]
  },
  {
   "cell_type": "markdown",
   "id": "e1aeb5b2-eafa-4db1-b3d5-9b13de1f83fe",
   "metadata": {},
   "source": [
    "### <span style=\"color:rgb(160,0,86)\">Was ist ein statistischer Test?</span>\n",
    "\n",
    "Die **Versuchsplanung** ist ein Eckpfeiler der statistischen Praxis, der in praktisch allen Forschungsbereichen Anwendung findet. Ziel ist es, ein Experiment zu entwerfen, um eine Hypothese zu bestätigen oder zu verwerfen. \n",
    "\n",
    "Datenwissenschaftler sind mit der Notwendigkeit konfrontiert, kontinuierlich Experimente durchzuführen, insbesondere im Hinblick auf die Benutzerschnittstellen und das Produktmarketing. \n",
    "\n",
    "Wenn von *statistischer Signifikanz* oder $p$-*Werten* die Rede ist, so geschieht dies in der Regel im Rahmen der klassischen *Pipeline* **statistischer Schlussfolgerungen**: \n",
    "\n",
    "$$\\left.\\begin{array}{l}\n",
    "\\text{Hypothese}\\\\\n",
    "\\text{aufstellen}\\end{array}\\right\\}\\Longrightarrow\\;\\;\n",
    "\\left.\\begin{array}{l}\n",
    "\\text{expreimentelles}\\\\\n",
    "\\text{Design wählen}\\end{array}\\right\\}\\Longrightarrow\\;\\;\n",
    "\\left.\\begin{array}{l}\n",
    "\\text{Daten}\\\\\n",
    "\\text{sammeln}\\end{array}\\right\\}\\Longrightarrow\\;\\;\n",
    "\\begin{array}{l}\n",
    "\\text{Schlussfolgerung}\\\\\n",
    "\\text{machen}\\end{array}$$\n",
    " \n",
    "- Dieser Prozess beginnt mit einer **Hypothese** (*Medikament A ist besser als das bestehende Standardmedikament*, *Preis A ist profitabler als der bestehende Preis B*).\n",
    "- Ein **Experiment** (z.B. ein *A/B-Test*) wird entworfen, um die Hypothese zu testen - und zwar so, dass es hoffentlich schlüssige Ergebnisse liefert.\n",
    "- Die **Daten** werden gesammelt und analysiert,\n",
    "- und dann wird eine **Schlussfolgerung** gezogen. Der Begriff *Schlussfolgerung* spiegelt die Absicht wider, die Ergebnisse des Experiments, das eine begrenzte Menge von Daten umfasst, auf einen grösseren Prozess oder eine grössere Population zu übertragen.\n"
   ]
  },
  {
   "cell_type": "markdown",
   "id": "2e06298c-4330-47c3-8648-09690e76b5d3",
   "metadata": {},
   "source": [
    "### <span style=\"color:rgb(160,0,86)\">Was ist ein A/B-Test?</span>\n",
    "\n",
    "Ein **A/B-Test** ist **ein Experiment mit zwei Gruppen**, bei dem festgestellt werden soll, welche von zwei \n",
    "- *Behandlungen*,\n",
    "- *Produkten*,\n",
    "- *Verfahren*\n",
    "- oder Ähnlichem\n",
    "\n",
    "besser ist. Häufig ist eine der beiden Behandlungen die *bestehende Standardbehandlung* oder *keine Behandlung*, die sogenannte **Kontrollgruppe**. \n",
    "\n",
    "Eine **typische Hypothese** ist, dass eine **neue Behandlung besser** ist als die bisherige (also die Kontrollgruppe).\n",
    "\n",
    "A/B-Tests sind im **Webdesign** und **-marketing** weit verbreitet, weil da Ergebnisse leicht messbar sind. Einige Beispiele für A/B-Tests sind:\n",
    "- Testen zweier Bodenbehandlungen, um festzustellen, welche eine bessere Keimung der Samen bewirkt\n",
    "- Testen von zwei Therapien, um festzustellen, welche den Krebs effektiver bekämpft\n",
    "- Testen von zwei Preisen, um festzustellen, welcher mehr Nettogewinn abwirft\n",
    "- Testen von zwei Web-Anzeigen, um festzustellen, welche mehr Konversionen erzeugt\n",
    "- Testen von zwei Web-Schlagzeilen, um festzustellen, welche mehr Klicks erzeugt\n",
    "\n",
    "<center>\n",
    "<img src=\"Bilder/Schlagzeilen.png\" width=\"55%\" />\n",
    "</center>\n",
    "\n"
   ]
  },
  {
   "cell_type": "markdown",
   "id": "7e004dfc-2dc5-4f62-81fa-31dd152e41ef",
   "metadata": {},
   "source": [
    "### <span style=\"color:rgb(160,0,86)\">Wie wird ein A/B-Test durchgeführt?</span>\n",
    "\n",
    "Ein ordungsgemässer A/B-Test hat **Probanden**, die **der einen** oder **anderen Behandlung** zugewiesen werden. Dabei kann es sich um eine *Person*, einen *Pflanzensamen* oder einen *Webbesucher* handeln; entscheidend ist, dass die Testperson der Behandlung ausgesetzt wird. \n",
    "\n",
    "Im Idealfall werden die Probanden nach dem **Zufallsprinzip** den Behandlungen zugewiesen. Auf diese Weise weiss man, dass jeder **Unterschied zwischen den Behandlungsgruppen** auf zwei Faktoren zurückzuführen ist:\n",
    "\n",
    "- Die **Wirkung** der verschiedenen Behandlungen\n",
    "- das **Losglück** bei der Zuordnung der Probanden zu den Behandlungen (d.h. die zufällige Zuordnung kann dazu geführt haben, dass die von Natur aus leistungsstärkeren Probanden in A oder B konzentriert sind)\n",
    "\n",
    "Um die Gruppe A mit der Gruppe B zu vergleichen, brauchen wir eine **Metrik**. In der Datenwissenschaft wird häufig eine binäre Variable als Metrik verwendet: *Klick oder kein Klick*, *kaufen oder nicht kaufen*, *Betrug oder kein Betrug* usw. \n",
    "\n",
    "Die Ergebnisse werden in einer 2×2-Tabelle zusammengefasst:\n",
    "\n",
    "$$\\begin{array}{c|cc}\n",
    "&\\text{Probanden A}&\\text{Probanden B}\\\\ \\hline \n",
    "\\text{Ja}&\\cdots&\\cdots\\\\\n",
    "\\text{Nein}&\\cdots&\\cdots\\end{array}$$\n"
   ]
  },
  {
   "cell_type": "markdown",
   "id": "cd1f2759-ae0c-4bb6-9ae9-b92d5440b5b8",
   "metadata": {},
   "source": [
    "### <span style=\"color:rgb(160,0,86)\">Warum braucht es eine Kontrollgruppe?</span>\n",
    "\n",
    "Warum lässt man die Kontrollgruppe nicht einfach weg und führt ein Experiment durch, bei dem die betreffende Behandlung nur bei einer Gruppe angewendet wird, und vergleicht das Ergebnis mit früheren Erfahrungen? \n",
    "\n",
    "Ohne eine Kontrollgruppe gibt es keine Gewähr dafür, dass *alle anderen Dinge gleich sind* und dass ein Unterschied wirklich auf die Behandlung (oder den Zufall) zurückzuführen ist. \n",
    "\n",
    "In der Kontrollgruppe gelten die gleichen Bedingungen (mit Ausnahme der Behandlung, die uns interessiert) wie für die Behandlungsgruppe. Wenn wir einfach einen Vergleich mit der *Ausgangslage* oder *früheren Erfahrungen* anstellen, könnten neben der Behandlung auch andere Faktoren unterschiedlich sein.\n",
    "\n",
    "- Eine **Blindstudie** ist eine Studie, bei der die Probanden nicht wissen, ob sie Behandlung A oder Behandlung B erhalten.\n",
    "- Eine **Doppelblindstudie** ist eine Studie, bei der die Prüfer und Betreuer (z.B. Ärzte und Krankenschwestern in einer medizinischen Studie) nicht wissen, welche Probanden welche Behandlung erhalten.\n",
    "\n",
    "Eine *Verblindung ist nicht möglich*, wenn die Art der Behandlung transparent ist, z.B. bei einer kognitiven Therapie durch einen Computer oder einen Psychologen.\n",
    "\n",
    "A/B-Tests werden in der Datenwissenschaft in der Regel in einem Web-Kontext eingesetzt. Dabei kann es sich um das Design einer Webseite, den Preis eines Produkts, den Wortlaut einer Überschrift oder ein anderes Element handeln. \n",
    "\n",
    "Um die **Grundsätze der Randomisierung** zu wahren, sind einige Überlegungen erforderlich. In der Regel ist die Versuchsperson der Webbesucher, und die Ergebnisse, die wir messen möchten, sind Klicks, Käufe, Besuchsdauer, Anzahl der besuchten Seiten, ob eine bestimmte Seite besucht wird und Ähnliches. \n",
    "\n",
    "Wenn das Experiment zu einer **validen Entscheidung** zwischen *Behandlung A* und *Behandlung B* führen soll, muss die **Messgrösse im Voraus festgelegt werden**. Die Auswahl einer Messgrösse nach der Durchführung des Experiments öffnet der Voreingenommenheit des Forschers Tür und Tor und birgt die Gefahr der **Verzerrung**."
   ]
  },
  {
   "cell_type": "markdown",
   "id": "0abe8ac6-6fcd-419b-ac07-6faf090c4f26",
   "metadata": {},
   "source": [
    "### <span style=\"color:rgb(160,0,86)\">Was ist ein A/B/C/D/...-Test?</span>\n",
    "\n",
    "A/B-Tests sind in den Bereichen Marketing und E-Commerce sehr beliebt, aber sie sind bei weitem nicht die einzige Art von statistischen Experimenten. \n",
    "\n",
    "Es können **zusätzliche Behandlungen** einbezogen werden. Bei Probanden können **wiederholte Messungen** durchgeführt werden.  \n",
    "\n",
    "Traditionelle statistische Versuchspläne konzentrieren sich auf die Beantwortung einer statischen Frage nach der Wirksamkeit bestimmter Behandlungen. Datenwissenschaftler sind weniger an der Frage interessiert: \n",
    "- *Ist der Unterschied zwischen Preis A und Preis B statistisch signifikant?*\n",
    "\n",
    "als an der Frage: \n",
    "- *Welcher von mehreren möglichen Preisen ist der beste?*"
   ]
  },
  {
   "cell_type": "markdown",
   "id": "ddae8410-af8e-4854-8346-5cc3f663f0c0",
   "metadata": {},
   "source": [
    "### <span style=\"color:rgb(160,0,86)\">Was ist ein Hypothesen-Test?</span>\n",
    "\n",
    "Hypothesentests, auch Signifikanztests genannt, sind in Forschungsarbeiten allgegenwärtig. Ihr Zweck ist es, herauszufinden, ob **der Zufall** für einen beobachteten Effekt **verantwortlich** sein könnte.\n",
    "\n",
    "Ein A/B-Test wird in der Regel mit einer Hypothese im Hinterkopf erstellt. Die Hypothese könnte z.B. lauten, dass Preis B einen höheren Gewinn bringt. \n",
    "\n",
    "- Warum brauchen wir eine Hypothese? \n",
    "- Warum schaut man sich nicht einfach das Ergebnis des Experiments an und entscheidet sich für die Behandlung, die besser abschneidet?\n",
    "\n",
    "Die Antwort liegt darin, dass der menschliche Verstand dazu neigt, die Tragweite des natürlichen Zufallsverhaltens zu unterschätzen. Dies äussert sich unter anderem darin, dass extreme Ereignisse, so genannte *schwarze Schwäne*, nicht vorhergesehen werden. \n",
    "\n",
    "Eine andere menschliche Erscheinung ist die Tendenz, zufällige Eignisse fälschlicherweise als *Muster mit einer gewissen Bedeutung* zu interpretieren. \n",
    "\n",
    "- <span style=\"color:rgb(160,0,86)\">***Die statistische Hypothesenprüfung wurde erfunden, um die Forscher davor zu schützen, vom Zufall getäuscht zu werden.***</span>\n",
    "\n",
    "Die menschliche Tendenz, den Zufall zu unterschätzen, kann in einem Experiment beobachten. \n",
    "\n",
    "Bitten Sie mehrere Freunde, eine Serie von 50 Münzwürfen zu erfinden: Lassen Sie sie eine zufällige Reihe von *Kopf* und *Zahl* aufschreiben. Bitten Sie sie dann, tatsächlich 50 Mal eine Münze zu werfen und die Ergebnisse aufzuschreiben. Lassen Sie sie die echten Ergebnisse auf einen Stapel legen und die erfundenen Ergebnisse auf einen anderen. Es ist leicht zu erkennen, welche Ergebnisse echt sind: \n",
    "- Die echten Ergebnisse haben längere *Kopf*- oder *Zahl*-Sequenzen .\n",
    "\n",
    "Bei einem Satz von 50 echten Münzwürfen ist es nicht ungewöhnlich, fünf oder sechs *Köpfe* oder *Zahlen* in einer Reihe zu sehen. Wenn die meisten von uns jedoch zufällige Münzwürfe erfinden und wir drei oder vier *Köpfe* in Folge erhalten, sagen wir uns, dass wir besser zu *Zahl* wechseln sollten, damit die Serie zufällig aussieht.\n",
    "\n",
    "Die andere Seite der Medaille ist, wenn wir real sechs *Köpfe* in Folge sehen, dass wir dazu neigen, dies auf etwas Spezielles zurückzuführen, nicht nur auf Zufall.\n",
    "\n",
    "Bei einem ordnungsgemäss konzipierten A/B-Test werden Daten zu den Behandlungen A und B so erhoben, dass jeder beobachtete Unterschied zwischen A und B auf eine der folgenden Ursachen zurückzuführen ist:\n",
    "- <span style=\"color:rgb(160,0,86)\">***Zufällige Zuweisung von Probanden***</span>\n",
    "- <span style=\"color:rgb(160,0,86)\">***Ein echter Unterschied zwischen A und B***</span>\n",
    "\n",
    "Ein **statistischer Hypothesentest** ist eine Analysemöglichkeit, um festzustellen, ob der Zufall eine plausible Erklärung für einen beobachteten Unterschied zwischen den Gruppen A und B ist."
   ]
  },
  {
   "cell_type": "markdown",
   "id": "b148e6f9-5eda-402b-b447-934907a51148",
   "metadata": {},
   "source": [
    "#### <span style=\"color:rgb(160,0,86)\">Die Nullhypothese</span>\n",
    "\n",
    "Hypothesentests beruhen auf der folgenden Logik: \n",
    "- Angesichts der menschlichen Tendenz, auf ungewöhnliches, aber zufälliges Verhalten zu reagieren und es als etwas Bedeutungsvolles und Reales zu interpretieren, verlangen wir in unseren Experimenten den Nachweis, dass der Unterschied zwischen den Gruppen extremer ist als das, was der Zufall vernünftigerweise hervorbringen könnte.\n",
    "\n",
    "Dies beinhaltet die Grundannahme, dass die Behandlungen gleichwertig sind und jeder Unterschied zwischen den Gruppen auf den Zufall zurückzuführen ist. Diese Grundannahme wird als **Nullhypothese** bezeichnet. \n",
    "\n",
    "- <span style=\"color:rgb(160,0,86)\">***Wir hoffen nun, dass wir die Nullhypothese widerlegen und zeigen können, dass die Ergebnisse der Gruppen A und B stärker voneinander abweichen als der Zufall es zulässt.***</span>\n",
    "\n",
    "Eine Möglichkeit, dies zu tun, ist ein **Resampling-Permutationsverfahren**, bei dem wir die Ergebnisse der Gruppen A und B mischen und dann die Daten wiederholt in Gruppen ähnlicher Grösse verteilen und dann beobachten, wie oft wir einen so extremen Unterschied wie den beobachteten Unterschied erhalten. "
   ]
  },
  {
   "cell_type": "markdown",
   "id": "92920ad4-e2e4-47f9-aeaa-542bbf5e547b",
   "metadata": {},
   "source": [
    "#### <span style=\"color:rgb(160,0,86)\">Alternative Hypothese</span>\n",
    "\n",
    "Hypothesentests beinhalten naturgemäss nicht nur eine Nullhypothese, sondern auch eine **entgegengesetzte Alternativhypothese**. Zum Beispiel:\n",
    "1) **Nullhypothese:** *Kein Unterschied zwischen den Mittelwerten von Gruppe A und Gruppe B.*</br>\n",
    "**Alternativhypothese:** *A unterscheidet sich von B (kann grösser oder kleiner sein).*\n",
    "2) **Nullhypothese:** *A ist kleiner oder gleich als B.*</br>\n",
    "**Alternativhypothese:** *B ist grösser als A.*\n",
    "3) **Nullhypothese:** *B ist nicht $x\\%$ grösser als A.*</br>\n",
    "**Alternativhypothese:** *B ist $x\\%$ grösser als A.*\n",
    "\n",
    "- <span style=\"color:rgb(160,0,86)\">***Zusammengenommen müssen die Null- und die Alternativhypothese alle Möglichkeiten abdecken.***</span> \n",
    "\n",
    "Die Art der Nullhypothese bestimmt die Struktur des Hypothesentests."
   ]
  },
  {
   "cell_type": "markdown",
   "id": "7b8331b4-799e-41ec-992d-96851f9b2ef6",
   "metadata": {},
   "source": [
    "#### <span style=\"color:rgb(160,0,86)\">Einseitiger und zweiseitiger Hypothesentest</span>\n",
    "\n",
    "Bei einem A/B-Test wird häufig eine neue Option (B) gegen eine bewährte Standardoption (A) getestet, wobei davon ausgegangen wird, dass die Standardoption beibehalten wird, solange sich die neue Option nicht als definitiv besser erweist. In einem solchen Fall machen wir einen Hypothesentest, der uns davor schützt, durch Zufall in ***die Richtung*** geleitet zu werden, die für B spricht, \n",
    "\n",
    "- wir brauchen eine **gerichtete Alternativhypothese** (B ist besser als A). In einem solchen Fall verwenden wir einen **einseitigen Hypothesentest**. Das bedeutet, dass extreme Zufallsergebnisse in nur einer Richtung berücksichtigt werden.\n",
    "\n",
    "Wenn ein Hypothesentest uns davor schützen soll, durch Zufall in ***eine der beiden Richtungen*** geleitet zu werden, die für B sprechen,\n",
    "- brauchen wir eine **ungerichtete Alternativhypothese** (A unterscheidet sich von B, könnte besser oder schlecher sein). In einem solchen Fall verwenden  wir einen **zweiseitigen-Hypothesentest**. Das bedeutet, dass extreme Zufallsergebnisse in beiden Richtungen berücksichtigt werden.\n",
    "\n",
    "Ein einseitiger Hypothesentest entspricht der A/B-Entscheidungsfindung, bei der eine Option in der Regel als *Standard* eingestuft wird."
   ]
  },
  {
   "cell_type": "markdown",
   "id": "b956f0b2-937b-4aec-bb3c-99cc7a275384",
   "metadata": {},
   "source": [
    "### <span style=\"color:rgb(160,0,86)\">Wie können wir die Gruppen A und B vergleichen?</span>\n",
    "\n",
    "Resampling bedeutet in der Statistik die wiederholte Stichprobenziehung von Werten aus beobachteten Daten mit dem allgemeinen Ziel, die zufällige Variabilität einer Statistik zu bewerten. \n",
    "\n",
    "Es gibt zwei Haupttypen von **Resampling-Verfahren**: \n",
    "- Der **Bootstrap** wird verwendet, um die Zuverlässigkeit einer Schätzung zu beurteilen (SW 06).\n",
    "- Die **Permutationstests** werden zum Testen von Hypothesen verwendet, die in der Regel zwei oder mehr Gruppen betreffen.\n",
    "\n",
    "Bei einem **Permutationsverfahren** sind zwei oder mehr Stichproben beteiligt, in der Regel die Gruppen in einem A/B- oder anderen Hypothesentest. Permutieren bedeutet, die Reihenfolge einer Menge von gegebenen Werten zu ändern. \n",
    "\n",
    "Der erste Schritt bei einem Permutationstest für eine Hypothese besteht darin, die Ergebnisse der Gruppen A und B (und allenfalls C, D, ...) zu kombinieren. \n",
    "\n",
    "Dies ist die logische Verkörperung der Nullhypothese, dass sich die Behandlungen, denen die Gruppen ausgesetzt waren, nicht unterscheiden. \n",
    "\n",
    "- <span style=\"color:rgb(160,0,86)\">***Wir testen dann diese Hypothese, indem wir zufällig Gruppen aus dieser kombinierten Menge ziehen und sehen, wie sehr sie sich voneinander unterscheiden.***</span>\n",
    " \n",
    "\n",
    "Das Permutationsverfahren läuft wie folgt ab:\n",
    "1. **Kombiniere** die Ergebnisse **der verschiedenen Gruppen** in einem einzigen Datensatz.\n",
    "2. **Mische** die kombinierten Daten und **ziehe** dann nach dem Zufallsprinzip (ohne Zurücklegen) **eine neue Stichprobe** mit der gleichen Grösse wie Gruppe A.\n",
    "Ziehe aus den verbleibenden Daten nach dem Zufallsprinzip (ohne Zurücklegen) eine neue Stichprobe mit der Grösse von Gruppe B. Das Gleiche für die Gruppen C, D usw.\n",
    "3. Welche Statistik auch immer für die ursprüngliche Stichprobe berechnet wurde (z.B. die Differenz der Gruppenanteile), **berechne die gleiche für die Wiederholungsstichproben** und notiere sie.\n",
    "4. Wiederhole die vorherigen Schritte R-mal, um eine **Permutationsverteilung der Teststatistik** zu erhalten.\n",
    "\n",
    "\n",
    "Nun können wir den **beobachteten Unterschied** zwischen den Gruppen mit der Menge der **permutierten Unterschiede** vergleichen. \n",
    "- Wenn der **beobachtete Unterschied** deutlich ***innerhalb*** der Menge der **permutierten Unterschiede** liegt, dann haben wir nichts bewiesen - der beobachtete Unterschied liegt im Bereich dessen, was der Zufall hervorbringen könnte.\n",
    "- Liegt der **beobachtete Unterschied** jedoch ***ausserhalb*** des grössten Teils der Menge der **permutierten Unterschiede**, so schliessen wir daraus, dass der Zufall nicht verantwortlich ist. In der Fachsprache heisst das, dass der Unterschied statistisch signifikant ist.\n",
    "\n",
    "\n",
    "Permutationstests sind nützliche **heuristische Verfahren**, um die Rolle der zufälligen Streuung zu untersuchen. Sie sind relativ einfach zu kodieren, zu interpretieren und zu erklären und bieten einen nützlichen Umweg um den Formalismus und *falschen Determinismus* der **formelbasierten Statistik**.\n",
    "\n",
    "Ein Vorteil von Resampling im Gegensatz zu formelbasierten Ansätzen besteht darin, dass es einem ***One size fits all*-Ansatz** für Schlussfolgerungen viel näher kommt. Die Daten können numerisch oder binär sein. Die Stichprobengrössen können gleich oder unterschiedlich sein. Annahmen über normalverteilte Daten sind nicht erforderlich."
   ]
  },
  {
   "cell_type": "markdown",
   "id": "f1b22231-13dc-49cd-836a-fdaf5021da43",
   "metadata": {},
   "source": [
    "### <span style=\"color:rgb(160,0,86)\">Aufgabe 1 (Web-Stickiness)</span>\n",
    "\n",
    "Ein Unternehmen, das eine relativ hochwertige Dienstleistung vertreibt, möchte testen, welche von zwei Webpräsentationen besser verkauft werden kann. Aufgrund des hohen Wertes der zu verkaufenden Dienstleistung sind die Verkäufe selten und der Verkaufszyklus ist lang; es würde zu lange dauern, um genügend Verkäufe zu erzielen, um zu wissen, welche Präsentation besser ist. Daher beschliesst das Unternehmen, die Ergebnisse mit einer Proxy-Variablen zu messen, und zwar mit der detaillierten *Landingpage*, auf der die Dienstleistung beschrieben wird.\n",
    "\n",
    "Eine mögliche Proxy-Variable für das Unternehmen ist die **Anzahl der Klicks** auf der detaillierten Landingpage. Eine noch bessere Variable ist die **Verweildauer der Besucher** auf der Seite. Es ist vernünftig anzunehmen, dass eine Webpräsentation (als einzelne Seite), die die Aufmerksamkeit der Besucher länger auf sich zieht, zu mehr Verkäufen führt. Unsere Kennzahl ist daher die durchschnittliche Verweildauer (von Google Analytics), wobei wir Seite A mit Seite B vergleichen.\n",
    "\n",
    "Da es sich hier um eine interne, zweckgebundene Seite handelt, erhält sie keine grosse Anzahl von Besuchern. Das Ergebnis sind insgesamt 36 Sitzungen für die beiden verschiedenen Webpräsentationen, 21 für Seite A und 15 für Seite B. \n",
    "\n",
    "- Laden Sie die Daten der Stichprobe in der Datei *web_page_data.csv* im Ordner Daten. \n",
    "- Zeichnen Sie für die Verweildauer zwei Boxplots, je für die Seite A und für die Seite B.\n",
    "- Bestimmen Sie den **Unterschied der mittleren Verweildauer** auf den beiden Seiten in der Stichprobe.\n",
    "- Bestimmen Sie mit dem Permutationsverfahren eine Menge von 1000 permutieren Unterschieden und stellen Sie die Verteilung dieser permutieren Unterschiede in einem Dichtediagramm dar. Zeichnen Sie in das gleiche Diagramm auch den beobachteten Unterschied ein.   \n",
    "\n"
   ]
  },
  {
   "cell_type": "code",
   "execution_count": 25,
   "id": "1528b131-f566-4002-8800-84d6d65c5dea",
   "metadata": {},
   "outputs": [
    {
     "name": "stdout",
     "output_type": "stream",
     "text": [
      "-0.3566666666666669\n",
      "13.100000000000001\n"
     ]
    },
    {
     "data": {
      "image/png": "[encoded data removed]",
      "text/plain": [
       "<Figure size 1000x300 with 2 Axes>"
      ]
     },
     "metadata": {},
     "output_type": "display_data"
    },
    {
     "data": {
      "image/png": "[encoded data removed]",
      "text/plain": [
       "<Figure size 500x300 with 1 Axes>"
      ]
     },
     "metadata": {},
     "output_type": "display_data"
    }
   ],
   "source": [
    "import pandas as pd\n",
    "import numpy as np\n",
    "import seaborn as sns\n",
    "import matplotlib.pyplot as plt\n",
    "\n",
    "df = pd.read_csv(\"Daten/web_page_data.csv\")\n",
    "df.head()\n",
    "pageA = df[df.Page == \"Page A\"]\n",
    "fig = plt.figure(figsize=(10,3))\n",
    "ax1 = fig.add_subplot(1,2,1)\n",
    "ax1 = sns.boxplot(y=\"Time\", data=pageA,width=0.15,flierprops={\"marker\":\"x\"})\n",
    "\n",
    "pageB = df[df.Page == \"Page B\"]\n",
    "ax2 = fig.add_subplot(1,2,2)\n",
    "ax2 = sns.boxplot(y=\"Time\", data=pageB,width=0.15,flierprops={\"marker\":\"x\"})\n",
    "\n",
    "mean_dif = pageA[\"Time\"].mean() - pageB[\"Time\"].mean()\n",
    "print(mean_dif)\n",
    "\n",
    "means = []\n",
    "for i in range(1000):\n",
    "    sampleA = df.sample(21, replace=False)\n",
    "    sampleB = df[~df.index.isin(sampleA.index)]\n",
    "    means.append(sampleA[\"Time\"].mean() - sampleB[\"Time\"].mean())\n",
    "\n",
    "p_value = 100*(means < mean_dif).mean()\n",
    "print(p_value)\n",
    "\n",
    "means = np.array(means)\n",
    "fig = plt.figure(figsize=(5,3))\n",
    "ax1 = sns.histplot(data=means,stat=\"density\",color=\"lightblue\")\n",
    "ax1 = plt.vlines(mean_dif, ymin=0, ymax=1.5, colors='red', linestyles='dashed', linewidth=2)"
   ]
  },
  {
   "cell_type": "markdown",
   "id": "1fff21b3-05c4-4d3b-a05b-afd7831b0f7a",
   "metadata": {
    "jp-MarkdownHeadingCollapsed": true
   },
   "source": [
    "### <span style=\"color:rgb(160,0,86)\">Wann entscheiden wir uns für die Alternativhypothese?</span>\n",
    "\n",
    "Mit der **statistischen Signifikanz** messen Statistiker, ob ein Experiment ein Ergebnis liefert, das extremer ist als das, was der Zufall hervorbringen könnte. \n",
    "- <span style=\"color:rgb(160,0,86)\">***Wenn das Ergebnis über den Bereich der zufälligen Abweichung hinausgeht, wird es als statistisch signifikant bezeichnet.***</span>\n",
    "\n",
    "#### <span style=\"color:rgb(160,0,86)\">Beispiel</span>\n",
    "Konversionen im E-Commerce sind die Aktionen, die Nutzer auf einer E-Commerce-Seite durchführen. Die Konversionsrate ist ein wichtiger Leistungsindikator für die Effektivität von Marketingkampagnen und Webdesign. Betrachten wir ein Unternehmen, das zwei Preise vergleicht:\n",
    "\n",
    "$$\\begin{array}{c|cc}\n",
    "&\\text{Preis A}&\\text{Preis B}\\\\ \\hline \n",
    "\\text{Konversion}&200&182\\\\\n",
    "\\text{keine Konversion}&23539&22406\\end{array}$$\n",
    "\n",
    "Preis A bringt fast 5 % mehr Konversionen als Preis B. Wir haben hier mehr als 45000 Datenpunkte, und es ist verlockend, dies als *grosse Datenmenge* zu betrachten, die keine statistischen Signifikanztests erfordern. Die Konversionsraten sind jedoch so niedrig (weniger als 1 %), dass die tatsächlich aussagekräftigen Werte - die Konversionen - nur im Hunderterbereich liegen, und der erforderliche Stichprobenumfang wird tatsächlich durch diese Konversionen bestimmt. \n",
    "\n",
    "Mit Hilfe eines Resampling-Verfahrens können wir testen, ob der Unterschied bei den Umsätzen zwischen den Preisen A und B im Bereich der zufälligen Abweichung liegt. Mit *zufälligen Abweichung* ist die Abweichung gemeint, die sich aus einem Wahrscheinlichkeitsmodell ergibt, das die Nullhypothese verkörpert, dass es keinen Unterschied zwischen den Konversionsraten gibt. "
   ]
  },
  {
   "cell_type": "markdown",
   "id": "940af48f-22e1-4363-a5ed-5e21db3fc721",
   "metadata": {},
   "source": [
    "### <span style=\"color:rgb(160,0,86)\">Aufgabe 2</span>\n",
    "\n",
    "Das folgende Permutationsverfahren prüft die Frage: ***Wenn die beiden Preise dieselben Konversionsraten haben, könnte zufällige Abweichung für einen Unterschied von 5% verantwortlich sein?***\n",
    "\n",
    "1. Erstelle eine *Urne* mit allen Stichprobenergebnissen: Dies entspricht der gemeinsamen Konversionsrate von 382 Einsen und 45945 Nullen (0.008246 = 0,8246%).\n",
    "2. Mische die Urne und ziehe eine neue Stichprobe mit der Grösse 23739 (gleiches $n$ wie Preis A) und notiere die Anzahl Einsen. Erfasse dann die Anzahl der Einsen in den verbleibenden 22588 Elementen (gleiches $n$ wie Preis B). Speichere den Unterschied im Anteil der Einsen.\n",
    "3. Wiederhole 1000 mal den Schritt 2.\n",
    "4. Wie oft war die Differenz grösser als 0.0368?\n",
    "\n",
    "- Zeichnen Sie auch ein Dichtediagramm für die Verteilung der zufällig permutierten Unterschiede der Konversionsraten.\n",
    "- Liegt die beobachtete Differenz von $$\\frac{200}{23539+200}\\cdot 100-\\frac{182}{22406+182}\\cdot 100=0.0368\\%$$ im Bereich der zufälligen Abweichung?"
   ]
  },
  {
   "cell_type": "code",
   "execution_count": 7,
   "id": "51bf0f43-9118-4e1e-bd06-15ffa32948c7",
   "metadata": {},
   "outputs": [
    {
     "name": "stdout",
     "output_type": "stream",
     "text": [
      "Differenz grösser als 0.0368% bei 334 Fällen\n"
     ]
    },
    {
     "data": {
      "image/png": "[encoded data removed]",
      "text/plain": [
       "<Figure size 1000x300 with 1 Axes>"
      ]
     },
     "metadata": {},
     "output_type": "display_data"
    }
   ],
   "source": [
    "ones = np.full(382,1)\n",
    "zeroes = np.full(45945, 0)\n",
    "\n",
    "master_dif = 0.0368\n",
    "sample = np.concatenate([ones, zeroes])\n",
    "\n",
    "diffs = []\n",
    "for i in range(1000):\n",
    "    np.random.shuffle(sample)\n",
    "    sample_a = sample[:23739]\n",
    "    sample_b = sample[23739:]\n",
    "    diffs.append((np.count_nonzero(sample_a == 1)/23739) * 100 - (np.count_nonzero(sample_b == 1)/22588)*100)\n",
    "diffs = np.array(diffs)\n",
    "\n",
    "\n",
    "print(f\"Differenz grösser als {master_dif}% bei {np.count_nonzero(diffs > master_dif)} Fällen\")\n",
    "\n",
    "fig = plt.figure(figsize=(10,3))\n",
    "ax1 = sns.histplot(data=diffs,stat=\"density\",color=\"lightblue\")\n",
    "ax1 = plt.vlines(master_dif, ymin=0, ymax=7, colors='red', linestyles='dashed', linewidth=2)"
   ]
  },
  {
   "cell_type": "markdown",
   "id": "afc58872-4e9b-44ca-97e9-2b7c5f4e62f7",
   "metadata": {},
   "source": [
    "![HSLU](Bilder/LogoHSLU.png)"
   ]
  }
 ],
 "metadata": {
  "kernelspec": {
   "display_name": "Python 3 (ipykernel)",
   "language": "python",
   "name": "python3"
  },
  "language_info": {
   "codemirror_mode": {
    "name": "ipython",
    "version": 3
   },
   "file_extension": ".py",
   "mimetype": "text/x-python",
   "name": "python",
   "nbconvert_exporter": "python",
   "pygments_lexer": "ipython3",
   "version": "3.13.2"
  }
 },
 "nbformat": 4,
 "nbformat_minor": 5
}
