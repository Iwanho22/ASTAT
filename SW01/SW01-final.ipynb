{
 "cells": [
  {
   "cell_type": "markdown",
   "id": "f8edfe32-7c29-46a2-939f-a0d3f4e6fa2b",
   "metadata": {},
   "source": [
    "# <span style=\"color:rgb(160,0,86)\">Datenmanipulation mit Python</span>\n",
    "\n",
    "***"
   ]
  },
  {
   "cell_type": "markdown",
   "id": "efc2b411-5d0c-45cd-a36d-deb3a678be0e",
   "metadata": {},
   "source": [
    "## <span style=\"color:rgb(160,0,86)\">Lernziele</span>\n",
    "\n",
    "- Sie wissen was eine statistische Einheit ist und können ihre Merkmale bezüglich ihrer Ausprägungen unterscheiden.\n",
    "- Sie kennen die Python Module *numpy* und *pandas*.  \n",
    "- Sie können Daten laden und einfache Operationen ausführen.  \n",
    "\n",
    "***"
   ]
  },
  {
   "cell_type": "markdown",
   "id": "e1aeb5b2-eafa-4db1-b3d5-9b13de1f83fe",
   "metadata": {},
   "source": [
    "### <span style=\"color:rgb(160,0,86)\">Was ist eine statistische Einheit?</span>\n",
    "\n",
    "- Eine **statistische Einheit** ist Träger von Informationen und Eigenschaften, die für eine statistische Untersuchung von Interesse ist.\n",
    "- Eine Eigenschaft einer statistischen Einheit, die von Interesse ist, heisst **statistisches Merkmal**.  "
   ]
  },
  {
   "cell_type": "markdown",
   "id": "2e06298c-4330-47c3-8648-09690e76b5d3",
   "metadata": {},
   "source": [
    "#### <span style=\"color:rgb(160,0,86)\">Beispiele:</span>\n",
    "\n",
    "- In einer Notenstatistik für das Modul ASTAT ist jede Studentin und jeder Student des Moduls eine statistische Einheit. Das statistische Merkmal ist die Abschlussnote an der MEP.\n",
    "- In einer schweizer Unfallstatistik im Jahr 2024 ist jeder Verkehrsunfall auf schweizer Strassen in diesem Jahr eine statistische Einheit. Statistische Merkmale können zum Beispiel Anzahl Todesopfer, Unfallkosten, Unfallstelle etc. sein.\n",
    "\n",
    "***"
   ]
  },
  {
   "cell_type": "markdown",
   "id": "87a56651-f044-45ad-a333-32eeb46b4cd5",
   "metadata": {},
   "source": [
    "### <span style=\"color:rgb(160,0,86)\">Welche Typen von Merkmalen gibt es?</span>\n",
    "\n",
    "- **Nominale Merkmale**: Die Ausprägungen des Merkmals können lediglich auf *Gleichheit* ($=$) oder *Ungleichheit* ($\\neq$) untersucht werden. <br> Zum Beispiel das Geschlecht, die Nationalität oder der Beruf einer Person.\n",
    "- **Ordinale Merkmale**: Die Ausprägungen des Merkmals haben zu der *Gleichheit* und *Ungleichheit* eine natürliche *Reihenfolge* ($>$, $<$). <br> Zum Beispiel das Gesamtprädikat eines Hochschulabschlusses mit den Auspägungen *ungenügend*, *genügend*, *befriedigend*, *gut*, *sehr gut* und *ausgezeichnet*. \n",
    "- **Metrische Merkmale**: Die Ausprägungen des Merkmals sind Zahlen. Neben dem Betrachen von *Gleichheit*, *Ungleichheit* und *Reihenfolge* kann mit diesen Ausprägungen auch *gerechnet* werden ($+\\;$, $\\,-\\;$, $\\,\\cdot\\;$, $\\,/\\;$ usw.). <br> Zum Beispiel die Temperatur (beliebige reelle Zahlen), der Umsatz (gerundete nicht negative reelle Zahlen), die Anzahl Mausklicks (nicht negative ganze Zahlen).\n"
   ]
  },
  {
   "cell_type": "markdown",
   "id": "06772c2d-197f-487b-b28c-c463e098ef17",
   "metadata": {},
   "source": [
    "### <span style=\"color:rgb(160,0,86)\">Wie werden statistische Einheiten zusammengefasst?</span>\n",
    "\n",
    "Häufig werden statistische Einheiten mit ihren Merkmalen in einem rechteckigen Schema (einer Matrix, einer Tabelle) zusammengefasst. Die Einheiten werden über die Zeilen und ihre Merkmale in den Spalten erfasst. Zum Beispiel: \n",
    "\n",
    "$$\\begin{bmatrix}\n",
    "\\text{Anna}&1981&w&176\\\\\n",
    "\\text{Beat}&2005&m&181\\\\\n",
    "\\text{Cary}&2011& &169\\\\\n",
    "\\text{Dana}&1991&w&165\\\\\n",
    "\\text{Edin}&1964&m&194\n",
    "\\end{bmatrix}$$\n"
   ]
  },
  {
   "cell_type": "markdown",
   "id": "d99f2aef-e919-408b-89ad-d0973cde4d82",
   "metadata": {},
   "source": [
    "### <span style=\"color:rgb(160,0,86)\">Sind Listen in Python eine passende Datenstruktur?</span>\n"
   ]
  },
  {
   "cell_type": "code",
   "execution_count": null,
   "id": "4fc8ab8f-15b2-4571-948c-67aa5939c151",
   "metadata": {},
   "outputs": [],
   "source": [
    "Person_1 = [5.0,5.0,5.5]\n",
    "Person_2 = [4.5,4.0,4.5]"
   ]
  },
  {
   "cell_type": "code",
   "execution_count": null,
   "id": "4589122a-3fec-4974-b6a6-a186d6194896",
   "metadata": {},
   "outputs": [],
   "source": [
    "Person_1 + Person_2"
   ]
  },
  {
   "cell_type": "code",
   "execution_count": null,
   "id": "1d106b47-0c19-42d5-84bc-b56a3ec0f9d0",
   "metadata": {},
   "outputs": [],
   "source": [
    "Person_1 * Person_2"
   ]
  },
  {
   "cell_type": "markdown",
   "id": "5dcaaca9-cf42-4a79-9920-c07558e92293",
   "metadata": {},
   "source": [
    "Nein, mit **NumPy** (Numerical Python) geht das besser! Das NumPy-Modul bietet eine Sammlung mathematischer Operationen für mehrdimensionale Arrays.\n"
   ]
  },
  {
   "cell_type": "code",
   "execution_count": null,
   "id": "9f4e8b06-e218-415b-b42b-d94ec8df8392",
   "metadata": {},
   "outputs": [],
   "source": [
    "import numpy as np\n",
    "P_1 = np.array(Person_1)\n",
    "P_2 = np.array(Person_2)"
   ]
  },
  {
   "cell_type": "code",
   "execution_count": null,
   "id": "ca29065f-f901-4acb-8e89-d1a363fc9a4e",
   "metadata": {},
   "outputs": [],
   "source": [
    "(P_1 + P_2)/2"
   ]
  },
  {
   "cell_type": "code",
   "execution_count": null,
   "id": "0645359f-a194-4da8-ac40-8dda0eb72197",
   "metadata": {},
   "outputs": [],
   "source": [
    "Noten = np.array([P_1,P_2])\n",
    "Noten"
   ]
  },
  {
   "cell_type": "code",
   "execution_count": null,
   "id": "fc4526e4-5206-4ce6-acf5-5f48a3f090c3",
   "metadata": {},
   "outputs": [],
   "source": [
    "Noten.shape"
   ]
  },
  {
   "cell_type": "code",
   "execution_count": null,
   "id": "57c9db04-7147-40f1-b6de-d316c0151185",
   "metadata": {},
   "outputs": [],
   "source": [
    "Noten.dtype"
   ]
  },
  {
   "cell_type": "code",
   "execution_count": null,
   "id": "b2b2eed1-9498-4ab0-9199-ae5379a51f81",
   "metadata": {},
   "outputs": [],
   "source": [
    "Noten[0,2]"
   ]
  },
  {
   "cell_type": "code",
   "execution_count": null,
   "id": "dd649359-1940-4912-bc07-651a38a7732d",
   "metadata": {},
   "outputs": [],
   "source": [
    "Noten[1,:]"
   ]
  },
  {
   "cell_type": "code",
   "execution_count": null,
   "id": "840ef981-a3af-4e77-9e87-2c4c7f90805a",
   "metadata": {},
   "outputs": [],
   "source": [
    "Noten[:,2]"
   ]
  },
  {
   "cell_type": "code",
   "execution_count": null,
   "id": "e3119b38-6357-4330-8bd8-4b17f5b61c03",
   "metadata": {},
   "outputs": [],
   "source": [
    "Noten[0:2,1:3]"
   ]
  },
  {
   "cell_type": "code",
   "execution_count": null,
   "id": "0477efff-95bd-4360-8c77-9b592bb1d0af",
   "metadata": {},
   "outputs": [],
   "source": [
    "Noten[0,:].max()"
   ]
  },
  {
   "cell_type": "code",
   "execution_count": null,
   "id": "2d09da90-42a8-4a02-b9a0-daab0562888e",
   "metadata": {},
   "outputs": [],
   "source": [
    "Noten[:,2].min()"
   ]
  },
  {
   "cell_type": "code",
   "execution_count": null,
   "id": "773ba1fb-a64f-4b1d-83ea-7532249aebf7",
   "metadata": {},
   "outputs": [],
   "source": [
    "Noten[1,:].sum()"
   ]
  },
  {
   "cell_type": "code",
   "execution_count": null,
   "id": "abd64751-7d1d-4fd5-ba4a-89f77334d991",
   "metadata": {},
   "outputs": [],
   "source": [
    "Noten.min()"
   ]
  },
  {
   "cell_type": "code",
   "execution_count": null,
   "id": "7ccf0549-00d3-4b9d-b2cd-f497b6a9c6d1",
   "metadata": {},
   "outputs": [],
   "source": [
    "Noten.sum(axis=0)"
   ]
  },
  {
   "cell_type": "code",
   "execution_count": null,
   "id": "600684dd-6882-43c1-a5f0-cad27fe4beaf",
   "metadata": {},
   "outputs": [],
   "source": [
    "Noten.sum(axis=1)"
   ]
  },
  {
   "cell_type": "code",
   "execution_count": null,
   "id": "7df3ecdc-9040-4c90-b43c-e5b853533e66",
   "metadata": {},
   "outputs": [],
   "source": [
    "Noten.sum()"
   ]
  },
  {
   "cell_type": "code",
   "execution_count": null,
   "id": "1263ef0d-fb89-4d9d-9337-d084cefcb819",
   "metadata": {},
   "outputs": [],
   "source": [
    "Noten.mean()"
   ]
  },
  {
   "cell_type": "code",
   "execution_count": null,
   "id": "0edc5627-fc1a-4bc5-80d2-cabcfe6122f8",
   "metadata": {},
   "outputs": [],
   "source": [
    "Noten.mean(axis=0)"
   ]
  },
  {
   "cell_type": "code",
   "execution_count": null,
   "id": "43c5dd80-55eb-4063-b5f3-4e4759e02d1c",
   "metadata": {},
   "outputs": [],
   "source": [
    "Noten.mean(axis=1)"
   ]
  },
  {
   "cell_type": "code",
   "execution_count": null,
   "id": "5be32667-3797-4443-949f-7f1025ea7674",
   "metadata": {},
   "outputs": [],
   "source": [
    "np.unique(Noten)"
   ]
  },
  {
   "cell_type": "code",
   "execution_count": null,
   "id": "fbf0293d-b8a4-4df6-ac67-9eea0e2d1cfa",
   "metadata": {},
   "outputs": [],
   "source": [
    "np.unique(Noten,return_counts=True)"
   ]
  },
  {
   "cell_type": "code",
   "execution_count": null,
   "id": "24f59d4d-fc2c-4117-8eaf-085249411e37",
   "metadata": {},
   "outputs": [],
   "source": [
    "np.unique(Noten,return_counts=True,axis=0)"
   ]
  },
  {
   "cell_type": "code",
   "execution_count": null,
   "id": "c65b2deb-b36b-4e31-b577-6dcaa1b81044",
   "metadata": {},
   "outputs": [],
   "source": [
    "marks = np.array([Person_1,Person_1,Person_1,Person_2])\n",
    "np.unique(marks,return_counts=True,axis=0)"
   ]
  },
  {
   "cell_type": "code",
   "execution_count": null,
   "id": "bf3cb6d3-0d2f-45d5-81f2-f85b23b20e60",
   "metadata": {},
   "outputs": [],
   "source": [
    "marks"
   ]
  },
  {
   "cell_type": "markdown",
   "id": "b896af3a-560f-4863-8919-63360ce8160a",
   "metadata": {},
   "source": [
    "### <span style=\"color:rgb(160,0,86)\">Wie können grosse Datenmengen verarbeitet werden?</span>\n",
    "\n",
    "Häufige Formate für Daten in Matrix-Form sind:\n",
    "\n",
    "- **csv**-Dateien (Tabulator-,Komma- oder Spalten getrennte Textdateien)\n",
    "- **ods**-, **xls**-, **xlsx**-, **mdb**-Dateien (Tabellendokumente)\n",
    "- **sav**-Dateien für SPSS\n",
    "- **dta**-Dateien für STATA\n",
    "\n",
    "**Pandas** (Panel Data) ist ein Python-Modul, das schnelle und flexible Datenstrukturen bereitstellt, die das Arbeiten mit Daten in Matrix-Form einfach und intuitiv macht."
   ]
  },
  {
   "cell_type": "markdown",
   "id": "f918750d-37ef-4ef9-8594-b0472758fcd9",
   "metadata": {},
   "source": [
    "#### <span style=\"color:rgb(160,0,86)\">Beispiel:</span>\n",
    "\n",
    "Wir wollen die folgenden Daten mit Pandas verarbeiten:\n",
    "\n",
    "$$\\begin{bmatrix}\n",
    "\\text{Greater London}&8663300&1572\\\\\n",
    "\\text{Tokyo}&9272565&627\\\\\n",
    "\\text{Paris}&2229621&105\\\\\n",
    "\\text{New York}&8491079&784\\\\\n",
    "\\end{bmatrix}$$"
   ]
  },
  {
   "cell_type": "code",
   "execution_count": null,
   "id": "c4a9a291-0ee5-4720-a50e-0bd9c756c64f",
   "metadata": {},
   "outputs": [],
   "source": [
    "names = [\"Greater London\",\"Tokyo\",\"Paris\",\"New York\"]\n",
    "population = [8663300,9272565,2229621,8491079]\n",
    "area = [1572,627,105,784]\n"
   ]
  },
  {
   "cell_type": "code",
   "execution_count": null,
   "id": "14607dcd-a3ee-4aca-8ff4-905e1ff49bc1",
   "metadata": {},
   "outputs": [],
   "source": [
    "import pandas as pd\n",
    "\n",
    "df = pd.DataFrame({\"cities\":names,\"population\":population,\"area\":area})"
   ]
  },
  {
   "cell_type": "code",
   "execution_count": null,
   "id": "d7dc384a-44ec-4d82-8748-94e9e6196460",
   "metadata": {},
   "outputs": [],
   "source": [
    "df.head(2)"
   ]
  },
  {
   "cell_type": "code",
   "execution_count": null,
   "id": "bd84dfee-c89e-4b95-a9a4-58ee8e61472b",
   "metadata": {},
   "outputs": [],
   "source": [
    "df.tail(2)"
   ]
  },
  {
   "cell_type": "code",
   "execution_count": null,
   "id": "eec1d4ac-1022-4134-9b7f-ad270953a9a2",
   "metadata": {},
   "outputs": [],
   "source": [
    "df"
   ]
  },
  {
   "cell_type": "code",
   "execution_count": null,
   "id": "af4823f5-4599-48a7-8d20-0dfe396e8ef9",
   "metadata": {},
   "outputs": [],
   "source": [
    "df.shape"
   ]
  },
  {
   "cell_type": "code",
   "execution_count": null,
   "id": "2d6777f4-36a2-47ce-a645-1d2dd382ca96",
   "metadata": {},
   "outputs": [],
   "source": [
    "df.dtypes"
   ]
  },
  {
   "cell_type": "code",
   "execution_count": null,
   "id": "b193726d-cb7c-4bd4-ac81-6f087a544180",
   "metadata": {},
   "outputs": [],
   "source": [
    "df.info()"
   ]
  },
  {
   "cell_type": "code",
   "execution_count": null,
   "id": "8bb4f66f-d30c-4005-ac30-6c0cc0fe7ca3",
   "metadata": {},
   "outputs": [],
   "source": [
    "df.columns"
   ]
  },
  {
   "cell_type": "code",
   "execution_count": null,
   "id": "e837e7ee-f65d-413e-8e58-2934d67c062a",
   "metadata": {},
   "outputs": [],
   "source": [
    "df[\"population\"][2:4]"
   ]
  },
  {
   "cell_type": "code",
   "execution_count": null,
   "id": "def24327-ff62-45d7-b428-daf2dc324c19",
   "metadata": {},
   "outputs": [],
   "source": [
    "df[[\"cities\",\"area\"]][0:1]"
   ]
  },
  {
   "cell_type": "code",
   "execution_count": null,
   "id": "b67391ca-e400-46bc-b63b-65412a38755b",
   "metadata": {},
   "outputs": [],
   "source": [
    "# Eigene Index Namen setzen\n",
    "df.set_index(\"cities\",inplace=True) # inplace=True -> direkt im df"
   ]
  },
  {
   "cell_type": "code",
   "execution_count": null,
   "id": "bb423a34-13b5-4ac7-a350-a68a356780b3",
   "metadata": {},
   "outputs": [],
   "source": [
    "df"
   ]
  },
  {
   "cell_type": "code",
   "execution_count": null,
   "id": "d6b991f6-34ba-459e-a8dd-35f6076121bb",
   "metadata": {},
   "outputs": [],
   "source": [
    "df.loc[\"Tokyo\"]"
   ]
  },
  {
   "cell_type": "code",
   "execution_count": null,
   "id": "f2a1d422-0857-45e8-84e2-f23c072fbf84",
   "metadata": {},
   "outputs": [],
   "source": [
    "df.loc[\"Tokyo\",\"population\"]"
   ]
  },
  {
   "cell_type": "code",
   "execution_count": null,
   "id": "18fc6709-a293-42f5-b240-338f22a0bbd4",
   "metadata": {},
   "outputs": [],
   "source": [
    "df[\"pop_density\"] = df[\"population\"]/df[\"area\"]\n",
    "df"
   ]
  },
  {
   "cell_type": "code",
   "execution_count": null,
   "id": "15519874-2bff-4bf3-8b47-e49d1fb353c6",
   "metadata": {},
   "outputs": [],
   "source": [
    "gla_cities = pd.read_csv(\"Daten/GLA_World_Cities_2016.csv\")\n",
    "\n",
    "gla_cities.head(3)"
   ]
  },
  {
   "cell_type": "code",
   "execution_count": null,
   "id": "b47bb35d-4abb-411c-8ca6-09bcacf0680a",
   "metadata": {},
   "outputs": [],
   "source": [
    "gla_cities.shape"
   ]
  },
  {
   "cell_type": "code",
   "execution_count": null,
   "id": "b868224d-a8cc-4352-b17d-aee5c202474c",
   "metadata": {},
   "outputs": [],
   "source": [
    "gla_cities.dropna(how=\"all\")"
   ]
  },
  {
   "cell_type": "code",
   "execution_count": null,
   "id": "3b4504db-3a3c-4a79-820a-5bc841f9b62b",
   "metadata": {},
   "outputs": [],
   "source": [
    "gla_cities.shape"
   ]
  },
  {
   "cell_type": "code",
   "execution_count": null,
   "id": "3a468f46-32d2-447e-afc9-1b308312a9be",
   "metadata": {},
   "outputs": [],
   "source": [
    "gla_cities.dropna(how=\"all\",inplace=True)"
   ]
  },
  {
   "cell_type": "code",
   "execution_count": null,
   "id": "37066a5c-fad5-4677-95fd-a87c1173df9c",
   "metadata": {},
   "outputs": [],
   "source": [
    "gla_cities.shape"
   ]
  },
  {
   "cell_type": "code",
   "execution_count": null,
   "id": "d9e30049-d1a7-4dc2-b4dc-daa2af272514",
   "metadata": {},
   "outputs": [],
   "source": [
    "renamecols = {\"Inland area in km2\":\"Area km2\"}\n",
    "gla_cities.rename(columns=renamecols,inplace=True)\n",
    "gla_cities.columns"
   ]
  },
  {
   "cell_type": "code",
   "execution_count": null,
   "id": "5c142e40-efcf-4a9c-a5ad-fce9335762f4",
   "metadata": {},
   "outputs": [],
   "source": [
    "gla_cities[\"pop_density\"] = \\\n",
    "gla_cities[\"Population\"]/gla_cities[\"Area km2\"]"
   ]
  },
  {
   "cell_type": "code",
   "execution_count": null,
   "id": "a7eca0d5-d470-4ca5-9c51-0af882a8adf5",
   "metadata": {},
   "outputs": [],
   "source": [
    "gla_cities[\"Population\"] = \\\n",
    "gla_cities[\"Population\"].str.replace(\",\",\"\").astype(float)\n",
    "gla_cities.head(3)"
   ]
  },
  {
   "cell_type": "code",
   "execution_count": null,
   "id": "abc17411-5481-4d4f-b771-c83840f11fb5",
   "metadata": {},
   "outputs": [],
   "source": [
    "gla_cities[\"Area km2\"] = \\\n",
    "gla_cities[\"Area km2\"].str.replace(\",\",\"\").astype(float)\n",
    "gla_cities[\"Dwellings\"] = \\\n",
    "gla_cities[\"Dwellings\"].str.replace(\",\",\"\").astype(float)"
   ]
  },
  {
   "cell_type": "code",
   "execution_count": null,
   "id": "6209a873-c5d7-46d3-9bfb-1c5a3fc81dd3",
   "metadata": {},
   "outputs": [],
   "source": [
    "gla_cities[\"pop_density\"] = \\\n",
    "gla_cities[\"Population\"]/gla_cities[\"Area km2\"]\n",
    "gla_cities[\"pop_density\"].head(3)"
   ]
  },
  {
   "cell_type": "code",
   "execution_count": null,
   "id": "a70657be-ad9b-4f09-9a20-7cfa5edfa3bf",
   "metadata": {},
   "outputs": [],
   "source": [
    "gla_cities[\"Population (M)\"] = gla_cities[\"Population\"]/1000000 \n",
    "gla_cities.head(3)"
   ]
  },
  {
   "cell_type": "code",
   "execution_count": null,
   "id": "caf6c4bf-6d23-4097-87e9-678a89cc5370",
   "metadata": {},
   "outputs": [],
   "source": [
    "def city_size(x):\n",
    "    if x < 1.5:\n",
    "        s = \"Small\"\n",
    "    elif 1.5 <= x < 3:\n",
    "        s = \"Medium\"\n",
    "    elif 3 <= x < 5:\n",
    "        s = \"Large\"\n",
    "    else:\n",
    "        s = \"Mega\"\n",
    "    return s"
   ]
  },
  {
   "cell_type": "code",
   "execution_count": null,
   "id": "56bf0e1c-d89f-4564-8b37-37f4ed173d52",
   "metadata": {},
   "outputs": [],
   "source": [
    "gla_cities[\"City Size\"] = \\\n",
    "gla_cities[\"Population (M)\"].apply(city_size)\n",
    "gla_cities.head(3)"
   ]
  },
  {
   "cell_type": "code",
   "execution_count": null,
   "id": "423ac954-be81-4e5f-bafe-2aff60e92690",
   "metadata": {},
   "outputs": [],
   "source": [
    "gla_cities[gla_cities[\"City Size\"]==\"Small\"]"
   ]
  },
  {
   "cell_type": "code",
   "execution_count": null,
   "id": "ac1f6836-425f-4060-bf19-47084f29eb62",
   "metadata": {},
   "outputs": [],
   "source": [
    "gla_cities[[\"City\",\"Population (M)\"]][gla_cities[\"Population (M)\"]>8]"
   ]
  },
  {
   "cell_type": "code",
   "execution_count": null,
   "id": "f89ab9f1-77bc-42d1-ab03-fc77e0fd5c72",
   "metadata": {},
   "outputs": [],
   "source": [
    "gla_grouped = gla_cities.groupby(\"City Size\")\n",
    "gla_grouped.size()"
   ]
  },
  {
   "cell_type": "code",
   "execution_count": null,
   "id": "c5cd31c7-d3c0-4ac2-9859-409274aec9fa",
   "metadata": {},
   "outputs": [],
   "source": [
    "gla_grouped[\"Population (M)\"].mean()"
   ]
  },
  {
   "cell_type": "code",
   "execution_count": null,
   "id": "9c4586ca-085a-48aa-83c3-2d141147f04f",
   "metadata": {},
   "outputs": [],
   "source": [
    "gla_grouped[\"Population (M)\"].min()"
   ]
  },
  {
   "cell_type": "markdown",
   "id": "f1b22231-13dc-49cd-836a-fdaf5021da43",
   "metadata": {
    "jp-MarkdownHeadingCollapsed": true
   },
   "source": [
    "### <span style=\"color:rgb(160,0,86)\">Aufgabe 1</span>\n",
    "\n",
    "Diese Aufgabe befasst wir uns mit dem Datensatz **weather.csv** im Ordner Daten.\n",
    "\n",
    "- Laden Sie den Datensatz und speichern Sie diesen unter der Variable **data**.\n",
    "- Wählen Sie den Wert der zweiten Zeile und dritten Spalte aus.\n",
    "- Wählen Sie die 4. Zeile aus.\n",
    "- Wählen Sie die 1. und die 4. Spalte aus.\n",
    "- Ersetzen Sie den Spaltennamen Basel durch Genf.\n",
    "- Bestimmen Sie die mittleren Temperaturen aller Städte.\n",
    "- Bestimmen Sie die mittleren Temperaturen aller Monate.\n",
    "- Ergänzen Sie eine Spalte mit den mittleren monatlichen Temperaturen."
   ]
  },
  {
   "cell_type": "markdown",
   "id": "3adc35fd-915f-4c47-9dd6-5293781e9eec",
   "metadata": {},
   "source": [
    "***\n",
    "\n",
    "### <span style=\"color:rgb(160,0,86)\">Lösungsvorschlag</span>"
   ]
  },
  {
   "cell_type": "code",
   "execution_count": 1,
   "id": "1528b131-f566-4002-8800-84d6d65c5dea",
   "metadata": {},
   "outputs": [
    {
     "data": {
      "text/plain": [
       "(6, 4)"
      ]
     },
     "execution_count": 1,
     "metadata": {},
     "output_type": "execute_result"
    }
   ],
   "source": [
    "import pandas as pd\n",
    "import numpy as np\n",
    "\n",
    "data = pd.read_csv(\"Daten/weather.csv\")\n",
    "data.shape"
   ]
  },
  {
   "cell_type": "code",
   "execution_count": 2,
   "id": "a8caf26a-3a05-4da8-9b1f-5a6f13c1fd3c",
   "metadata": {},
   "outputs": [
    {
     "data": {
      "text/plain": [
       "Index(['Luzern', 'Basel', 'Chur', 'Zurich'], dtype='object')"
      ]
     },
     "execution_count": 2,
     "metadata": {},
     "output_type": "execute_result"
    }
   ],
   "source": [
    "data.columns"
   ]
  },
  {
   "cell_type": "code",
   "execution_count": 3,
   "id": "775ce0a1-64fd-46a0-a638-efc86cb94e29",
   "metadata": {},
   "outputs": [
    {
     "data": {
      "text/plain": [
       "Index(['Jan', 'Feb', 'Mar', 'Apr', 'May', 'Jun'], dtype='object')"
      ]
     },
     "execution_count": 3,
     "metadata": {},
     "output_type": "execute_result"
    }
   ],
   "source": [
    "data.index"
   ]
  },
  {
   "cell_type": "markdown",
   "id": "b60feec8-6dbf-43a1-a665-e0353f659184",
   "metadata": {},
   "source": [
    "Die Zeilen und Spalten sind durch Namen gegeben. "
   ]
  },
  {
   "cell_type": "code",
   "execution_count": 4,
   "id": "a9413429-d6f4-43d8-8d7e-f28187b1a347",
   "metadata": {},
   "outputs": [
    {
     "data": {
      "text/plain": [
       "1"
      ]
     },
     "execution_count": 4,
     "metadata": {},
     "output_type": "execute_result"
    }
   ],
   "source": [
    "data.loc[\"Feb\",\"Chur\"]"
   ]
  },
  {
   "cell_type": "code",
   "execution_count": 70,
   "id": "57f20e47-8e6c-49fc-a6d5-49252237adc1",
   "metadata": {},
   "outputs": [
    {
     "data": {
      "text/plain": [
       "Luzern    16\n",
       "Basel     12\n",
       "Chur      14\n",
       "Zurich    17\n",
       "Name: Apr, dtype: int64"
      ]
     },
     "execution_count": 70,
     "metadata": {},
     "output_type": "execute_result"
    }
   ],
   "source": [
    "data.loc[\"Apr\",:]"
   ]
  },
  {
   "cell_type": "code",
   "execution_count": 71,
   "id": "9cbbebaf-f090-4445-9894-87ac60bb47b8",
   "metadata": {},
   "outputs": [
    {
     "data": {
      "text/html": [
       "<div>\n",
       "<style scoped>\n",
       "    .dataframe tbody tr th:only-of-type {\n",
       "        vertical-align: middle;\n",
       "    }\n",
       "\n",
       "    .dataframe tbody tr th {\n",
       "        vertical-align: top;\n",
       "    }\n",
       "\n",
       "    .dataframe thead th {\n",
       "        text-align: right;\n",
       "    }\n",
       "</style>\n",
       "<table border=\"1\" class=\"dataframe\">\n",
       "  <thead>\n",
       "    <tr style=\"text-align: right;\">\n",
       "      <th></th>\n",
       "      <th>Luzern</th>\n",
       "      <th>Zurich</th>\n",
       "    </tr>\n",
       "  </thead>\n",
       "  <tbody>\n",
       "    <tr>\n",
       "      <th>Jan</th>\n",
       "      <td>2</td>\n",
       "      <td>4</td>\n",
       "    </tr>\n",
       "    <tr>\n",
       "      <th>Feb</th>\n",
       "      <td>5</td>\n",
       "      <td>0</td>\n",
       "    </tr>\n",
       "    <tr>\n",
       "      <th>Mar</th>\n",
       "      <td>10</td>\n",
       "      <td>8</td>\n",
       "    </tr>\n",
       "    <tr>\n",
       "      <th>Apr</th>\n",
       "      <td>16</td>\n",
       "      <td>17</td>\n",
       "    </tr>\n",
       "    <tr>\n",
       "      <th>May</th>\n",
       "      <td>21</td>\n",
       "      <td>20</td>\n",
       "    </tr>\n",
       "    <tr>\n",
       "      <th>Jun</th>\n",
       "      <td>25</td>\n",
       "      <td>27</td>\n",
       "    </tr>\n",
       "  </tbody>\n",
       "</table>\n",
       "</div>"
      ],
      "text/plain": [
       "     Luzern  Zurich\n",
       "Jan       2       4\n",
       "Feb       5       0\n",
       "Mar      10       8\n",
       "Apr      16      17\n",
       "May      21      20\n",
       "Jun      25      27"
      ]
     },
     "execution_count": 71,
     "metadata": {},
     "output_type": "execute_result"
    }
   ],
   "source": [
    "data.loc[:,[\"Luzern\",\"Zurich\"]]"
   ]
  },
  {
   "cell_type": "markdown",
   "id": "968c6b75-8b98-483e-8801-84d40f144f8b",
   "metadata": {},
   "source": [
    "Wenn wir trotzdem **mit Indizes** auf die Daten zugreiffen wollen, können wir mit \n",
    "\n",
    "\n",
    "```python\n",
    "iloc[zeilenIndex,spaltenIndex]\n",
    "```\n",
    "\n",
    "\n",
    "arbeiten: "
   ]
  },
  {
   "cell_type": "code",
   "execution_count": 5,
   "id": "10533c0f-24d6-4715-95d6-d39602ab96f3",
   "metadata": {},
   "outputs": [
    {
     "data": {
      "text/plain": [
       "1"
      ]
     },
     "execution_count": 5,
     "metadata": {},
     "output_type": "execute_result"
    }
   ],
   "source": [
    "data.iloc[1,2]"
   ]
  },
  {
   "cell_type": "code",
   "execution_count": 72,
   "id": "f219363e-df67-447a-bb11-cd31ddbe6290",
   "metadata": {},
   "outputs": [
    {
     "data": {
      "text/plain": [
       "Luzern    16\n",
       "Basel     12\n",
       "Chur      14\n",
       "Zurich    17\n",
       "Name: Apr, dtype: int64"
      ]
     },
     "execution_count": 72,
     "metadata": {},
     "output_type": "execute_result"
    }
   ],
   "source": [
    "data.iloc[3,:]"
   ]
  },
  {
   "cell_type": "code",
   "execution_count": 7,
   "id": "dac7cd7a-6101-441d-8eb4-776d7b756a0d",
   "metadata": {},
   "outputs": [
    {
     "data": {
      "text/html": [
       "<div>\n",
       "<style scoped>\n",
       "    .dataframe tbody tr th:only-of-type {\n",
       "        vertical-align: middle;\n",
       "    }\n",
       "\n",
       "    .dataframe tbody tr th {\n",
       "        vertical-align: top;\n",
       "    }\n",
       "\n",
       "    .dataframe thead th {\n",
       "        text-align: right;\n",
       "    }\n",
       "</style>\n",
       "<table border=\"1\" class=\"dataframe\">\n",
       "  <thead>\n",
       "    <tr style=\"text-align: right;\">\n",
       "      <th></th>\n",
       "      <th>Luzern</th>\n",
       "      <th>Zurich</th>\n",
       "    </tr>\n",
       "  </thead>\n",
       "  <tbody>\n",
       "    <tr>\n",
       "      <th>Jan</th>\n",
       "      <td>2</td>\n",
       "      <td>4</td>\n",
       "    </tr>\n",
       "    <tr>\n",
       "      <th>Feb</th>\n",
       "      <td>5</td>\n",
       "      <td>0</td>\n",
       "    </tr>\n",
       "    <tr>\n",
       "      <th>Mar</th>\n",
       "      <td>10</td>\n",
       "      <td>8</td>\n",
       "    </tr>\n",
       "    <tr>\n",
       "      <th>Apr</th>\n",
       "      <td>16</td>\n",
       "      <td>17</td>\n",
       "    </tr>\n",
       "    <tr>\n",
       "      <th>May</th>\n",
       "      <td>21</td>\n",
       "      <td>20</td>\n",
       "    </tr>\n",
       "    <tr>\n",
       "      <th>Jun</th>\n",
       "      <td>25</td>\n",
       "      <td>27</td>\n",
       "    </tr>\n",
       "  </tbody>\n",
       "</table>\n",
       "</div>"
      ],
      "text/plain": [
       "     Luzern  Zurich\n",
       "Jan       2       4\n",
       "Feb       5       0\n",
       "Mar      10       8\n",
       "Apr      16      17\n",
       "May      21      20\n",
       "Jun      25      27"
      ]
     },
     "execution_count": 7,
     "metadata": {},
     "output_type": "execute_result"
    }
   ],
   "source": [
    "data.iloc[:,[0,3]]"
   ]
  },
  {
   "cell_type": "code",
   "execution_count": 8,
   "id": "72c7a2ff-b9c0-4845-a25d-bdda6ac7b519",
   "metadata": {},
   "outputs": [
    {
     "data": {
      "text/plain": [
       "Index(['Luzern', 'Genf', 'Chur', 'Zurich'], dtype='object')"
      ]
     },
     "execution_count": 8,
     "metadata": {},
     "output_type": "execute_result"
    }
   ],
   "source": [
    "data.rename(columns={\"Basel\":\"Genf\"},inplace=True)\n",
    "data.columns"
   ]
  },
  {
   "cell_type": "code",
   "execution_count": 9,
   "id": "3ca4c0be-ea1c-464e-ab56-b73364e7f323",
   "metadata": {},
   "outputs": [
    {
     "data": {
      "text/plain": [
       "Luzern    13.166667\n",
       "Genf      13.000000\n",
       "Chur      11.500000\n",
       "Zurich    12.666667\n",
       "dtype: float64"
      ]
     },
     "execution_count": 9,
     "metadata": {},
     "output_type": "execute_result"
    }
   ],
   "source": [
    "data.mean(axis=0)"
   ]
  },
  {
   "cell_type": "code",
   "execution_count": 10,
   "id": "9cb1d11b-d4f8-44b0-aee8-7f810e232cd9",
   "metadata": {},
   "outputs": [
    {
     "data": {
      "text/plain": [
       "Jan     2.00\n",
       "Feb     3.00\n",
       "Mar    10.50\n",
       "Apr    14.75\n",
       "May    21.25\n",
       "Jun    24.00\n",
       "dtype: float64"
      ]
     },
     "execution_count": 10,
     "metadata": {},
     "output_type": "execute_result"
    }
   ],
   "source": [
    "data.mean(axis=1)"
   ]
  },
  {
   "cell_type": "code",
   "execution_count": 11,
   "id": "11defd5f-7ebd-43bc-a667-9c3f4e458cbd",
   "metadata": {},
   "outputs": [
    {
     "data": {
      "text/html": [
       "<div>\n",
       "<style scoped>\n",
       "    .dataframe tbody tr th:only-of-type {\n",
       "        vertical-align: middle;\n",
       "    }\n",
       "\n",
       "    .dataframe tbody tr th {\n",
       "        vertical-align: top;\n",
       "    }\n",
       "\n",
       "    .dataframe thead th {\n",
       "        text-align: right;\n",
       "    }\n",
       "</style>\n",
       "<table border=\"1\" class=\"dataframe\">\n",
       "  <thead>\n",
       "    <tr style=\"text-align: right;\">\n",
       "      <th></th>\n",
       "      <th>Luzern</th>\n",
       "      <th>Genf</th>\n",
       "      <th>Chur</th>\n",
       "      <th>Zurich</th>\n",
       "      <th>Mittlere Temperatur</th>\n",
       "    </tr>\n",
       "  </thead>\n",
       "  <tbody>\n",
       "    <tr>\n",
       "      <th>Jan</th>\n",
       "      <td>2</td>\n",
       "      <td>5</td>\n",
       "      <td>-3</td>\n",
       "      <td>4</td>\n",
       "      <td>2.0</td>\n",
       "    </tr>\n",
       "    <tr>\n",
       "      <th>Feb</th>\n",
       "      <td>5</td>\n",
       "      <td>6</td>\n",
       "      <td>1</td>\n",
       "      <td>0</td>\n",
       "      <td>3.0</td>\n",
       "    </tr>\n",
       "    <tr>\n",
       "      <th>Mar</th>\n",
       "      <td>10</td>\n",
       "      <td>11</td>\n",
       "      <td>13</td>\n",
       "      <td>8</td>\n",
       "      <td>10.5</td>\n",
       "    </tr>\n",
       "  </tbody>\n",
       "</table>\n",
       "</div>"
      ],
      "text/plain": [
       "     Luzern  Genf  Chur  Zurich  Mittlere Temperatur\n",
       "Jan       2     5    -3       4                  2.0\n",
       "Feb       5     6     1       0                  3.0\n",
       "Mar      10    11    13       8                 10.5"
      ]
     },
     "execution_count": 11,
     "metadata": {},
     "output_type": "execute_result"
    }
   ],
   "source": [
    "data[\"Mittlere Temperatur\"] = data.mean(axis=1)\n",
    "data.head(3)"
   ]
  },
  {
   "cell_type": "markdown",
   "id": "a31a4bcd-4780-498d-b6f6-971f10fe9300",
   "metadata": {},
   "source": [
    "***"
   ]
  },
  {
   "cell_type": "markdown",
   "id": "940af48f-22e1-4363-a5ed-5e21db3fc721",
   "metadata": {
    "jp-MarkdownHeadingCollapsed": true
   },
   "source": [
    "### <span style=\"color:rgb(160,0,86)\">Aufgabe 2</span>\n",
    "\n",
    "Das Dataframe **d.fuel** im Ordner Daten enthält die Daten verschiedener Fahrzeuge aus einer amerikanischen Untersuchung der 80er-Jahre. Jede Zeile enthält die Daten eines\n",
    "Fahrzeuges (ein Fahrzeug entspricht einer statistischen Einheit).\n",
    "\n",
    "- Laden Sie das Dataframe.\n",
    "- Beschreiben Sie die Ausprägung der Merkmale.\n",
    "- Wählen Sie die fünfte Zeile des Dataframe aus. Welche Werte stehen in der fünften Zeile?\n",
    "- Wählen Sie die erste bis fünfte Beobachtung des Dataframes aus.\n",
    "- Zeigen Sie gleichzeitig die 1. bis 3. und die 57. bis 60. Beobachtung des Dataframes an.\n",
    "- Berechnen Sie den Mittelwert der Reichweiten aller Autos in Miles/Gallon.\n",
    "- Berechnen Sie den Mittelwert der Reichweiten der Autos 7 bis 22.\n",
    "- Ergänzen Sie eine Spalte **t.kml**, die alle Reichweiten in km/l, und\n",
    "eine Spalte **t.kg**, die alle Gewichte in kg enthält.\n",
    "- Berechnen Sie den Mittelwert der Reichweiten in km/l und denjenigen der Fahrzeuggewichte in kg.\n",
    "- Bestimmen Sie das mittlere Gewicht der Sportwagen (*Sporty*)."
   ]
  },
  {
   "cell_type": "markdown",
   "id": "00e175e7-e861-48f9-a22b-1de7a8d0d7a2",
   "metadata": {},
   "source": [
    "***\n",
    "\n",
    "### <span style=\"color:rgb(160,0,86)\">Lösungsvorschlag</span>"
   ]
  },
  {
   "cell_type": "markdown",
   "id": "70b0605a-fd15-4dc3-a602-a10386a296ac",
   "metadata": {},
   "source": [
    "- Laden Sie das Dataframe."
   ]
  },
  {
   "cell_type": "code",
   "execution_count": 12,
   "id": "51bf0f43-9118-4e1e-bd06-15ffa32948c7",
   "metadata": {},
   "outputs": [
    {
     "data": {
      "text/html": [
       "<div>\n",
       "<style scoped>\n",
       "    .dataframe tbody tr th:only-of-type {\n",
       "        vertical-align: middle;\n",
       "    }\n",
       "\n",
       "    .dataframe tbody tr th {\n",
       "        vertical-align: top;\n",
       "    }\n",
       "\n",
       "    .dataframe thead th {\n",
       "        text-align: right;\n",
       "    }\n",
       "</style>\n",
       "<table border=\"1\" class=\"dataframe\">\n",
       "  <thead>\n",
       "    <tr style=\"text-align: right;\">\n",
       "      <th></th>\n",
       "      <th>X</th>\n",
       "      <th>weight</th>\n",
       "      <th>mpg</th>\n",
       "      <th>type</th>\n",
       "    </tr>\n",
       "  </thead>\n",
       "  <tbody>\n",
       "    <tr>\n",
       "      <th>0</th>\n",
       "      <td>1</td>\n",
       "      <td>2560</td>\n",
       "      <td>33</td>\n",
       "      <td>Small</td>\n",
       "    </tr>\n",
       "    <tr>\n",
       "      <th>1</th>\n",
       "      <td>2</td>\n",
       "      <td>2345</td>\n",
       "      <td>33</td>\n",
       "      <td>Small</td>\n",
       "    </tr>\n",
       "    <tr>\n",
       "      <th>2</th>\n",
       "      <td>3</td>\n",
       "      <td>1845</td>\n",
       "      <td>37</td>\n",
       "      <td>Small</td>\n",
       "    </tr>\n",
       "  </tbody>\n",
       "</table>\n",
       "</div>"
      ],
      "text/plain": [
       "   X  weight  mpg   type\n",
       "0  1    2560   33  Small\n",
       "1  2    2345   33  Small\n",
       "2  3    1845   37  Small"
      ]
     },
     "execution_count": 12,
     "metadata": {},
     "output_type": "execute_result"
    }
   ],
   "source": [
    "import pandas as pd\n",
    "import numpy as np\n",
    "\n",
    "df_fuel = pd.read_csv(\"Daten/d.fuel.dat\")\n",
    "df_fuel.head(3)"
   ]
  },
  {
   "cell_type": "markdown",
   "id": "39fceb2d-f57a-44a8-8e8f-f154c926afeb",
   "metadata": {},
   "source": [
    "- Beschreiben Sie die Ausprägung der Merkmale."
   ]
  },
  {
   "cell_type": "code",
   "execution_count": 13,
   "id": "2b356c16-21d1-4a69-8951-40cd26792bc6",
   "metadata": {},
   "outputs": [
    {
     "data": {
      "text/plain": [
       "X         [1, 2, 3, 4, 5, 6, 7, 8, 9, 10, 11, 12, 13, 14...\n",
       "weight    [1845, 1900, 2075, 2170, 2260, 2275, 2285, 229...\n",
       "mpg       [18, 19, 20, 21, 22, 23, 24, 25, 26, 27, 28, 2...\n",
       "type           [Compact, Large, Medium, Small, Sporty, Van]\n",
       "dtype: object"
      ]
     },
     "execution_count": 13,
     "metadata": {},
     "output_type": "execute_result"
    }
   ],
   "source": [
    "df_fuel.apply(np.unique)"
   ]
  },
  {
   "cell_type": "markdown",
   "id": "a7b51b64-318d-4a4b-a66e-13b6c5235117",
   "metadata": {},
   "source": [
    "Die Ausprägungen der Merkmale sind\n",
    "- X: **numerisch** (*eine positive ganze Zahl*)\n",
    "- weight: **numerisch** (*eine nicht negative Zahl*)\n",
    "- mpg: **numerisch** (*eine nicht negative Zahl*)\n",
    "- type: **nominal** (*Compact*, *Large*, *Medium*, *Small*, *Sporty*, *Van*) "
   ]
  },
  {
   "cell_type": "markdown",
   "id": "82bf4ecf-467c-4f73-af5b-37c41a7b0820",
   "metadata": {},
   "source": [
    "- Wählen Sie die fünfte Zeile des Dataframe aus. Welche Werte stehen in der fünften Zeile?"
   ]
  },
  {
   "cell_type": "code",
   "execution_count": 14,
   "id": "d9676611-a8d5-4105-92ae-97ab06085a94",
   "metadata": {},
   "outputs": [
    {
     "data": {
      "text/plain": [
       "Index([ 1,  2,  3,  4,  5,  6,  7,  8,  9, 10, 11, 12, 13, 14, 15, 16, 17, 18,\n",
       "       19, 20, 21, 22, 23, 24, 25, 26, 27, 28, 29, 30, 31, 32, 33, 34, 35, 36,\n",
       "       37, 38, 39, 40, 41, 42, 43, 44, 45, 46, 47, 48, 49, 50, 51, 52, 53, 54,\n",
       "       55, 56, 57, 58, 59, 60],\n",
       "      dtype='int64', name='X')"
      ]
     },
     "execution_count": 14,
     "metadata": {},
     "output_type": "execute_result"
    }
   ],
   "source": [
    "df_fuel.set_index(\"X\",inplace=True)\n",
    "df_fuel.index"
   ]
  },
  {
   "cell_type": "code",
   "execution_count": 15,
   "id": "00e9abdc-b123-4224-945a-61404dddc776",
   "metadata": {},
   "outputs": [
    {
     "data": {
      "text/plain": [
       "weight     2440\n",
       "mpg          32\n",
       "type      Small\n",
       "Name: 5, dtype: object"
      ]
     },
     "execution_count": 15,
     "metadata": {},
     "output_type": "execute_result"
    }
   ],
   "source": [
    "df_fuel.loc[5,:]"
   ]
  },
  {
   "cell_type": "markdown",
   "id": "2a408c08-6d0d-4351-a757-c3fe3ba96fb6",
   "metadata": {},
   "source": [
    "- Wählen Sie die erste bis fünfte Beobachtung des Dataframes aus."
   ]
  },
  {
   "cell_type": "code",
   "execution_count": 16,
   "id": "832b71e0-d665-43c2-9805-1c6b7004d72b",
   "metadata": {},
   "outputs": [
    {
     "data": {
      "text/html": [
       "<div>\n",
       "<style scoped>\n",
       "    .dataframe tbody tr th:only-of-type {\n",
       "        vertical-align: middle;\n",
       "    }\n",
       "\n",
       "    .dataframe tbody tr th {\n",
       "        vertical-align: top;\n",
       "    }\n",
       "\n",
       "    .dataframe thead th {\n",
       "        text-align: right;\n",
       "    }\n",
       "</style>\n",
       "<table border=\"1\" class=\"dataframe\">\n",
       "  <thead>\n",
       "    <tr style=\"text-align: right;\">\n",
       "      <th></th>\n",
       "      <th>weight</th>\n",
       "      <th>mpg</th>\n",
       "      <th>type</th>\n",
       "    </tr>\n",
       "    <tr>\n",
       "      <th>X</th>\n",
       "      <th></th>\n",
       "      <th></th>\n",
       "      <th></th>\n",
       "    </tr>\n",
       "  </thead>\n",
       "  <tbody>\n",
       "    <tr>\n",
       "      <th>1</th>\n",
       "      <td>2560</td>\n",
       "      <td>33</td>\n",
       "      <td>Small</td>\n",
       "    </tr>\n",
       "    <tr>\n",
       "      <th>2</th>\n",
       "      <td>2345</td>\n",
       "      <td>33</td>\n",
       "      <td>Small</td>\n",
       "    </tr>\n",
       "    <tr>\n",
       "      <th>3</th>\n",
       "      <td>1845</td>\n",
       "      <td>37</td>\n",
       "      <td>Small</td>\n",
       "    </tr>\n",
       "    <tr>\n",
       "      <th>4</th>\n",
       "      <td>2260</td>\n",
       "      <td>32</td>\n",
       "      <td>Small</td>\n",
       "    </tr>\n",
       "    <tr>\n",
       "      <th>5</th>\n",
       "      <td>2440</td>\n",
       "      <td>32</td>\n",
       "      <td>Small</td>\n",
       "    </tr>\n",
       "  </tbody>\n",
       "</table>\n",
       "</div>"
      ],
      "text/plain": [
       "   weight  mpg   type\n",
       "X                    \n",
       "1    2560   33  Small\n",
       "2    2345   33  Small\n",
       "3    1845   37  Small\n",
       "4    2260   32  Small\n",
       "5    2440   32  Small"
      ]
     },
     "execution_count": 16,
     "metadata": {},
     "output_type": "execute_result"
    }
   ],
   "source": [
    "df_fuel.loc[1:5,:]"
   ]
  },
  {
   "cell_type": "markdown",
   "id": "996fc5b7-d207-4df5-a388-bdead55505a5",
   "metadata": {},
   "source": [
    "- Zeigen Sie gleichzeitig die 1. bis 3. und die 57. bis 60. Beobachtung des Dataframes an."
   ]
  },
  {
   "cell_type": "code",
   "execution_count": 17,
   "id": "93894b4e-0ca6-42fb-b324-2d64ec39a089",
   "metadata": {},
   "outputs": [
    {
     "data": {
      "text/html": [
       "<div>\n",
       "<style scoped>\n",
       "    .dataframe tbody tr th:only-of-type {\n",
       "        vertical-align: middle;\n",
       "    }\n",
       "\n",
       "    .dataframe tbody tr th {\n",
       "        vertical-align: top;\n",
       "    }\n",
       "\n",
       "    .dataframe thead th {\n",
       "        text-align: right;\n",
       "    }\n",
       "</style>\n",
       "<table border=\"1\" class=\"dataframe\">\n",
       "  <thead>\n",
       "    <tr style=\"text-align: right;\">\n",
       "      <th></th>\n",
       "      <th>weight</th>\n",
       "      <th>mpg</th>\n",
       "      <th>type</th>\n",
       "    </tr>\n",
       "    <tr>\n",
       "      <th>X</th>\n",
       "      <th></th>\n",
       "      <th></th>\n",
       "      <th></th>\n",
       "    </tr>\n",
       "  </thead>\n",
       "  <tbody>\n",
       "    <tr>\n",
       "      <th>1</th>\n",
       "      <td>2560</td>\n",
       "      <td>33</td>\n",
       "      <td>Small</td>\n",
       "    </tr>\n",
       "    <tr>\n",
       "      <th>2</th>\n",
       "      <td>2345</td>\n",
       "      <td>33</td>\n",
       "      <td>Small</td>\n",
       "    </tr>\n",
       "    <tr>\n",
       "      <th>3</th>\n",
       "      <td>1845</td>\n",
       "      <td>37</td>\n",
       "      <td>Small</td>\n",
       "    </tr>\n",
       "    <tr>\n",
       "      <th>57</th>\n",
       "      <td>3735</td>\n",
       "      <td>19</td>\n",
       "      <td>Van</td>\n",
       "    </tr>\n",
       "    <tr>\n",
       "      <th>58</th>\n",
       "      <td>3415</td>\n",
       "      <td>20</td>\n",
       "      <td>Van</td>\n",
       "    </tr>\n",
       "    <tr>\n",
       "      <th>59</th>\n",
       "      <td>3185</td>\n",
       "      <td>20</td>\n",
       "      <td>Van</td>\n",
       "    </tr>\n",
       "    <tr>\n",
       "      <th>60</th>\n",
       "      <td>3690</td>\n",
       "      <td>19</td>\n",
       "      <td>Van</td>\n",
       "    </tr>\n",
       "  </tbody>\n",
       "</table>\n",
       "</div>"
      ],
      "text/plain": [
       "    weight  mpg   type\n",
       "X                     \n",
       "1     2560   33  Small\n",
       "2     2345   33  Small\n",
       "3     1845   37  Small\n",
       "57    3735   19    Van\n",
       "58    3415   20    Van\n",
       "59    3185   20    Van\n",
       "60    3690   19    Van"
      ]
     },
     "execution_count": 17,
     "metadata": {},
     "output_type": "execute_result"
    }
   ],
   "source": [
    "df_fuel.loc[[1,2,3,57,58,59,60],:]"
   ]
  },
  {
   "cell_type": "markdown",
   "id": "fe2e1e7f-ea8a-433a-a428-07f5afbc0766",
   "metadata": {},
   "source": [
    "- Berechnen Sie den Mittelwert der Reichweiten aller Autos in Miles/Gallon."
   ]
  },
  {
   "cell_type": "code",
   "execution_count": 18,
   "id": "de33782d-984b-4a2e-ae39-df7d62c7738b",
   "metadata": {},
   "outputs": [
    {
     "data": {
      "text/plain": [
       "24.583333333333332"
      ]
     },
     "execution_count": 18,
     "metadata": {},
     "output_type": "execute_result"
    }
   ],
   "source": [
    "df_fuel.loc[:,\"mpg\"].mean()"
   ]
  },
  {
   "cell_type": "markdown",
   "id": "e152c0da-a71d-485c-805a-bc2edff42b27",
   "metadata": {},
   "source": [
    "- Berechnen Sie den Mittelwert der Reichweiten der Autos 7 bis 22."
   ]
  },
  {
   "cell_type": "code",
   "execution_count": 19,
   "id": "8ed04d9e-5816-4a28-81b5-d37c5d66b071",
   "metadata": {},
   "outputs": [
    {
     "data": {
      "text/plain": [
       "27.75"
      ]
     },
     "execution_count": 19,
     "metadata": {},
     "output_type": "execute_result"
    }
   ],
   "source": [
    "df_fuel.loc[7:22,\"mpg\"].mean()"
   ]
  },
  {
   "cell_type": "markdown",
   "id": "7dd79e89-4f35-4b40-a996-3c71690ae7cc",
   "metadata": {},
   "source": [
    "- Ergänzen Sie eine Spalte **t.kml**, die alle Reichweiten in km/l, und\n",
    "eine Spalte **t.kg**, die alle Gewichte in kg enthält.\n",
    "\n",
    "Für die amerikanischen Einheiten gelten:\n",
    "- Ein **Pound** entspricht **0.453592 Kilogramm**\n",
    "- Eine **Gallone** entspricht **3.78541 Liter**\n",
    "- Eine **Meile** entspricht **1.60934 Kilometer**\n",
    "\n",
    "Wenn ein Fahrzeut eine Reichweite von $x$ mpg hat, fährt es $x$ Meilen mit einer Gallone.<br>\n",
    "\n",
    "Das heisst, es fährt $x\\cdot 1.60934$ Kilometer mit einer Gallone.<br>\n",
    "\n",
    "Also fährt das Fahrzeug $\\displaystyle\\frac{x\\cdot 1.60934}{3.78541}$ Kilometer mit einem Liter."
   ]
  },
  {
   "cell_type": "code",
   "execution_count": 20,
   "id": "57f8d4f2-4ef5-4344-af5c-ea1cefd1f5eb",
   "metadata": {},
   "outputs": [
    {
     "data": {
      "text/html": [
       "<div>\n",
       "<style scoped>\n",
       "    .dataframe tbody tr th:only-of-type {\n",
       "        vertical-align: middle;\n",
       "    }\n",
       "\n",
       "    .dataframe tbody tr th {\n",
       "        vertical-align: top;\n",
       "    }\n",
       "\n",
       "    .dataframe thead th {\n",
       "        text-align: right;\n",
       "    }\n",
       "</style>\n",
       "<table border=\"1\" class=\"dataframe\">\n",
       "  <thead>\n",
       "    <tr style=\"text-align: right;\">\n",
       "      <th></th>\n",
       "      <th>weight</th>\n",
       "      <th>mpg</th>\n",
       "      <th>type</th>\n",
       "      <th>t.kml</th>\n",
       "      <th>t.kg</th>\n",
       "    </tr>\n",
       "    <tr>\n",
       "      <th>X</th>\n",
       "      <th></th>\n",
       "      <th></th>\n",
       "      <th></th>\n",
       "      <th></th>\n",
       "      <th></th>\n",
       "    </tr>\n",
       "  </thead>\n",
       "  <tbody>\n",
       "    <tr>\n",
       "      <th>1</th>\n",
       "      <td>2560</td>\n",
       "      <td>33</td>\n",
       "      <td>Small</td>\n",
       "      <td>14.029714</td>\n",
       "      <td>1161.19552</td>\n",
       "    </tr>\n",
       "    <tr>\n",
       "      <th>2</th>\n",
       "      <td>2345</td>\n",
       "      <td>33</td>\n",
       "      <td>Small</td>\n",
       "      <td>14.029714</td>\n",
       "      <td>1063.67324</td>\n",
       "    </tr>\n",
       "    <tr>\n",
       "      <th>3</th>\n",
       "      <td>1845</td>\n",
       "      <td>37</td>\n",
       "      <td>Small</td>\n",
       "      <td>15.730285</td>\n",
       "      <td>836.87724</td>\n",
       "    </tr>\n",
       "  </tbody>\n",
       "</table>\n",
       "</div>"
      ],
      "text/plain": [
       "   weight  mpg   type      t.kml        t.kg\n",
       "X                                           \n",
       "1    2560   33  Small  14.029714  1161.19552\n",
       "2    2345   33  Small  14.029714  1063.67324\n",
       "3    1845   37  Small  15.730285   836.87724"
      ]
     },
     "execution_count": 20,
     "metadata": {},
     "output_type": "execute_result"
    }
   ],
   "source": [
    "df_fuel[\"t.kml\"] = df_fuel[\"mpg\"] * 1.60934 / 3.78541\n",
    "df_fuel[\"t.kg\"]  = df_fuel[\"weight\"] * 0.453592\n",
    "df_fuel.head(3)"
   ]
  },
  {
   "cell_type": "markdown",
   "id": "afca14c8-c0da-41df-a4b8-069b4bc330f9",
   "metadata": {},
   "source": [
    "- Berechnen Sie den Mittelwert der Reichweiten in km/l und denjenigen der Fahrzeuggewichte in kg."
   ]
  },
  {
   "cell_type": "code",
   "execution_count": 21,
   "id": "5e6c95c3-8d57-449d-8378-13150716c1ba",
   "metadata": {},
   "outputs": [
    {
     "data": {
      "text/plain": [
       "t.kml      10.451428\n",
       "t.kg     1315.794793\n",
       "dtype: float64"
      ]
     },
     "execution_count": 21,
     "metadata": {},
     "output_type": "execute_result"
    }
   ],
   "source": [
    "df_fuel.loc[:,[\"t.kml\",\"t.kg\"]].mean()"
   ]
  },
  {
   "cell_type": "markdown",
   "id": "fab5c7fb-721e-4590-b203-900ca13f87f4",
   "metadata": {},
   "source": [
    "- Bestimmen Sie das mittlere Gewicht der Sportwagen (*Sporty*)."
   ]
  },
  {
   "cell_type": "code",
   "execution_count": 22,
   "id": "bce7f2e9-3e66-492e-a8a8-f6b7f3307323",
   "metadata": {},
   "outputs": [
    {
     "data": {
      "text/plain": [
       "t.kml      11.053714\n",
       "t.kg     1269.553609\n",
       "dtype: float64"
      ]
     },
     "execution_count": 22,
     "metadata": {},
     "output_type": "execute_result"
    }
   ],
   "source": [
    "df_fuel.loc[df_fuel.loc[:,\"type\"]==\"Sporty\",[\"t.kml\",\"t.kg\"]].mean()"
   ]
  },
  {
   "cell_type": "markdown",
   "id": "c93c9108-fcf1-446e-9bff-92c7e41cab3d",
   "metadata": {},
   "source": [
    "Oder mit der Methode `groupby`:"
   ]
  },
  {
   "cell_type": "code",
   "execution_count": 23,
   "id": "a37d57eb-298b-45bc-83c8-bd936dd75205",
   "metadata": {},
   "outputs": [
    {
     "data": {
      "text/html": [
       "<div>\n",
       "<style scoped>\n",
       "    .dataframe tbody tr th:only-of-type {\n",
       "        vertical-align: middle;\n",
       "    }\n",
       "\n",
       "    .dataframe tbody tr th {\n",
       "        vertical-align: top;\n",
       "    }\n",
       "\n",
       "    .dataframe thead th {\n",
       "        text-align: right;\n",
       "    }\n",
       "</style>\n",
       "<table border=\"1\" class=\"dataframe\">\n",
       "  <thead>\n",
       "    <tr style=\"text-align: right;\">\n",
       "      <th></th>\n",
       "      <th>t.kml</th>\n",
       "      <th>t.kg</th>\n",
       "    </tr>\n",
       "    <tr>\n",
       "      <th>type</th>\n",
       "      <th></th>\n",
       "      <th></th>\n",
       "    </tr>\n",
       "  </thead>\n",
       "  <tbody>\n",
       "    <tr>\n",
       "      <th>Compact</th>\n",
       "      <td>10.260114</td>\n",
       "      <td>1279.583032</td>\n",
       "    </tr>\n",
       "    <tr>\n",
       "      <th>Large</th>\n",
       "      <td>8.644571</td>\n",
       "      <td>1667.706587</td>\n",
       "    </tr>\n",
       "    <tr>\n",
       "      <th>Medium</th>\n",
       "      <td>9.255033</td>\n",
       "      <td>1449.575357</td>\n",
       "    </tr>\n",
       "    <tr>\n",
       "      <th>Small</th>\n",
       "      <td>13.179428</td>\n",
       "      <td>1024.071169</td>\n",
       "    </tr>\n",
       "    <tr>\n",
       "      <th>Sporty</th>\n",
       "      <td>11.053714</td>\n",
       "      <td>1269.553609</td>\n",
       "    </tr>\n",
       "    <tr>\n",
       "      <th>Van</th>\n",
       "      <td>8.016979</td>\n",
       "      <td>1595.347863</td>\n",
       "    </tr>\n",
       "  </tbody>\n",
       "</table>\n",
       "</div>"
      ],
      "text/plain": [
       "             t.kml         t.kg\n",
       "type                           \n",
       "Compact  10.260114  1279.583032\n",
       "Large     8.644571  1667.706587\n",
       "Medium    9.255033  1449.575357\n",
       "Small    13.179428  1024.071169\n",
       "Sporty   11.053714  1269.553609\n",
       "Van       8.016979  1595.347863"
      ]
     },
     "execution_count": 23,
     "metadata": {},
     "output_type": "execute_result"
    }
   ],
   "source": [
    "df_fuel_grouped = df_fuel.groupby(\"type\")\n",
    "df_fuel_grouped[[\"t.kml\",\"t.kg\"]].mean()"
   ]
  },
  {
   "cell_type": "markdown",
   "id": "afc58872-4e9b-44ca-97e9-2b7c5f4e62f7",
   "metadata": {},
   "source": [
    "***\n",
    "![HSLU](Bilder/LogoHSLU.png)"
   ]
  }
 ],
 "metadata": {
  "kernelspec": {
   "display_name": "Python 3 (ipykernel)",
   "language": "python",
   "name": "python3"
  },
  "language_info": {
   "codemirror_mode": {
    "name": "ipython",
    "version": 3
   },
   "file_extension": ".py",
   "mimetype": "text/x-python",
   "name": "python",
   "nbconvert_exporter": "python",
   "pygments_lexer": "ipython3",
   "version": "3.13.2"
  }
 },
 "nbformat": 4,
 "nbformat_minor": 5
}
