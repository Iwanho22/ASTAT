{
 "cells": [
  {
   "cell_type": "markdown",
   "id": "f8edfe32-7c29-46a2-939f-a0d3f4e6fa2b",
   "metadata": {},
   "source": [
    "# <span style=\"color:rgb(160,0,86)\">Datenbeschreibung</span>\n",
    "\n",
    "***"
   ]
  },
  {
   "cell_type": "markdown",
   "id": "efc2b411-5d0c-45cd-a36d-deb3a678be0e",
   "metadata": {},
   "source": [
    "## <span style=\"color:rgb(160,0,86)\">Lernziele</span>\n",
    "\n",
    "- Sie können absolute und relative Häufigkeiten und Summenhäufigkeiten berechnen und verstehen ihre Bedeutung.\n",
    "- Sie kennen Lagemasse und Streumasse für nominale, ordinale und metrische Merkmale und können sie berechnen.  \n",
    "\n",
    "***"
   ]
  },
  {
   "cell_type": "markdown",
   "id": "e1aeb5b2-eafa-4db1-b3d5-9b13de1f83fe",
   "metadata": {},
   "source": [
    "### <span style=\"color:rgb(160,0,86)\">Was ist eine Häufigkeitsanalyse?</span>\n",
    "\n",
    "Die grundlegendste Aufbereitung statistischer Daten ist die Darstellung, wie häufig die Ausprägungen eines Merkmals vorkommen. \n",
    "\n",
    "- Die **absolute Häufigkeit** $n(x)$ ist die Anzahl, wie oft ein Wert $x$ vorkommt.\n",
    "- Die **relative Häufigkeit** $h(x)=\\displaystyle\\frac{n(x)}{n}$ ist der Anteil, mit dem ein Wert $x$ vorkommt. \n",
    "\n",
    "Weil *oridinale* und *metrische* Merkmalen eine Reihenfolge haben, können wir Häufigkeiten auch der Reihe nach kumulieren:\n",
    "\n",
    "- Die **absolute Summenhäufigkeit** $N(x)$ ist die Anzahl, wie oft Werte kleiner oder gleich $x$ vorkommen.\n",
    "- Die **relative Summenhäufigkeit** $H(x)=\\displaystyle\\frac{N(x)}{n}$ ist der Anteil, mit dem Werte kleiner oder gleich $x$ vorkommen.\n",
    "\n",
    "Die Auflistung aller Werte $x_1, x_2, \\ldots, x_m$ eines Merkmals zusammen mit ihren Häufigkeiten nennen wir eine **empirische Häufigkeitsverteilung**.\n",
    "\n",
    "*Merke:* Aus der empirischen Häufigkeitsverteilung können wir nicht mehr herauslesen, was für einen Wert eine statistische Einheit bei einem Merkmal hat. Wir sehen nur noch, wie oft oder wie häufig die Werte eines Merkmals vorkommen. **Es geht Information verloren!** \n",
    "\n",
    "***"
   ]
  },
  {
   "cell_type": "markdown",
   "id": "2e06298c-4330-47c3-8648-09690e76b5d3",
   "metadata": {},
   "source": [
    "#### <span style=\"color:rgb(160,0,86)\">Beispiel:</span>\n",
    "\n",
    "Betrachten wir 10 ehemalige Studierende mit den Merkmalen **Geschlecht**, **Gesamtprädikat** und **Alter**:\n",
    "\n",
    "$$\\begin{bmatrix}\n",
    "\\text{Anna}&w&\\text{ausgezeichnet}&27\\\\\n",
    "\\text{Beat}&m&\\text{gut}&34\\\\\n",
    "\\text{Cary}&m&\\text{sehr gut}&29\\\\\n",
    "\\text{Dana}&w&\\text{sehr gut}&24\\\\\n",
    "\\text{Elif}&w&\\text{gut}&25\\\\\n",
    "\\text{Faro}&m&\\text{ausgezeichnet}&27\\\\\n",
    "\\text{Gabi}&w&\\text{sehr gut}&27\\\\\n",
    "\\text{Hans}&m&\\text{genügend}&69\\\\\n",
    "\\text{Ivea}&w&\\text{sehr gut}&26\\\\\n",
    "\\text{Jose}&w&\\text{gut}&31\n",
    "\\end{bmatrix}$$ "
   ]
  },
  {
   "cell_type": "code",
   "execution_count": 1,
   "id": "428c426f-e38b-45ac-ac2f-67156537c084",
   "metadata": {},
   "outputs": [
    {
     "data": {
      "text/html": [
       "<div>\n",
       "<style scoped>\n",
       "    .dataframe tbody tr th:only-of-type {\n",
       "        vertical-align: middle;\n",
       "    }\n",
       "\n",
       "    .dataframe tbody tr th {\n",
       "        vertical-align: top;\n",
       "    }\n",
       "\n",
       "    .dataframe thead th {\n",
       "        text-align: right;\n",
       "    }\n",
       "</style>\n",
       "<table border=\"1\" class=\"dataframe\">\n",
       "  <thead>\n",
       "    <tr style=\"text-align: right;\">\n",
       "      <th></th>\n",
       "      <th>Name</th>\n",
       "      <th>Geschlecht</th>\n",
       "      <th>Prädikat</th>\n",
       "      <th>Alter</th>\n",
       "    </tr>\n",
       "  </thead>\n",
       "  <tbody>\n",
       "    <tr>\n",
       "      <th>0</th>\n",
       "      <td>Anna</td>\n",
       "      <td>w</td>\n",
       "      <td>ausgezeichnet</td>\n",
       "      <td>27</td>\n",
       "    </tr>\n",
       "    <tr>\n",
       "      <th>1</th>\n",
       "      <td>Beat</td>\n",
       "      <td>m</td>\n",
       "      <td>gut</td>\n",
       "      <td>34</td>\n",
       "    </tr>\n",
       "    <tr>\n",
       "      <th>2</th>\n",
       "      <td>Cary</td>\n",
       "      <td>m</td>\n",
       "      <td>sehr gut</td>\n",
       "      <td>29</td>\n",
       "    </tr>\n",
       "    <tr>\n",
       "      <th>3</th>\n",
       "      <td>Dana</td>\n",
       "      <td>w</td>\n",
       "      <td>sehr gut</td>\n",
       "      <td>24</td>\n",
       "    </tr>\n",
       "    <tr>\n",
       "      <th>4</th>\n",
       "      <td>Elif</td>\n",
       "      <td>w</td>\n",
       "      <td>gut</td>\n",
       "      <td>25</td>\n",
       "    </tr>\n",
       "    <tr>\n",
       "      <th>5</th>\n",
       "      <td>Faro</td>\n",
       "      <td>m</td>\n",
       "      <td>ausgezeichnet</td>\n",
       "      <td>27</td>\n",
       "    </tr>\n",
       "    <tr>\n",
       "      <th>6</th>\n",
       "      <td>Gabi</td>\n",
       "      <td>w</td>\n",
       "      <td>sehr gut</td>\n",
       "      <td>27</td>\n",
       "    </tr>\n",
       "    <tr>\n",
       "      <th>7</th>\n",
       "      <td>Hans</td>\n",
       "      <td>m</td>\n",
       "      <td>genügend</td>\n",
       "      <td>69</td>\n",
       "    </tr>\n",
       "    <tr>\n",
       "      <th>8</th>\n",
       "      <td>Ivea</td>\n",
       "      <td>w</td>\n",
       "      <td>sehr gut</td>\n",
       "      <td>26</td>\n",
       "    </tr>\n",
       "    <tr>\n",
       "      <th>9</th>\n",
       "      <td>Jose</td>\n",
       "      <td>w</td>\n",
       "      <td>gut</td>\n",
       "      <td>31</td>\n",
       "    </tr>\n",
       "  </tbody>\n",
       "</table>\n",
       "</div>"
      ],
      "text/plain": [
       "   Name Geschlecht       Prädikat  Alter\n",
       "0  Anna          w  ausgezeichnet     27\n",
       "1  Beat          m            gut     34\n",
       "2  Cary          m       sehr gut     29\n",
       "3  Dana          w       sehr gut     24\n",
       "4  Elif          w            gut     25\n",
       "5  Faro          m  ausgezeichnet     27\n",
       "6  Gabi          w       sehr gut     27\n",
       "7  Hans          m       genügend     69\n",
       "8  Ivea          w       sehr gut     26\n",
       "9  Jose          w            gut     31"
      ]
     },
     "execution_count": 1,
     "metadata": {},
     "output_type": "execute_result"
    }
   ],
   "source": [
    "namen = [\"Anna\",\"Beat\",\"Cary\",\"Dana\",\"Elif\",\"Faro\",\"Gabi\",\"Hans\",\"Ivea\",\"Jose\"]\n",
    "geschlecht = [\"w\",\"m\",\"m\",\"w\",\"w\",\"m\",\"w\",\"m\",\"w\",\"w\"]\n",
    "prädikat = [\"ausgezeichnet\",\"gut\",\"sehr gut\",\"sehr gut\",\"gut\",\"ausgezeichnet\",\"sehr gut\",\"genügend\",\"sehr gut\",\"gut\"]\n",
    "alter = [27,34,29,24,25,27,27,69,26,31]\n",
    "\n",
    "import pandas as pd\n",
    "df = pd.DataFrame({\"Name\":namen,\"Geschlecht\":geschlecht,\"Prädikat\":prädikat,\"Alter\":alter})\n",
    "df"
   ]
  },
  {
   "cell_type": "markdown",
   "id": "8f34780e-dfcf-4a51-991e-25959c28fa35",
   "metadata": {},
   "source": [
    "Das Geschlecht ist ein nominales Merkmal. Seine empirische Verteilung ist:"
   ]
  },
  {
   "cell_type": "code",
   "execution_count": 2,
   "id": "75e40570-0a13-4aa4-9248-18ec409b2e05",
   "metadata": {},
   "outputs": [
    {
     "name": "stdout",
     "output_type": "stream",
     "text": [
      "n(m)=4\n",
      "n(w)=6\n",
      "h(m)=0.4\n",
      "h(w)=0.6\n"
     ]
    }
   ],
   "source": [
    "import numpy as np\n",
    "\n",
    "dim = df.shape\n",
    "(werte,absH) = np.unique(df[\"Geschlecht\"],return_counts=True)\n",
    "for i in range(len(werte)):\n",
    "    print(f\"n({werte[i]})={absH[i]}\")\n",
    "for i in range(len(werte)):\n",
    "    print(f\"h({werte[i]})={absH[i]/dim[0]}\")"
   ]
  },
  {
   "cell_type": "markdown",
   "id": "e0f7a7da-fa29-4579-8946-aed6ba620af1",
   "metadata": {},
   "source": [
    "Das Prädikat ist ein ordinales Merkmal. Seine empirische Verteilung ist:"
   ]
  },
  {
   "cell_type": "code",
   "execution_count": 3,
   "id": "3bd66111-f702-4cf7-9670-8870067ac8ef",
   "metadata": {},
   "outputs": [
    {
     "data": {
      "text/plain": [
       "array(['ausgezeichnet', 'genügend', 'gut', 'sehr gut'], dtype=object)"
      ]
     },
     "execution_count": 3,
     "metadata": {},
     "output_type": "execute_result"
    }
   ],
   "source": [
    "werte,absH = np.unique(df[\"Prädikat\"],return_counts=True)\n",
    "werte"
   ]
  },
  {
   "cell_type": "code",
   "execution_count": 4,
   "id": "3690ed66-ac77-4025-bd97-d99d91292977",
   "metadata": {},
   "outputs": [
    {
     "name": "stdout",
     "output_type": "stream",
     "text": [
      "n(genügend) = 1\n",
      "n(gut) = 3\n",
      "n(sehr gut) = 4\n",
      "n(ausgezeichnet) = 2\n",
      "h(genügend) = 0.1\n",
      "h(gut) = 0.3\n",
      "h(sehr gut) = 0.4\n",
      "h(ausgezeichnet) = 0.2\n"
     ]
    }
   ],
   "source": [
    "for i in [1,2,3,0]:\n",
    "    print(f\"n({werte[i]}) = {absH[i]}\")\n",
    "for i in [1,2,3,0]:\n",
    "    print(f\"h({werte[i]}) = {absH[i]/dim[0]}\")"
   ]
  },
  {
   "cell_type": "code",
   "execution_count": 5,
   "id": "757d5e09-a6c3-4543-af83-3228165b3416",
   "metadata": {},
   "outputs": [
    {
     "name": "stdout",
     "output_type": "stream",
     "text": [
      "N(genügend) = 1\n",
      "N(gut) = 4\n",
      "N(sehr gut) = 8\n",
      "N(ausgezeichnet) = 10\n",
      "H(genügend) = 0.1\n",
      "H(gut) = 0.4\n",
      "H(sehr gut) = 0.8\n",
      "H(ausgezeichnet) = 1.0\n"
     ]
    }
   ],
   "source": [
    "absSH = 0\n",
    "for i in [1,2,3,0]:\n",
    "    absSH += absH[i]\n",
    "    print(\"N(\" + werte[i] + \") =\",absSH)\n",
    "absSH = 0\n",
    "for i in [1,2,3,0]:\n",
    "    absSH += absH[i]\n",
    "    print(\"H(\" + werte[i] + \") =\",absSH/dim[0])"
   ]
  },
  {
   "cell_type": "markdown",
   "id": "ec0735c5-44ae-48f8-9669-b271c0d31b2a",
   "metadata": {},
   "source": [
    "Das Alter ist ein metrisches Merkmal. Seine empirische Verteilung ist:"
   ]
  },
  {
   "cell_type": "code",
   "execution_count": 6,
   "id": "860b51e7-488e-40ee-84b3-057482dc0a2f",
   "metadata": {},
   "outputs": [
    {
     "name": "stdout",
     "output_type": "stream",
     "text": [
      "n(24) = 1\n",
      "n(25) = 1\n",
      "n(26) = 1\n",
      "n(27) = 3\n",
      "n(29) = 1\n",
      "n(31) = 1\n",
      "n(34) = 1\n",
      "n(69) = 1\n",
      "h(24) = 0.1\n",
      "h(25) = 0.1\n",
      "h(26) = 0.1\n",
      "h(27) = 0.3\n",
      "h(29) = 0.1\n",
      "h(31) = 0.1\n",
      "h(34) = 0.1\n",
      "h(69) = 0.1\n"
     ]
    }
   ],
   "source": [
    "werte,absH = np.unique(df[\"Alter\"],return_counts=True)\n",
    "for i in range(len(werte)):\n",
    "    print(\"n(\" + str(werte[i]) + \") =\",absH[i])\n",
    "for i in range(len(werte)):\n",
    "    print(\"h(\" + str(werte[i]) + \") =\",absH[i]/dim[0])"
   ]
  },
  {
   "cell_type": "code",
   "execution_count": 7,
   "id": "0bcd6b9d-8dcf-4e86-bb97-422ddfe708cf",
   "metadata": {},
   "outputs": [
    {
     "data": {
      "text/plain": [
       "(np.int64(10), np.float64(1.0))"
      ]
     },
     "execution_count": 7,
     "metadata": {},
     "output_type": "execute_result"
    }
   ],
   "source": [
    "def summenhäufigkeit(w,h,x):\n",
    "    N = 0\n",
    "    i = 0\n",
    "    while i < len(w) and w[i] <= x:\n",
    "        N += h[i]\n",
    "        i += 1\n",
    "    return (N,N/sum(h))\n",
    "summenhäufigkeit(werte,absH,70)"
   ]
  },
  {
   "cell_type": "markdown",
   "id": "098eecea-fc0e-4ed2-a745-359c566e2cac",
   "metadata": {},
   "source": [
    "### <span style=\"color:rgb(160,0,86)\">Was sind Lagemasse und Streumasse?</span>\n",
    "\n",
    "Die empirische Häufigkeitsverteilung beantwortet die Frage: Wie oft kommen die Werte eines Merkmals vor? Mit **statistischen Masszahlen** sollen nun spezifische Informationen aus den Daten herausgefiltert werden.      \n",
    "\n",
    "- Ein **Lagemass** beschreibt mit einem typischen Wert, *wo* die Ausprägungen eines Merkmals liegen.\n",
    "- Ein **Streumass** beschreibt mit einem typischen Wert, *wie* unterschiedlich die Ausprägungen eines Merkmals sind."
   ]
  },
  {
   "cell_type": "markdown",
   "id": "cc52d8cc-50bd-4644-8d0b-129f9e2e76f6",
   "metadata": {},
   "source": [
    "#### <span style=\"color:rgb(160,0,86)\">Für nominale Merkmale:</span>\n",
    "- *Lagemass:* Weil die Werte keine natürliche Reihenfolge haben, können wir keine *Mitte* festlegen. Als repräsentativer Wert für die Lage der Werte wird oft der häufigste Wert, der sogenannte **Modus** $\\bar{x}_{D}$ angegeben.\n",
    "- *Streumass:* Wir wollen angeben, wie gleichmässig sich die ungeordneten Werte verteilen. Wenn bei einem Merkmal nur ein Wert vorkommt, gibt es keine Streuung. Wenn hingegen alle Werte eines Merkmals gleich häufig auftreten, gibt es maximale Unterschiedlichkeit. Als Mass für diese Charakteristik wird häufig der **Dispersionsindex** $$P = \\displaystyle\\frac{m}{m-1}\\big(h(x_1)\\cdot(1-h(x_1))+h(x_2)\\cdot(1-h(x_2))+\\ldots+h(x_m)\\cdot(1-h(x_m)\\big)$$ gebraucht. Wenn $P>0.9$ ist, haben wir starke Dispersion und wenn $P<0.8$ ist, haben wir geringe Dispersion. Wenn im Extremfall ein Wert eine relative Häufigkeit von 1.0 hat, dann ist $P=0$ und wenn alle Werte die gleiche relative Häufigkeit haben, dann ist $P=1$. "
   ]
  },
  {
   "cell_type": "code",
   "execution_count": 8,
   "id": "339739a7-e34f-490e-8416-7737fa383197",
   "metadata": {},
   "outputs": [
    {
     "name": "stdout",
     "output_type": "stream",
     "text": [
      "x_D = w , P = 0.96\n"
     ]
    }
   ],
   "source": [
    "werte,absH = np.unique(df[\"Geschlecht\"],return_counts=True)\n",
    "# m = Anzahl verschiedene Werte\n",
    "m = len(werte)\n",
    "relH = absH/dim[0]\n",
    "# Modus für Lagemass berechnen, [0] ist modus, [1] Ist datentyp\n",
    "modus = df[\"Geschlecht\"].mode()[0]\n",
    "# Dispersionsindex: sum(relH * (1-relH)) => (h(x1)*(1-h(x1) + h(x2)*(1-h(x2) .... )\n",
    "P = m/(m-1) * sum(relH * (1-relH))\n",
    "print(\"x_D =\",modus,\", P =\",P)"
   ]
  },
  {
   "cell_type": "markdown",
   "id": "829aa445-88e2-4bc3-b572-b342659ae73b",
   "metadata": {},
   "source": [
    "$P = \\displaystyle\\frac{2}{2-1}\\big(0.4\\cdot(1-0.4)+0.6\\cdot(1-0.6)\\big)=0.96$"
   ]
  },
  {
   "cell_type": "markdown",
   "id": "ebfa166c-b4e7-47d8-ac01-51127ecf9a9e",
   "metadata": {},
   "source": [
    "#### <span style=\"color:rgb(160,0,86)\">Für ordinale Merkmale:</span>\n",
    "- *Lagemass:* Die Werte haben eine natürliche Reihenfolge Wir können aber mit diesen Werten im allgemeinen nicht rechnen. Wenn wir die Daten aufsteigend der Reihe nach sortieren, können wir das sogenannte $p$ **-Quantil** bestimmen. Das ist ein Wert $x_p$, der die Daten in einen unteren Teil und in einen oberen Teil unterteil: $p\\%$ der Daten sind kleiner oder gleich als $x_p$ und $(1-p)\\%$ der Daten sind grösser. Mit $p=50\\%$ sind in beiden Teilen ungefähr gleich viele Daten, daher heisst $x_{50\\%}$ der **Median**. Der Wert $x_{25\\%}$ heisst **unteres Quartil**, weil ungefähr ein viertel der Daten kleiner als $x_{25\\%}$ sind und der Wert $x_{75\\%}$ heisst **oberes Quartil**, weil ungefähr drei viertel der Daten kleiner als $x_{75\\%}$ sind.      \n",
    "- *Streumass:* Wegen der natürlichen Reihenfolge können wir die Streuung differnzierter beschreiben. Streuung ist gross, wenn die Werte gleichmässig beim *kleinsten* und beim *grössten* Wert des Merkmals liegen. Als Mass für diese Charakteristik wird häufig die **Diversität** $$D = \\displaystyle\\frac{4}{m-1}\\big(H(x_1)\\cdot(1-H(x_1))+H(x_2)\\cdot(1-H(x_2))+\\ldots+H(x_m)\\cdot(1-H(x_m)\\big)$$ gebraucht. Wenn $D>0.8$ ist, haben wir starke Diversität und wenn $D<0.6$ ist, haben wir geringe Diversität. Wenn im Extremfall ein Wert eine relative Häufigkeit von 1.0 hat, dann ist $D=0$ und wenn 50% der Daten beim kleinsten und 50% der Daten beim grössten Wert liegen, dann ist $D=1$.  "
   ]
  },
  {
   "cell_type": "code",
   "execution_count": 9,
   "id": "dea74bc6-a342-4f7f-9e4b-e6716e40c60e",
   "metadata": {},
   "outputs": [
    {
     "name": "stdout",
     "output_type": "stream",
     "text": [
      "x_D = sehr gut , median = gut , D = 0.6533333333333333\n"
     ]
    }
   ],
   "source": [
    "werte,absH = np.unique(df[\"Prädikat\"],return_counts=True)\n",
    "m = len(werte)\n",
    "\n",
    "# werte umsortieren nach natürlicher Ordnung\n",
    "werte = np.array([werte[1],werte[2],werte[3],werte[0]])\n",
    "absH = np.array([absH[1],absH[2],absH[3],absH[0]])\n",
    "\n",
    "relH = absH/dim[0]\n",
    "relSH = np.array([relH[0],sum(relH[:2]),sum(relH[:3]),sum(relH)]) # relative Summenhäuffigkeit berechnen aus relativer Häuffigkeit\n",
    "\n",
    "modus = df[\"Prädikat\"].mode()[0] ## Modus = häuffigstes Prädikat\n",
    "\n",
    "median = werte[0]\n",
    "i = 1\n",
    "while i <= m:\n",
    "    if relSH[i] > 0.5:\n",
    "        break\n",
    "    median = werte[i]\n",
    "    i += 1\n",
    "\n",
    "D = 4/(m-1) * sum(relSH * (1-relSH))\n",
    "\n",
    "print(\"x_D =\",modus,\", median =\",median,\", D =\",D)"
   ]
  },
  {
   "cell_type": "markdown",
   "id": "91bb386b-d504-433c-bd56-dddd04a363de",
   "metadata": {},
   "source": [
    "$D = \\displaystyle\\frac{4}{4-1}\\big(0.1\\cdot(1-0.1)+0.4\\cdot(1-0.4)+0.8\\cdot(1-0.8)+1.0\\cdot(1-1.0)\\big)=0.65\\bar{3}$"
   ]
  },
  {
   "cell_type": "markdown",
   "id": "c2940ac8-ed7c-4236-a09a-3d805f87bd9a",
   "metadata": {},
   "source": [
    "#### <span style=\"color:rgb(160,0,86)\">Für metrische Merkmale:</span>\n",
    "- *Lagemass:* Da wir mit den Werten rechnen können, lässt sich die Summe aller Daten gleichmässig auf alle statistischen Einheiten verteilen. Dieses **arithmetische Mittel** $\\bar{x}$ beschreibt, wie gross die Werte im Mittel sind. Das arithmetische Mittel wird aber von einzelnen extremen Werten stark beeinflusst. Der Median hingegen wird von extremen Werten weniger beeinflusst, weil sehr grosse oder sehr kleine Werte die Reihenfolge in der Mitte nicht verändern.\n",
    "- *Streumass:* Bei metrischen Daten sind die Quartile auch Zahlen. Daher können wir den **Qartilsabstand** $Q = x_{75\\%}-x_{25\\%}$ vom unteren Quartil zum oberen Quartil berechnen. In diesem Bereich liegen ungefähr 50\\% der mittleren Danten. Wenn also $Q$ klein ist, dann liegen die Daten eng beieinander und wenn $Q$ gross ist, dann streuen die Daten stark. Der Quartilsabstand wird durch extreme Werte auch nicht gross beeinflusst.<br>\n",
    "Eine anderes Mass für die Streuung ist die **mittlere Abweichung** $MD$ der Daten vom arithmetischen Mittel $$MD=\\displaystyle\\frac{1}{n}\\big(|x_1-\\bar{x}|+|x_2-\\bar{x}|+\\ldots+|x_n-\\bar{x}|\\big)\\,.$$ Weil die Absolutbeträge technische Schwierigkeiten mit sich bringen, werden häufiger die **mittlere quadratische Abweichung** $MQD$ der Daten vom arithmetischen Mittel $$MQD=\\displaystyle\\frac{1}{n}\\big((x_1-\\bar{x})^2+(x_2-\\bar{x})^2+\\ldots+(x_n-\\bar{x})^2\\big)$$ gebraucht. Dieser Wert hat den Nachteil, dass die Dimension nicht mehr stimmt. Die Zahl $MQD$ hat quadratische Einheiten. Wenn wir aber aus $MQD$ die Wurzel zeihen, erhalten wir die sogenannte **Standardabweichung** $$s=\\sqrt{MQD}\\;,$$ bei der die Dimension wieder stimmt.     "
   ]
  },
  {
   "cell_type": "code",
   "execution_count": 10,
   "id": "0739a07f-764a-41ab-bd4c-b31b3cde92fb",
   "metadata": {},
   "outputs": [
    {
     "name": "stdout",
     "output_type": "stream",
     "text": [
      "Median = 27.0 , arithmetisches Mittel = 31.9\n",
      "Q = 4.25 , s = 12.676355943251199 , MD = 7.839999999999999\n"
     ]
    }
   ],
   "source": [
    "q50 = df[\"Alter\"].median()\n",
    "x_bar = df[\"Alter\"].mean()\n",
    "\n",
    "Q = df[\"Alter\"].quantile(0.75) - df[\"Alter\"].quantile(0.25)\n",
    "s = df[\"Alter\"].std(ddof=0) # MQD -> Standardabweichung , (ddof -> wird gesetzt, dass 1/n dividert wird und nicht 1/(n-1) (Schätzwert)\n",
    "MD = sum(np.abs(df[\"Alter\"]-x_bar))/len(df[\"Alter\"]) #MD\n",
    "\n",
    "print(\"Median =\",q50,\", arithmetisches Mittel =\",x_bar) \n",
    "print(\"Q =\",Q,\", s =\",s,\", MD =\",MD)"
   ]
  },
  {
   "cell_type": "markdown",
   "id": "f1b22231-13dc-49cd-836a-fdaf5021da43",
   "metadata": {},
   "source": [
    "### <span style=\"color:rgb(160,0,86)\">Aufgabe 1</span>\n",
    "\n",
    "Laden Sie die Daten *2021_Personalerhebung.csv* und bestimmen Sie für alle Merkmale passende Lagemasse und Streumasse. Bestimmen Sie auch für die Merkmale **Abteilung** und **Ausbildung** die relativen Häufigkeiten und relativen Summenhäufigkeiten."
   ]
  },
  {
   "cell_type": "code",
   "execution_count": 11,
   "id": "1528b131-f566-4002-8800-84d6d65c5dea",
   "metadata": {},
   "outputs": [
    {
     "data": {
      "text/html": [
       "<div>\n",
       "<style scoped>\n",
       "    .dataframe tbody tr th:only-of-type {\n",
       "        vertical-align: middle;\n",
       "    }\n",
       "\n",
       "    .dataframe tbody tr th {\n",
       "        vertical-align: top;\n",
       "    }\n",
       "\n",
       "    .dataframe thead th {\n",
       "        text-align: right;\n",
       "    }\n",
       "</style>\n",
       "<table border=\"1\" class=\"dataframe\">\n",
       "  <thead>\n",
       "    <tr style=\"text-align: right;\">\n",
       "      <th></th>\n",
       "      <th>PersNummer</th>\n",
       "      <th>Abteilung</th>\n",
       "      <th>Ausbildung</th>\n",
       "      <th>Eintrittsjahr</th>\n",
       "      <th>Bruttogehalt</th>\n",
       "    </tr>\n",
       "  </thead>\n",
       "  <tbody>\n",
       "    <tr>\n",
       "      <th>0</th>\n",
       "      <td>560426</td>\n",
       "      <td>Finanzen</td>\n",
       "      <td>Abitur</td>\n",
       "      <td>2006</td>\n",
       "      <td>13200</td>\n",
       "    </tr>\n",
       "    <tr>\n",
       "      <th>1</th>\n",
       "      <td>590303</td>\n",
       "      <td>Vertrieb</td>\n",
       "      <td>Mittlere Reife</td>\n",
       "      <td>2008</td>\n",
       "      <td>13500</td>\n",
       "    </tr>\n",
       "    <tr>\n",
       "      <th>2</th>\n",
       "      <td>611117</td>\n",
       "      <td>Entwicklung</td>\n",
       "      <td>Promotion</td>\n",
       "      <td>2008</td>\n",
       "      <td>17600</td>\n",
       "    </tr>\n",
       "    <tr>\n",
       "      <th>3</th>\n",
       "      <td>620212</td>\n",
       "      <td>Geschaftsführung</td>\n",
       "      <td>Master</td>\n",
       "      <td>2006</td>\n",
       "      <td>18000</td>\n",
       "    </tr>\n",
       "    <tr>\n",
       "      <th>4</th>\n",
       "      <td>620624</td>\n",
       "      <td>Entwicklung</td>\n",
       "      <td>Master</td>\n",
       "      <td>2007</td>\n",
       "      <td>17400</td>\n",
       "    </tr>\n",
       "  </tbody>\n",
       "</table>\n",
       "</div>"
      ],
      "text/plain": [
       "   PersNummer         Abteilung      Ausbildung  Eintrittsjahr  Bruttogehalt\n",
       "0      560426          Finanzen          Abitur           2006         13200\n",
       "1      590303          Vertrieb  Mittlere Reife           2008         13500\n",
       "2      611117       Entwicklung       Promotion           2008         17600\n",
       "3      620212  Geschaftsführung          Master           2006         18000\n",
       "4      620624       Entwicklung          Master           2007         17400"
      ]
     },
     "execution_count": 11,
     "metadata": {},
     "output_type": "execute_result"
    }
   ],
   "source": [
    "import pandas as pd\n",
    "import numpy as np\n",
    "\n",
    "df = pd.read_csv(\"./Daten/2021_Personalerhebung.csv\", sep=\";\")\n",
    "df.drop(\"Unnamed: 1\", axis=1, inplace=True)\n",
    "df.head(5)"
   ]
  },
  {
   "cell_type": "markdown",
   "id": "275455b3-a10d-406b-8af3-76ee3ee9e12a",
   "metadata": {},
   "source": [
    "### Persnummer"
   ]
  },
  {
   "cell_type": "code",
   "execution_count": 12,
   "id": "be6f8859-4f4b-4f45-9e50-56bf3f42fb41",
   "metadata": {},
   "outputs": [
    {
     "name": "stdout",
     "output_type": "stream",
     "text": [
      "Persnummer\n",
      "Lagemass: Median -> 741222.0\n",
      "Streumass: Quartilsabstand -> 99708.0\n"
     ]
    }
   ],
   "source": [
    "q50 = df[\"PersNummer\"].median()\n",
    "Q = df[\"PersNummer\"].quantile(0.75) - df[\"PersNummer\"].quantile(0.25)\n",
    "\n",
    "print(\"Persnummer\")\n",
    "print(f\"Lagemass: Median -> {q50}\")\n",
    "print(f\"Streumass: Quartilsabstand -> {Q}\")"
   ]
  },
  {
   "cell_type": "markdown",
   "id": "78cafa85-77fe-440c-a3b3-6edfdd27f851",
   "metadata": {},
   "source": [
    "### Abteilung"
   ]
  },
  {
   "cell_type": "code",
   "execution_count": 13,
   "id": "9669600a-0c07-47f5-a867-1c5f584ce5f8",
   "metadata": {},
   "outputs": [
    {
     "name": "stdout",
     "output_type": "stream",
     "text": [
      "Modus = Entwicklung\n",
      "Disperionsindex = 0.9791999999999998\n"
     ]
    }
   ],
   "source": [
    "modus = df[\"Abteilung\"].mode()[0]\n",
    "\n",
    "values, absFreq = np.unique(df[\"Abteilung\"], return_counts=True)\n",
    "m = len(values)\n",
    "relFreq = absFreq/df.shape[0]\n",
    "relFeqInv = 1 - relFreq\n",
    "P = m/(m-1) * sum(relFreq * relFeqInv)\n",
    "\n",
    "print(f\"Modus = {modus}\")\n",
    "print(f\"Disperionsindex = {P}\")"
   ]
  },
  {
   "cell_type": "markdown",
   "id": "6d0b6a11-136d-4f66-bf56-70081e7999ca",
   "metadata": {},
   "source": [
    "### Ausbildung"
   ]
  },
  {
   "cell_type": "code",
   "execution_count": 14,
   "id": "ddceb93c-843f-47d1-b795-ee7f0e035cb6",
   "metadata": {},
   "outputs": [
    {
     "name": "stdout",
     "output_type": "stream",
     "text": [
      "Diversität = 0.5376000000000001\n",
      "Median = Abitur\n"
     ]
    }
   ],
   "source": [
    "modus = df[\"Ausbildung\"].mode()[0]\n",
    "values, absFreq = np.unique(df[\"Ausbildung\"], return_counts=True)\n",
    "values = np.array([values[3],values[0],values[1],values[2],values[4]])\n",
    "absFreq = np.array([absFreq[3],absFreq[0],absFreq[1],absFreq[2],absFreq[4]])\n",
    "\n",
    "relFreq = absFreq/df[\"Ausbildung\"].shape[0]\n",
    "relSumFreq = np.array([relFreq[0],sum(relFreq[:2]),sum(relFreq[:3]),sum(relFreq)])\n",
    "relSumFreqInv = 1 - relSumFreq\n",
    "\n",
    "m = len(values)\n",
    "D = 4/(m-1) * sum(relSumFreq * relSumFreqInv)\n",
    "\n",
    "median = values[0]\n",
    "i = 1\n",
    "while i < len(values):\n",
    "    if relSumFreq[i] > 0.5:\n",
    "        break\n",
    "    median = values[i];\n",
    "    i += 1\n",
    "\n",
    "print(f\"Diversität = {D}\")\n",
    "print(f\"Median = {median}\")"
   ]
  },
  {
   "cell_type": "markdown",
   "id": "68f8ed44-b071-4c7f-8370-45c15eee79de",
   "metadata": {},
   "source": [
    "### Eintrittsjahr"
   ]
  },
  {
   "cell_type": "code",
   "execution_count": 15,
   "id": "b421db99-37eb-4739-b19c-8aaa78a814da",
   "metadata": {},
   "outputs": [
    {
     "name": "stdout",
     "output_type": "stream",
     "text": [
      "Durchschnitt = 2008.0\n",
      "Standardabweichung = 1.4142135623730951\n"
     ]
    }
   ],
   "source": [
    "values, absFreq = np.unique(df[\"Eintrittsjahr\"], return_counts=True)\n",
    "mean = values.mean()\n",
    "\n",
    "s = values.std(ddof=0)\n",
    "\n",
    "print(f\"Durchschnitt = {mean}\")\n",
    "print(f\"Standardabweichung = {s}\")"
   ]
  },
  {
   "cell_type": "markdown",
   "id": "55dea18d-2381-4faa-8b3b-6fb1f7043bb8",
   "metadata": {},
   "source": [
    "### Bruttogehalt"
   ]
  },
  {
   "cell_type": "code",
   "execution_count": 16,
   "id": "aa14efff-db8b-48af-825b-2a750b16c47e",
   "metadata": {},
   "outputs": [
    {
     "name": "stdout",
     "output_type": "stream",
     "text": [
      "Median = 7200.0\n",
      "Quartilsabstand = 8200.0\n"
     ]
    }
   ],
   "source": [
    "values, absFreq = np.unique(df[\"Bruttogehalt\"], return_counts=True)\n",
    "\n",
    "median = df[\"Bruttogehalt\"].quantile(0.5)\n",
    "\n",
    "Q = df[\"Bruttogehalt\"].quantile(0.75) - df[\"Bruttogehalt\"].quantile(0.25)\n",
    "\n",
    "print(f\"Median = {median}\")\n",
    "print(f\"Quartilsabstand = {Q}\")"
   ]
  },
  {
   "cell_type": "markdown",
   "id": "940af48f-22e1-4363-a5ed-5e21db3fc721",
   "metadata": {},
   "source": [
    "### <span style=\"color:rgb(160,0,86)\">Aufgabe 2</span>\n",
    "\n",
    "Laden Sie die Daten *Gesundheitskosten.csv* und bestimmen Sie für alle Merkmale passende Lagemasse und Streumasse. "
   ]
  },
  {
   "cell_type": "code",
   "execution_count": 17,
   "id": "51bf0f43-9118-4e1e-bd06-15ffa32948c7",
   "metadata": {},
   "outputs": [
    {
     "data": {
      "text/html": [
       "<div>\n",
       "<style scoped>\n",
       "    .dataframe tbody tr th:only-of-type {\n",
       "        vertical-align: middle;\n",
       "    }\n",
       "\n",
       "    .dataframe tbody tr th {\n",
       "        vertical-align: top;\n",
       "    }\n",
       "\n",
       "    .dataframe thead th {\n",
       "        text-align: right;\n",
       "    }\n",
       "</style>\n",
       "<table border=\"1\" class=\"dataframe\">\n",
       "  <thead>\n",
       "    <tr style=\"text-align: right;\">\n",
       "      <th></th>\n",
       "      <th>Jahr</th>\n",
       "      <th>Krankenhäuser</th>\n",
       "      <th>Sozialmedizin</th>\n",
       "      <th>Arztpraxen</th>\n",
       "      <th>Zahnmedizin</th>\n",
       "      <th>Andere</th>\n",
       "      <th>Unterstützer</th>\n",
       "      <th>Detailhandel</th>\n",
       "      <th>Prävention</th>\n",
       "      <th>Staat</th>\n",
       "      <th>Versicherer</th>\n",
       "      <th>Importe</th>\n",
       "    </tr>\n",
       "  </thead>\n",
       "  <tbody>\n",
       "    <tr>\n",
       "      <th>0</th>\n",
       "      <td>1995</td>\n",
       "      <td>12618.01</td>\n",
       "      <td>5626.22</td>\n",
       "      <td>5426.39</td>\n",
       "      <td>2678.79</td>\n",
       "      <td>1850.24</td>\n",
       "      <td>539.26</td>\n",
       "      <td>4291.59</td>\n",
       "      <td>523.88</td>\n",
       "      <td>873.51</td>\n",
       "      <td>1412.37</td>\n",
       "      <td>216.10</td>\n",
       "    </tr>\n",
       "    <tr>\n",
       "      <th>1</th>\n",
       "      <td>1996</td>\n",
       "      <td>13190.23</td>\n",
       "      <td>5983.41</td>\n",
       "      <td>5679.40</td>\n",
       "      <td>2731.91</td>\n",
       "      <td>1952.40</td>\n",
       "      <td>530.95</td>\n",
       "      <td>4459.82</td>\n",
       "      <td>543.27</td>\n",
       "      <td>864.67</td>\n",
       "      <td>1613.91</td>\n",
       "      <td>222.72</td>\n",
       "    </tr>\n",
       "    <tr>\n",
       "      <th>2</th>\n",
       "      <td>1997</td>\n",
       "      <td>13306.79</td>\n",
       "      <td>6218.51</td>\n",
       "      <td>5889.70</td>\n",
       "      <td>2752.02</td>\n",
       "      <td>1972.85</td>\n",
       "      <td>510.27</td>\n",
       "      <td>4646.23</td>\n",
       "      <td>554.69</td>\n",
       "      <td>810.88</td>\n",
       "      <td>1654.12</td>\n",
       "      <td>228.30</td>\n",
       "    </tr>\n",
       "  </tbody>\n",
       "</table>\n",
       "</div>"
      ],
      "text/plain": [
       "   Jahr  Krankenhäuser  Sozialmedizin  Arztpraxen  Zahnmedizin   Andere  \\\n",
       "0  1995       12618.01        5626.22     5426.39      2678.79  1850.24   \n",
       "1  1996       13190.23        5983.41     5679.40      2731.91  1952.40   \n",
       "2  1997       13306.79        6218.51     5889.70      2752.02  1972.85   \n",
       "\n",
       "   Unterstützer  Detailhandel  Prävention   Staat  Versicherer  Importe  \n",
       "0        539.26       4291.59      523.88  873.51      1412.37   216.10  \n",
       "1        530.95       4459.82      543.27  864.67      1613.91   222.72  \n",
       "2        510.27       4646.23      554.69  810.88      1654.12   228.30  "
      ]
     },
     "execution_count": 17,
     "metadata": {},
     "output_type": "execute_result"
    }
   ],
   "source": [
    "import pandas as pd\n",
    "import numpy as np\n",
    "\n",
    "df = pd.read_csv(\"./Daten/Gesundheitskosten.csv\")\n",
    "df.head(3)"
   ]
  },
  {
   "cell_type": "markdown",
   "id": "2fe8d091-46cd-4732-bad5-535e1681a236",
   "metadata": {},
   "source": [
    "### Krankenhäuser"
   ]
  },
  {
   "cell_type": "code",
   "execution_count": 18,
   "id": "bed89927-b9dc-4c30-802a-f19ec50a962d",
   "metadata": {},
   "outputs": [
    {
     "name": "stdout",
     "output_type": "stream",
     "text": [
      "Median = 20042.504999999997\n",
      "Quantilenabstand = 9616.2275\n",
      "Standardabweichung = 5807.75768741274\n"
     ]
    }
   ],
   "source": [
    "values, absFreq = np.unique(df[\"Krankenhäuser\"], return_counts=True)\n",
    "\n",
    "s = df[\"Krankenhäuser\"].std(ddof=0)\n",
    "median = df[\"Krankenhäuser\"].quantile(0.5)\n",
    "Q = df[\"Krankenhäuser\"].quantile(0.75) - df[\"Krankenhäuser\"].quantile(0.25)\n",
    "\n",
    "print(f\"Median = {median}\")\n",
    "print(f\"Quantilenabstand = {Q}\")\n",
    "print(f\"Standardabweichung = {s}\")"
   ]
  },
  {
   "cell_type": "markdown",
   "id": "bf185110-9fe8-4313-b502-03bf5f25f3fe",
   "metadata": {},
   "source": [
    "### Sozialmedizin"
   ]
  },
  {
   "cell_type": "code",
   "execution_count": 19,
   "id": "c5dc6b2e-e76d-4a9d-a53a-f6a7f7fe0621",
   "metadata": {},
   "outputs": [
    {
     "name": "stdout",
     "output_type": "stream",
     "text": [
      "Durchschnitt = 9855.739230769232\n",
      "Quantilenabstand = 4575.750000000001\n",
      "Standardabweichung = 2616.080220201624\n"
     ]
    }
   ],
   "source": [
    "values, absFreq = np.unique(df[\"Sozialmedizin\"], return_counts=True)\n",
    "\n",
    "s = df[\"Sozialmedizin\"].std(ddof=0)\n",
    "mean = df[\"Sozialmedizin\"].mean()\n",
    "Q = df[\"Sozialmedizin\"].quantile(0.75) - df[\"Sozialmedizin\"].quantile(0.25)\n",
    "\n",
    "print(f\"Durchschnitt = {mean}\")\n",
    "print(f\"Quantilenabstand = {Q}\")\n",
    "print(f\"Standardabweichung = {s}\")"
   ]
  },
  {
   "cell_type": "markdown",
   "id": "1d701505-927a-4bf6-a940-e0c6cf7fb30d",
   "metadata": {},
   "source": [
    "### Arztpraxen"
   ]
  },
  {
   "cell_type": "code",
   "execution_count": 20,
   "id": "5d0b66c1-1013-4bec-b005-b08ab21219af",
   "metadata": {},
   "outputs": [
    {
     "name": "stdout",
     "output_type": "stream",
     "text": [
      "Durchschnitt = 9031.076923076924\n",
      "Standardabweichung = 2383.1793929454334\n"
     ]
    }
   ],
   "source": [
    "values, absFreq = np.unique(df[\"Arztpraxen\"], return_counts=True)\n",
    "\n",
    "s = df[\"Arztpraxen\"].std(ddof=0)\n",
    "mean = df[\"Arztpraxen\"].mean()\n",
    "Q = df[\"Arztpraxen\"].quantile(0.75) - df[\"Arztpraxen\"].quantile(0.25)\n",
    "\n",
    "print(f\"Durchschnitt = {mean}\")\n",
    "print(f\"Standardabweichung = {s}\")"
   ]
  },
  {
   "cell_type": "markdown",
   "id": "4d47ed56-2c80-4d2d-974c-100f0a3c00fd",
   "metadata": {},
   "source": [
    "### Zahnmedizin"
   ]
  },
  {
   "cell_type": "code",
   "execution_count": 21,
   "id": "55799e9d-df08-4c8c-bb75-482b49e01f71",
   "metadata": {},
   "outputs": [
    {
     "name": "stdout",
     "output_type": "stream",
     "text": [
      "Durchschnitt = 3550.536538461539\n",
      "Standardabweichung = 579.6378918105968\n"
     ]
    }
   ],
   "source": [
    "values, absFreq = np.unique(df[\"Zahnmedizin\"], return_counts=True)\n",
    "\n",
    "s = df[\"Zahnmedizin\"].std(ddof=0)\n",
    "mean = df[\"Zahnmedizin\"].mean()\n",
    "Q = df[\"Zahnmedizin\"].quantile(0.75) - df[\"Zahnmedizin\"].quantile(0.25)\n",
    "\n",
    "print(f\"Durchschnitt = {mean}\")\n",
    "print(f\"Standardabweichung = {s}\")"
   ]
  },
  {
   "cell_type": "markdown",
   "id": "819df27c-91f2-4814-9685-01a1e58bd6e6",
   "metadata": {},
   "source": [
    "### Andere\n"
   ]
  },
  {
   "cell_type": "code",
   "execution_count": 22,
   "id": "0644d6eb-920a-4756-8b32-a5c43109d0e1",
   "metadata": {},
   "outputs": [
    {
     "name": "stdout",
     "output_type": "stream",
     "text": [
      "Durchschnitt = 3529.251153846154\n",
      "Standardabweichung = 1355.2552520049978\n"
     ]
    }
   ],
   "source": [
    "values, absFreq = np.unique(df[\"Andere\"], return_counts=True)\n",
    "\n",
    "s = df[\"Andere\"].std(ddof=0)\n",
    "mean = df[\"Andere\"].mean()\n",
    "Q = df[\"Andere\"].quantile(0.75) - df[\"Andere\"].quantile(0.25)\n",
    "\n",
    "print(f\"Durchschnitt = {mean}\")\n",
    "print(f\"Standardabweichung = {s}\")"
   ]
  },
  {
   "cell_type": "markdown",
   "id": "e4993fc8-614e-49b0-9937-693ce5d74810",
   "metadata": {},
   "source": [
    "### Unterstützer"
   ]
  },
  {
   "cell_type": "code",
   "execution_count": 23,
   "id": "74ae2a44-3358-4a3d-a059-89cdc9fa4093",
   "metadata": {},
   "outputs": [
    {
     "name": "stdout",
     "output_type": "stream",
     "text": [
      "Durchschnitt = 850.22\n",
      "Quantillenabstand = 660.3500000000001\n"
     ]
    }
   ],
   "source": [
    "values, absFreq = np.unique(df[\"Unterstützer\"], return_counts=True)\n",
    "\n",
    "s = df[\"Unterstützer\"].std(ddof=0)\n",
    "median = df[\"Unterstützer\"].quantile(0.5)\n",
    "Q = df[\"Unterstützer\"].quantile(0.75) - df[\"Unterstützer\"].quantile(0.25)\n",
    "\n",
    "print(f\"Durchschnitt = {median}\")\n",
    "print(f\"Quantillenabstand = {Q}\")"
   ]
  },
  {
   "cell_type": "markdown",
   "id": "c7a09af2-7303-47f7-b4cd-ad3b4cf95f92",
   "metadata": {},
   "source": [
    "### Detailhandel"
   ]
  },
  {
   "cell_type": "code",
   "execution_count": 24,
   "id": "0d53beb0-0632-41e8-8830-f6e5778d697e",
   "metadata": {},
   "outputs": [
    {
     "name": "stdout",
     "output_type": "stream",
     "text": [
      "Durchschnitt = 6087.564230769231\n",
      "Standardabweichung = 950.7116368771549\n"
     ]
    }
   ],
   "source": [
    "values, absFreq = np.unique(df[\"Detailhandel\"], return_counts=True)\n",
    "\n",
    "s = df[\"Detailhandel\"].std(ddof=0)\n",
    "mean = df[\"Detailhandel\"].mean()\n",
    "Q = df[\"Detailhandel\"].quantile(0.75) - df[\"Detailhandel\"].quantile(0.25)\n",
    "\n",
    "print(f\"Durchschnitt = {mean}\")\n",
    "print(f\"Standardabweichung = {s}\")"
   ]
  },
  {
   "cell_type": "markdown",
   "id": "8df727e2-e779-47ab-8dd0-322419f56985",
   "metadata": {},
   "source": [
    "### Prävention"
   ]
  },
  {
   "cell_type": "code",
   "execution_count": 25,
   "id": "c90d9329-0e74-4ef5-a6d3-10f7389ae0a3",
   "metadata": {},
   "outputs": [
    {
     "name": "stdout",
     "output_type": "stream",
     "text": [
      "Durchschnitt = 820.9746153846155\n",
      "Standardabweichung = 179.547647784236\n"
     ]
    }
   ],
   "source": [
    "values, absFreq = np.unique(df[\"Prävention\"], return_counts=True)\n",
    "\n",
    "s = df[\"Prävention\"].std(ddof=0)\n",
    "mean = df[\"Prävention\"].mean()\n",
    "Q = df[\"Prävention\"].quantile(0.75) - df[\"Prävention\"].quantile(0.25)\n",
    "\n",
    "print(f\"Durchschnitt = {mean}\")\n",
    "print(f\"Standardabweichung = {s}\")"
   ]
  },
  {
   "cell_type": "markdown",
   "id": "dcd269ef-b583-4e45-a968-01d24bc0aa7d",
   "metadata": {},
   "source": [
    "### Staat"
   ]
  },
  {
   "cell_type": "code",
   "execution_count": 26,
   "id": "d7728c00-cd91-4bb1-80e3-1f20f4399a35",
   "metadata": {},
   "outputs": [
    {
     "name": "stdout",
     "output_type": "stream",
     "text": [
      "Median = 1244.0900000000001\n",
      "Qunatillenabstand = 334.8275000000001\n"
     ]
    }
   ],
   "source": [
    "values, absFreq = np.unique(df[\"Staat\"], return_counts=True)\n",
    "\n",
    "s = df[\"Staat\"].std(ddof=0)\n",
    "median = df[\"Staat\"].quantile(0.5)\n",
    "Q = df[\"Staat\"].quantile(0.75) - df[\"Staat\"].quantile(0.25)\n",
    "\n",
    "print(f\"Median = {median}\")\n",
    "print(f\"Qunatillenabstand = {Q}\")"
   ]
  },
  {
   "cell_type": "markdown",
   "id": "6c98bcb8-1692-4780-a07a-7429332b2f75",
   "metadata": {},
   "source": [
    "### Versicherer"
   ]
  },
  {
   "cell_type": "code",
   "execution_count": 27,
   "id": "dc457ef7-4b6f-41d8-8adf-72af21d0eaa3",
   "metadata": {},
   "outputs": [
    {
     "name": "stdout",
     "output_type": "stream",
     "text": [
      "Median = 2200.4049999999997\n",
      "Qunatillenabstand = 690.6824999999999\n"
     ]
    }
   ],
   "source": [
    "values, absFreq = np.unique(df[\"Versicherer\"], return_counts=True)\n",
    "\n",
    "s = df[\"Versicherer\"].std(ddof=0)\n",
    "median = df[\"Versicherer\"].quantile(0.5)\n",
    "Q = df[\"Versicherer\"].quantile(0.75) - df[\"Versicherer\"].quantile(0.25)\n",
    "\n",
    "print(f\"Median = {median}\")\n",
    "print(f\"Qunatillenabstand = {Q}\")"
   ]
  },
  {
   "cell_type": "markdown",
   "id": "b0cd7b79-11ed-451b-8566-9a218a3afc4b",
   "metadata": {},
   "source": [
    "### Importe"
   ]
  },
  {
   "cell_type": "code",
   "execution_count": 28,
   "id": "f474edec-187e-4734-baf1-aea420d4bc92",
   "metadata": {},
   "outputs": [
    {
     "name": "stdout",
     "output_type": "stream",
     "text": [
      "Median = 2200.4049999999997\n",
      "Standardabweichung = 139.00477189299534\n"
     ]
    }
   ],
   "source": [
    "values, absFreq = np.unique(df[\"Importe\"], return_counts=True)\n",
    "\n",
    "s = df[\"Importe\"].std(ddof=0)\n",
    "mean = df[\"Importe\"].mean()\n",
    "Q = df[\"Importe\"].quantile(0.75) - df[\"Importe\"].quantile(0.25)\n",
    "\n",
    "print(f\"Median = {median}\")\n",
    "print(f\"Standardabweichung = {s}\")"
   ]
  },
  {
   "cell_type": "markdown",
   "id": "9427c906-49c0-46c8-ad1f-8597a62cdf03",
   "metadata": {},
   "source": [
    "### <span style=\"color:rgb(160,0,86)\">Aufgabe 3</span>\n",
    "\n",
    "Laden Sie die Daten *2022_Mathematik 1 WiSo Urliste*. In dieser Excel Datei sind die Mathematik Prüfungsergebnisse von Studierenden an der Fakultät Wirschaft und Sozialwissenschaften der Universität Bern gespeichert. Alle Studierende haben die gleiche Prüfung geschrieben, nur die Reihenfolge der Aufgaben war in der Version A und Version B anders (siehe Angaben in den Zellen N3 und N4). Die Punkte für die 9 Aufgaben sind abhängig von der Version A und B also in den Spalten vertauscht!  Bestimmen Sie für jede Aufgabe passende Lagemasse und Streumasse für die Punkte.  "
   ]
  },
  {
   "cell_type": "code",
   "execution_count": 29,
   "id": "2b0af00c-a6b6-4176-9868-54ca17f7fb97",
   "metadata": {},
   "outputs": [
    {
     "data": {
      "text/html": [
       "<div>\n",
       "<style scoped>\n",
       "    .dataframe tbody tr th:only-of-type {\n",
       "        vertical-align: middle;\n",
       "    }\n",
       "\n",
       "    .dataframe tbody tr th {\n",
       "        vertical-align: top;\n",
       "    }\n",
       "\n",
       "    .dataframe thead th {\n",
       "        text-align: right;\n",
       "    }\n",
       "</style>\n",
       "<table border=\"1\" class=\"dataframe\">\n",
       "  <thead>\n",
       "    <tr style=\"text-align: right;\">\n",
       "      <th></th>\n",
       "      <th>Aufgabe 1</th>\n",
       "      <th>Aufgabe 2</th>\n",
       "      <th>Aufgabe 3</th>\n",
       "      <th>Aufgabe 4</th>\n",
       "      <th>Aufgabe 5</th>\n",
       "      <th>Aufgabe 6</th>\n",
       "      <th>Aufgabe 7</th>\n",
       "      <th>Aufgabe 8</th>\n",
       "      <th>Aufgabe 9</th>\n",
       "      <th>Version 1. Teilprüfung</th>\n",
       "    </tr>\n",
       "  </thead>\n",
       "  <tbody>\n",
       "    <tr>\n",
       "      <th>0</th>\n",
       "      <td>3.5</td>\n",
       "      <td>4</td>\n",
       "      <td>3.5</td>\n",
       "      <td>4</td>\n",
       "      <td>4</td>\n",
       "      <td>4</td>\n",
       "      <td>4</td>\n",
       "      <td>4</td>\n",
       "      <td>4</td>\n",
       "      <td>A</td>\n",
       "    </tr>\n",
       "    <tr>\n",
       "      <th>1</th>\n",
       "      <td>2.5</td>\n",
       "      <td>3.5</td>\n",
       "      <td>4</td>\n",
       "      <td>3</td>\n",
       "      <td>2</td>\n",
       "      <td>4</td>\n",
       "      <td>3</td>\n",
       "      <td>1</td>\n",
       "      <td>1.5</td>\n",
       "      <td>B</td>\n",
       "    </tr>\n",
       "    <tr>\n",
       "      <th>2</th>\n",
       "      <td>1.5</td>\n",
       "      <td>4</td>\n",
       "      <td>3</td>\n",
       "      <td>2.5</td>\n",
       "      <td>3</td>\n",
       "      <td>4</td>\n",
       "      <td>1.5</td>\n",
       "      <td>3</td>\n",
       "      <td>2</td>\n",
       "      <td>A</td>\n",
       "    </tr>\n",
       "    <tr>\n",
       "      <th>3</th>\n",
       "      <td>1.5</td>\n",
       "      <td>3.5</td>\n",
       "      <td>1.5</td>\n",
       "      <td>4</td>\n",
       "      <td>3</td>\n",
       "      <td>0</td>\n",
       "      <td>1</td>\n",
       "      <td>3.5</td>\n",
       "      <td>0</td>\n",
       "      <td>A</td>\n",
       "    </tr>\n",
       "    <tr>\n",
       "      <th>4</th>\n",
       "      <td>3.5</td>\n",
       "      <td>3</td>\n",
       "      <td>3.5</td>\n",
       "      <td>3</td>\n",
       "      <td>3.5</td>\n",
       "      <td>2</td>\n",
       "      <td>3.5</td>\n",
       "      <td>2.5</td>\n",
       "      <td>2</td>\n",
       "      <td>A</td>\n",
       "    </tr>\n",
       "    <tr>\n",
       "      <th>5</th>\n",
       "      <td>2.5</td>\n",
       "      <td>4</td>\n",
       "      <td>4</td>\n",
       "      <td>1.5</td>\n",
       "      <td>1</td>\n",
       "      <td>3</td>\n",
       "      <td>3</td>\n",
       "      <td>3.5</td>\n",
       "      <td>1.5</td>\n",
       "      <td>B</td>\n",
       "    </tr>\n",
       "    <tr>\n",
       "      <th>6</th>\n",
       "      <td>4</td>\n",
       "      <td>3.5</td>\n",
       "      <td>3.5</td>\n",
       "      <td>4</td>\n",
       "      <td>3</td>\n",
       "      <td>4</td>\n",
       "      <td>3.5</td>\n",
       "      <td>3</td>\n",
       "      <td>3.5</td>\n",
       "      <td>A</td>\n",
       "    </tr>\n",
       "    <tr>\n",
       "      <th>7</th>\n",
       "      <td>1</td>\n",
       "      <td>2</td>\n",
       "      <td>0</td>\n",
       "      <td>0</td>\n",
       "      <td>0</td>\n",
       "      <td>0</td>\n",
       "      <td>0</td>\n",
       "      <td>0</td>\n",
       "      <td>0</td>\n",
       "      <td>B</td>\n",
       "    </tr>\n",
       "    <tr>\n",
       "      <th>8</th>\n",
       "      <td>2.5</td>\n",
       "      <td>2</td>\n",
       "      <td>2</td>\n",
       "      <td>3</td>\n",
       "      <td>1</td>\n",
       "      <td>4</td>\n",
       "      <td>1.5</td>\n",
       "      <td>3.5</td>\n",
       "      <td>0</td>\n",
       "      <td>B</td>\n",
       "    </tr>\n",
       "    <tr>\n",
       "      <th>9</th>\n",
       "      <td>4</td>\n",
       "      <td>3.5</td>\n",
       "      <td>4</td>\n",
       "      <td>3.5</td>\n",
       "      <td>1</td>\n",
       "      <td>3</td>\n",
       "      <td>3.5</td>\n",
       "      <td>4</td>\n",
       "      <td>3</td>\n",
       "      <td>B</td>\n",
       "    </tr>\n",
       "  </tbody>\n",
       "</table>\n",
       "</div>"
      ],
      "text/plain": [
       "  Aufgabe 1 Aufgabe 2 Aufgabe 3 Aufgabe 4 Aufgabe 5 Aufgabe 6 Aufgabe 7  \\\n",
       "0       3.5         4       3.5         4         4         4         4   \n",
       "1       2.5       3.5         4         3         2         4         3   \n",
       "2       1.5         4         3       2.5         3         4       1.5   \n",
       "3       1.5       3.5       1.5         4         3         0         1   \n",
       "4       3.5         3       3.5         3       3.5         2       3.5   \n",
       "5       2.5         4         4       1.5         1         3         3   \n",
       "6         4       3.5       3.5         4         3         4       3.5   \n",
       "7         1         2         0         0         0         0         0   \n",
       "8       2.5         2         2         3         1         4       1.5   \n",
       "9         4       3.5         4       3.5         1         3       3.5   \n",
       "\n",
       "  Aufgabe 8 Aufgabe 9 Version 1. Teilprüfung  \n",
       "0         4         4                      A  \n",
       "1         1       1.5                      B  \n",
       "2         3         2                      A  \n",
       "3       3.5         0                      A  \n",
       "4       2.5         2                      A  \n",
       "5       3.5       1.5                      B  \n",
       "6         3       3.5                      A  \n",
       "7         0         0                      B  \n",
       "8       3.5         0                      B  \n",
       "9         4         3                      B  "
      ]
     },
     "execution_count": 29,
     "metadata": {},
     "output_type": "execute_result"
    }
   ],
   "source": [
    "import pandas as pd\n",
    "import numpy as np\n",
    "\n",
    "excel = pd.ExcelFile(\"Daten/2022_Mathematik 1 WiSo Urliste.xls\")\n",
    "\n",
    "df = excel.parse(\"Punkte Math 1\")\n",
    "df.drop([\"Unnamed: 12\", \"Unnamed: 13\", \"Unnamed: 10\"], axis=1, inplace=True)\n",
    "df.drop([0,1,2], axis=0, inplace=True)\n",
    "\n",
    "new_columns = df.iloc[0].tolist()\n",
    "df.rename(columns=dict(zip(df.columns, new_columns)), inplace=True)\n",
    "df.drop(3, axis=0, inplace=True)\n",
    "df.set_index(\"Nr.\", inplace=True)\n",
    "df.reset_index(drop=True, inplace=True)\n",
    "\n",
    "df.head(10)"
   ]
  },
  {
   "cell_type": "code",
   "execution_count": 30,
   "id": "8281f1a8-6b78-490a-bc1a-2777e845bc3e",
   "metadata": {},
   "outputs": [],
   "source": [
    "def switch_order(row):\n",
    "    version_B = [2, 1, 4, 3, 6, 5, 8, 7, 9]\n",
    "    new_row = row.copy()\n",
    "    for i in range(len(version_B)):\n",
    "        version_B_index = version_B[i] - 1\n",
    "        new_row.iloc[i] = row.iloc[version_B_index]\n",
    "    return new_row\n",
    "\n",
    "df.iloc[1][\"Version 1. Teilprüfung\"]\n",
    "df[df[\"Version 1. Teilprüfung\"]==\"B\"] = df[df[\"Version 1. Teilprüfung\"]==\"B\"].apply(switch_order, axis=1)    "
   ]
  },
  {
   "cell_type": "code",
   "execution_count": 31,
   "id": "126b2c85-a71e-4fe9-b5f3-4a059b8484b4",
   "metadata": {},
   "outputs": [
    {
     "name": "stdout",
     "output_type": "stream",
     "text": [
      "Means:\n",
      "Aufgabe 1    2.109524\n",
      "Aufgabe 2    2.807143\n",
      "Aufgabe 3    2.359524\n",
      "Aufgabe 4    2.548810\n",
      "Aufgabe 5    2.760714\n",
      "Aufgabe 6    1.472619\n",
      "Aufgabe 7    2.253571\n",
      "Aufgabe 8    2.117857\n",
      "Aufgabe 9    1.046429\n",
      "dtype: float64\n",
      "\n",
      "Standard Deviations:\n",
      "Aufgabe 1    1.308556\n",
      "Aufgabe 2    1.010539\n",
      "Aufgabe 3    1.278808\n",
      "Aufgabe 4    1.393601\n",
      "Aufgabe 5    1.214669\n",
      "Aufgabe 6    1.217352\n",
      "Aufgabe 7    1.441993\n",
      "Aufgabe 8    1.343166\n",
      "Aufgabe 9    1.249195\n",
      "dtype: float64\n"
     ]
    }
   ],
   "source": [
    "df_onlyEx = df.drop(columns=[\"Version 1. Teilprüfung\"])\n",
    "for column in df_onlyEx.columns:\n",
    "    df_onlyEx[column] = pd.to_numeric(df_onlyEx[column], errors='coerce')\n",
    "\n",
    "means = df_onlyEx.mean()\n",
    "std_devs = df_onlyEx.std()\n",
    "\n",
    "print(\"Means:\")\n",
    "print(means)\n",
    "\n",
    "print(\"\\nStandard Deviations:\")\n",
    "print(std_devs)"
   ]
  },
  {
   "cell_type": "markdown",
   "id": "afc58872-4e9b-44ca-97e9-2b7c5f4e62f7",
   "metadata": {},
   "source": [
    "![HSLU](Bilder/LogoHSLU.png)"
   ]
  }
 ],
 "metadata": {
  "kernelspec": {
   "display_name": "Python 3 (ipykernel)",
   "language": "python",
   "name": "python3"
  },
  "language_info": {
   "codemirror_mode": {
    "name": "ipython",
    "version": 3
   },
   "file_extension": ".py",
   "mimetype": "text/x-python",
   "name": "python",
   "nbconvert_exporter": "python",
   "pygments_lexer": "ipython3",
   "version": "3.13.2"
  }
 },
 "nbformat": 4,
 "nbformat_minor": 5
}
