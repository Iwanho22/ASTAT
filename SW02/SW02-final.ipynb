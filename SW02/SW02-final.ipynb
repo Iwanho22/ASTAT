{
 "cells": [
  {
   "cell_type": "markdown",
   "id": "f8edfe32-7c29-46a2-939f-a0d3f4e6fa2b",
   "metadata": {},
   "source": [
    "# <span style=\"color:rgb(160,0,86)\">Datenbeschreibung mit Python</span>\n",
    "\n",
    "***"
   ]
  },
  {
   "cell_type": "markdown",
   "id": "efc2b411-5d0c-45cd-a36d-deb3a678be0e",
   "metadata": {},
   "source": [
    "## <span style=\"color:rgb(160,0,86)\">Lernziele</span>\n",
    "\n",
    "- Sie können absolute und relative Häufigkeiten und Summenhäufigkeiten berechnen und verstehen ihre Bedeutung.\n",
    "- Sie kennen Lagemasse und Streumasse für nominale, ordinale und metrische Merkmale und können sie berechnen.  \n",
    "\n",
    "***"
   ]
  },
  {
   "cell_type": "markdown",
   "id": "e1aeb5b2-eafa-4db1-b3d5-9b13de1f83fe",
   "metadata": {},
   "source": [
    "### <span style=\"color:rgb(160,0,86)\">Was ist eine Häufigkeitsanalyse?</span>\n",
    "\n",
    "Die grundlegendste Aufbereitung statistischer Daten ist die Darstellung, wie häufig die Werte $w$ eines Merkmals vorkommen. \n",
    "\n",
    "- Die **absolute Häufigkeit** $n(w)$ ist die Anzahl, wie oft ein Wert $w$ vorkommt.\n",
    "- Die **relative Häufigkeit** $h(w)=\\displaystyle\\frac{n(w)}{n}$ ist der Anteil, mit dem ein Wert $w$ vorkommt. \n",
    "\n",
    "Weil *oridinale* und *metrische* Merkmalen eine Reihenfolge haben, können wir Häufigkeiten auch der Reihe nach kumulieren:\n",
    "\n",
    "- Die **absolute Summenhäufigkeit** $N(w)$ ist die Anzahl, wie oft Werte kleiner oder gleich $w$ vorkommen.\n",
    "- Die **relative Summenhäufigkeit** $H(w)=\\displaystyle\\frac{N(w)}{n}$ ist der Anteil, mit dem Werte kleiner oder gleich $w$ vorkommen.\n",
    "\n",
    "Die Auflistung aller Werte $w_1, w_2, \\ldots, w_m$ eines Merkmals zusammen mit ihren Häufigkeiten nennen wir eine **empirische Häufigkeitsverteilung**.\n",
    "\n",
    "*Merke:* Aus der empirischen Häufigkeitsverteilung können wir nicht mehr herauslesen, was für einen Wert eine statistische Einheit bei einem Merkmal hat. Wir sehen nur noch, wie oft oder wie häufig die Werte eines Merkmals vorkommen. **Es geht Information verloren!** \n",
    "\n",
    "***"
   ]
  },
  {
   "cell_type": "markdown",
   "id": "2e06298c-4330-47c3-8648-09690e76b5d3",
   "metadata": {},
   "source": [
    "#### <span style=\"color:rgb(160,0,86)\">Beispiel:</span>\n",
    "\n",
    "Betrachten wir 10 ehemalige Studierende mit den Merkmalen **Geschlecht**, **Gesamtprädikat** und **Alter**:\n",
    "\n",
    "$$\\begin{bmatrix}\n",
    "\\text{Anna}&w&\\text{ausgezeichnet}&27\\\\\n",
    "\\text{Beat}&m&\\text{gut}&34\\\\\n",
    "\\text{Cary}&m&\\text{sehr gut}&29\\\\\n",
    "\\text{Dana}&w&\\text{sehr gut}&24\\\\\n",
    "\\text{Elif}&w&\\text{gut}&25\\\\\n",
    "\\text{Faro}&m&\\text{ausgezeichnet}&27\\\\\n",
    "\\text{Gabi}&w&\\text{sehr gut}&27\\\\\n",
    "\\text{Hans}&m&\\text{genügend}&69\\\\\n",
    "\\text{Ivea}&w&\\text{sehr gut}&26\\\\\n",
    "\\text{Jose}&w&\\text{gut}&31\n",
    "\\end{bmatrix}$$ "
   ]
  },
  {
   "cell_type": "code",
   "execution_count": 2,
   "id": "428c426f-e38b-45ac-ac2f-67156537c084",
   "metadata": {},
   "outputs": [
    {
     "data": {
      "text/html": [
       "<div>\n",
       "<style scoped>\n",
       "    .dataframe tbody tr th:only-of-type {\n",
       "        vertical-align: middle;\n",
       "    }\n",
       "\n",
       "    .dataframe tbody tr th {\n",
       "        vertical-align: top;\n",
       "    }\n",
       "\n",
       "    .dataframe thead th {\n",
       "        text-align: right;\n",
       "    }\n",
       "</style>\n",
       "<table border=\"1\" class=\"dataframe\">\n",
       "  <thead>\n",
       "    <tr style=\"text-align: right;\">\n",
       "      <th></th>\n",
       "      <th>Name</th>\n",
       "      <th>Geschlecht</th>\n",
       "      <th>Prädikat</th>\n",
       "      <th>Alter</th>\n",
       "    </tr>\n",
       "  </thead>\n",
       "  <tbody>\n",
       "    <tr>\n",
       "      <th>0</th>\n",
       "      <td>Anna</td>\n",
       "      <td>w</td>\n",
       "      <td>ausgezeichnet</td>\n",
       "      <td>27</td>\n",
       "    </tr>\n",
       "    <tr>\n",
       "      <th>1</th>\n",
       "      <td>Beat</td>\n",
       "      <td>m</td>\n",
       "      <td>gut</td>\n",
       "      <td>34</td>\n",
       "    </tr>\n",
       "    <tr>\n",
       "      <th>2</th>\n",
       "      <td>Cary</td>\n",
       "      <td>m</td>\n",
       "      <td>sehr gut</td>\n",
       "      <td>29</td>\n",
       "    </tr>\n",
       "    <tr>\n",
       "      <th>3</th>\n",
       "      <td>Dana</td>\n",
       "      <td>w</td>\n",
       "      <td>sehr gut</td>\n",
       "      <td>24</td>\n",
       "    </tr>\n",
       "    <tr>\n",
       "      <th>4</th>\n",
       "      <td>Elif</td>\n",
       "      <td>w</td>\n",
       "      <td>gut</td>\n",
       "      <td>25</td>\n",
       "    </tr>\n",
       "    <tr>\n",
       "      <th>5</th>\n",
       "      <td>Faro</td>\n",
       "      <td>m</td>\n",
       "      <td>ausgezeichnet</td>\n",
       "      <td>27</td>\n",
       "    </tr>\n",
       "    <tr>\n",
       "      <th>6</th>\n",
       "      <td>Gabi</td>\n",
       "      <td>w</td>\n",
       "      <td>sehr gut</td>\n",
       "      <td>27</td>\n",
       "    </tr>\n",
       "    <tr>\n",
       "      <th>7</th>\n",
       "      <td>Hans</td>\n",
       "      <td>m</td>\n",
       "      <td>genügend</td>\n",
       "      <td>69</td>\n",
       "    </tr>\n",
       "    <tr>\n",
       "      <th>8</th>\n",
       "      <td>Ivea</td>\n",
       "      <td>w</td>\n",
       "      <td>sehr gut</td>\n",
       "      <td>26</td>\n",
       "    </tr>\n",
       "    <tr>\n",
       "      <th>9</th>\n",
       "      <td>Jose</td>\n",
       "      <td>w</td>\n",
       "      <td>gut</td>\n",
       "      <td>31</td>\n",
       "    </tr>\n",
       "  </tbody>\n",
       "</table>\n",
       "</div>"
      ],
      "text/plain": [
       "   Name Geschlecht       Prädikat  Alter\n",
       "0  Anna          w  ausgezeichnet     27\n",
       "1  Beat          m            gut     34\n",
       "2  Cary          m       sehr gut     29\n",
       "3  Dana          w       sehr gut     24\n",
       "4  Elif          w            gut     25\n",
       "5  Faro          m  ausgezeichnet     27\n",
       "6  Gabi          w       sehr gut     27\n",
       "7  Hans          m       genügend     69\n",
       "8  Ivea          w       sehr gut     26\n",
       "9  Jose          w            gut     31"
      ]
     },
     "execution_count": 2,
     "metadata": {},
     "output_type": "execute_result"
    }
   ],
   "source": [
    "namen = [\"Anna\",\"Beat\",\"Cary\",\"Dana\",\"Elif\",\"Faro\",\"Gabi\",\"Hans\",\"Ivea\",\"Jose\"]\n",
    "geschlecht = [\"w\",\"m\",\"m\",\"w\",\"w\",\"m\",\"w\",\"m\",\"w\",\"w\"]\n",
    "prädikat = [\"ausgezeichnet\",\"gut\",\"sehr gut\",\"sehr gut\",\"gut\",\"ausgezeichnet\",\"sehr gut\",\"genügend\",\"sehr gut\",\"gut\"]\n",
    "alter = [27,34,29,24,25,27,27,69,26,31]\n",
    "\n",
    "import pandas as pd\n",
    "df = pd.DataFrame({\"Name\":namen,\"Geschlecht\":geschlecht,\"Prädikat\":prädikat,\"Alter\":alter})\n",
    "df"
   ]
  },
  {
   "cell_type": "markdown",
   "id": "8f34780e-dfcf-4a51-991e-25959c28fa35",
   "metadata": {},
   "source": [
    "Das Geschlecht ist ein nominales Merkmal. Seine empirische Verteilung ist:"
   ]
  },
  {
   "cell_type": "code",
   "execution_count": 3,
   "id": "75e40570-0a13-4aa4-9248-18ec409b2e05",
   "metadata": {},
   "outputs": [
    {
     "name": "stdout",
     "output_type": "stream",
     "text": [
      "n(m) = 4\n",
      "n(w) = 6\n",
      "h(m) = 0.4\n",
      "h(w) = 0.6\n"
     ]
    }
   ],
   "source": [
    "import numpy as np\n",
    "\n",
    "dim = df.shape\n",
    "werte,absH = np.unique(df[\"Geschlecht\"],return_counts=True)\n",
    "for i in range(len(werte)):\n",
    "    print(\"n(\" + werte[i] + \") =\",absH[i])\n",
    "for i in range(len(werte)):\n",
    "    print(\"h(\" + werte[i] + \") =\",absH[i]/dim[0])"
   ]
  },
  {
   "cell_type": "markdown",
   "id": "e0f7a7da-fa29-4579-8946-aed6ba620af1",
   "metadata": {},
   "source": [
    "Das Prädikat ist ein ordinales Merkmal. Seine empirische Verteilung ist:"
   ]
  },
  {
   "cell_type": "code",
   "execution_count": 4,
   "id": "3bd66111-f702-4cf7-9670-8870067ac8ef",
   "metadata": {},
   "outputs": [
    {
     "data": {
      "text/plain": [
       "array(['ausgezeichnet', 'genügend', 'gut', 'sehr gut'], dtype=object)"
      ]
     },
     "execution_count": 4,
     "metadata": {},
     "output_type": "execute_result"
    }
   ],
   "source": [
    "werte,absH = np.unique(df[\"Prädikat\"],return_counts=True)\n",
    "werte"
   ]
  },
  {
   "cell_type": "code",
   "execution_count": 5,
   "id": "3690ed66-ac77-4025-bd97-d99d91292977",
   "metadata": {},
   "outputs": [
    {
     "name": "stdout",
     "output_type": "stream",
     "text": [
      "n(genügend) = 1\n",
      "n(gut) = 3\n",
      "n(sehr gut) = 4\n",
      "n(ausgezeichnet) = 2\n",
      "h(genügend) = 0.1\n",
      "h(gut) = 0.3\n",
      "h(sehr gut) = 0.4\n",
      "h(ausgezeichnet) = 0.2\n"
     ]
    }
   ],
   "source": [
    "for i in [1,2,3,0]:\n",
    "    print(\"n(\" + werte[i] + \") =\",absH[i])\n",
    "for i in [1,2,3,0]:\n",
    "    print(\"h(\" + werte[i] + \") =\",absH[i]/dim[0])"
   ]
  },
  {
   "cell_type": "code",
   "execution_count": 6,
   "id": "757d5e09-a6c3-4543-af83-3228165b3416",
   "metadata": {},
   "outputs": [
    {
     "name": "stdout",
     "output_type": "stream",
     "text": [
      "N(genügend) = 1\n",
      "N(gut) = 4\n",
      "N(sehr gut) = 8\n",
      "N(ausgezeichnet) = 10\n",
      "H(genügend) = 0.1\n",
      "H(gut) = 0.4\n",
      "H(sehr gut) = 0.8\n",
      "H(ausgezeichnet) = 1.0\n"
     ]
    }
   ],
   "source": [
    "absSH = 0\n",
    "for i in [1,2,3,0]:\n",
    "    absSH += absH[i]\n",
    "    print(\"N(\" + werte[i] + \") =\",absSH)\n",
    "absSH = 0\n",
    "for i in [1,2,3,0]:\n",
    "    absSH += absH[i]\n",
    "    print(\"H(\" + werte[i] + \") =\",absSH/dim[0])"
   ]
  },
  {
   "cell_type": "markdown",
   "id": "ec0735c5-44ae-48f8-9669-b271c0d31b2a",
   "metadata": {},
   "source": [
    "Das Alter ist ein metrisches Merkmal. Seine empirische Verteilung ist:"
   ]
  },
  {
   "cell_type": "code",
   "execution_count": 7,
   "id": "860b51e7-488e-40ee-84b3-057482dc0a2f",
   "metadata": {},
   "outputs": [
    {
     "name": "stdout",
     "output_type": "stream",
     "text": [
      "n(24) = 1\n",
      "n(25) = 1\n",
      "n(26) = 1\n",
      "n(27) = 3\n",
      "n(29) = 1\n",
      "n(31) = 1\n",
      "n(34) = 1\n",
      "n(69) = 1\n",
      "h(24) = 0.1\n",
      "h(25) = 0.1\n",
      "h(26) = 0.1\n",
      "h(27) = 0.3\n",
      "h(29) = 0.1\n",
      "h(31) = 0.1\n",
      "h(34) = 0.1\n",
      "h(69) = 0.1\n"
     ]
    }
   ],
   "source": [
    "werte,absH = np.unique(df[\"Alter\"],return_counts=True)\n",
    "for i in range(len(werte)):\n",
    "    print(\"n(\" + str(werte[i]) + \") =\",absH[i])\n",
    "for i in range(len(werte)):\n",
    "    print(\"h(\" + str(werte[i]) + \") =\",absH[i]/dim[0])"
   ]
  },
  {
   "cell_type": "code",
   "execution_count": 8,
   "id": "0bcd6b9d-8dcf-4e86-bb97-422ddfe708cf",
   "metadata": {},
   "outputs": [
    {
     "data": {
      "text/plain": [
       "(10, 1.0)"
      ]
     },
     "execution_count": 8,
     "metadata": {},
     "output_type": "execute_result"
    }
   ],
   "source": [
    "def summenhäufigkeit(w,h,x):\n",
    "    N = 0\n",
    "    i = 0\n",
    "    while i < len(w) and w[i] <= x:\n",
    "        N += h[i]\n",
    "        i += 1\n",
    "    return (N,N/sum(h))\n",
    "summenhäufigkeit(werte,absH,70)"
   ]
  },
  {
   "cell_type": "markdown",
   "id": "098eecea-fc0e-4ed2-a745-359c566e2cac",
   "metadata": {},
   "source": [
    "### <span style=\"color:rgb(160,0,86)\">Was sind Lagemasse und Streumasse?</span>\n",
    "\n",
    "Die empirische Häufigkeitsverteilung beantwortet die Frage: Wie oft kommen die Werte eines Merkmals vor? Mit **statistischen Masszahlen** sollen nun spezifische Informationen aus den Daten herausgefiltert werden.      \n",
    "\n",
    "- Ein **Lagemass** beschreibt mit einem typischen Wert, *wo* die Ausprägungen eines Merkmals liegen.\n",
    "- Ein **Streumass** beschreibt mit einem typischen Wert, *wie* unterschiedlich die Ausprägungen eines Merkmals sind."
   ]
  },
  {
   "cell_type": "markdown",
   "id": "cc52d8cc-50bd-4644-8d0b-129f9e2e76f6",
   "metadata": {},
   "source": [
    "#### <span style=\"color:rgb(160,0,86)\">Für nominale Merkmale:</span>\n",
    "- *Lagemass:* Weil die Werte keine natürliche Reihenfolge haben, können wir keine *Mitte* festlegen. Als repräsentativer Wert für die Lage der Werte wird oft der häufigste Wert, der sogenannte **Modus** $\\bar{x}_{D}$ angegeben.\n",
    "- *Streumass:* Wir wollen angeben, wie gleichmässig sich die ungeordneten Werte verteilen. Wenn bei einem Merkmal nur ein Wert vorkommt, gibt es keine Streuung. Wenn hingegen alle Werte eines Merkmals gleich häufig auftreten, gibt es maximale Unterschiedlichkeit. Als Mass für diese Charakteristik wird häufig der **Dispersionsindex** $$P = \\displaystyle\\frac{m}{m-1}\\big(h(w_1)\\cdot(1-h(w_1))+h(w_2)\\cdot(1-h(w_2))+\\ldots+h(w_m)\\cdot(1-h(w_m)\\big)$$ gebraucht. Wenn $P>0.9$ ist, haben wir starke Dispersion und wenn $P<0.8$ ist, haben wir geringe Dispersion. Wenn im Extremfall ein Wert eine relative Häufigkeit von 1.0 hat, dann ist $P=0$ und wenn alle Werte die gleiche relative Häufigkeit haben, dann ist $P=1$. "
   ]
  },
  {
   "cell_type": "code",
   "execution_count": 9,
   "id": "339739a7-e34f-490e-8416-7737fa383197",
   "metadata": {},
   "outputs": [
    {
     "name": "stdout",
     "output_type": "stream",
     "text": [
      "x_D = w , P = 0.96\n"
     ]
    }
   ],
   "source": [
    "werte,absH = np.unique(df[\"Geschlecht\"],return_counts=True)\n",
    "m = len(werte)\n",
    "relH = absH/dim[0]\n",
    "modus = df[\"Geschlecht\"].mode()[0]\n",
    "P = m/(m-1) * sum(relH * (1-relH))\n",
    "print(\"x_D =\",modus,\", P =\",P)"
   ]
  },
  {
   "cell_type": "markdown",
   "id": "829aa445-88e2-4bc3-b572-b342659ae73b",
   "metadata": {},
   "source": [
    "***\n",
    "$\\texttt{[}\n",
    "\\overset{\\large 0.4}{\\texttt{\"m\"}},\n",
    "\\overset{\\large 0.6}{\\texttt{\"w\"}}\\texttt{]}$\n",
    "\n",
    "$P = \\displaystyle\\frac{2}{2-1}\\big(0.4\\cdot(1-0.4)+0.6\\cdot(1-0.6)\\big)=0.96$\n",
    "***"
   ]
  },
  {
   "cell_type": "markdown",
   "id": "ebfa166c-b4e7-47d8-ac01-51127ecf9a9e",
   "metadata": {},
   "source": [
    "#### <span style=\"color:rgb(160,0,86)\">Für ordinale Merkmale:</span>\n",
    "- *Lagemass:* Die Werte haben eine natürliche Reihenfolge Wir können aber mit diesen Werten im allgemeinen nicht rechnen. Wenn wir die Daten aufsteigend der Reihe nach sortieren, können wir das sogenannte $p$ **-Quantil** bestimmen. Das ist ein Wert $x_p$ des Merkmals, der die Daten in einen unteren Teil und in einen oberen Teil unterteil: $p\\%$ der Daten sind kleiner oder gleich als $x_p$ und $(1-p)\\%$ der Daten sind grösser oder gleich als $x_p$. <br> Wir wählen den Werte $w$ für das $p$-Quantil $x_p$ so, dass zum ersten Mal die relative Summenhäufigkeit $H(w)\\geqslant p$ ist. Für alle Werte $w$ vor $x_p$ muss daher $H(w)<p$ gelten.<br>\n",
    "Der Wert $x_{50}$ heisst **Median**, weil in beiden Teilen ungefähr gleich viele Daten liegen. <br>\n",
    "Der Wert $x_{25}$ heisst **unteres Quartil**, weil ungefähr ein viertel der Daten kleiner als $x_{25}$ sind. <br>\n",
    "Der Wert $x_{75}$ heisst **oberes Quartil**, weil ungefähr drei viertel der Daten kleiner als $x_{75}$ sind.      \n",
    "- *Streumass:* Wegen der natürlichen Reihenfolge können wir die Streuung differnzierter beschreiben. Streuung ist gross, wenn die Werte gleichmässig beim *kleinsten* und beim *grössten* Wert des Merkmals liegen. Als Mass für diese Charakteristik wird häufig die **Diversität** $$D = \\displaystyle\\frac{4}{m-1}\\big(H(w_1)\\cdot(1-H(w_1))+H(w_2)\\cdot(1-H(w_2))+\\ldots+H(w_m)\\cdot(1-H(w_m)\\big)$$ gebraucht. Wenn $D>0.8$ ist, haben wir starke Diversität und wenn $D<0.6$ ist, haben wir geringe Diversität. Wenn im Extremfall ein Wert eine relative Häufigkeit von 1.0 hat, dann ist $D=0$ und wenn 50% der Daten beim kleinsten und 50% der Daten beim grössten Wert liegen, dann ist $D=1$.  "
   ]
  },
  {
   "cell_type": "code",
   "execution_count": 11,
   "id": "dea74bc6-a342-4f7f-9e4b-e6716e40c60e",
   "metadata": {},
   "outputs": [
    {
     "name": "stdout",
     "output_type": "stream",
     "text": [
      "x_D = sehr gut , median = sehr gut , D = 0.6533333333333333\n"
     ]
    }
   ],
   "source": [
    "werte,absH = np.unique(df[\"Prädikat\"],return_counts=True)\n",
    "m = len(werte)\n",
    "werte = np.array([werte[1],werte[2],werte[3],werte[0]])\n",
    "absH = np.array([absH[1],absH[2],absH[3],absH[0]])\n",
    "relH = absH/dim[0]\n",
    "relSH = np.array([relH[0],sum(relH[:2]),sum(relH[:3]),sum(relH)])\n",
    "\n",
    "modus = df[\"Prädikat\"].mode()[0]\n",
    "\n",
    "i = 0\n",
    "while i < m:\n",
    "    if relSH[i] > 0.5:\n",
    "        break\n",
    "    i += 1\n",
    "median = werte[i]\n",
    "\n",
    "D = 4/(m-1) * sum(relSH * (1-relSH))\n",
    "print(\"x_D =\",modus,\", median =\",median,\", D =\",D)"
   ]
  },
  {
   "cell_type": "markdown",
   "id": "91bb386b-d504-433c-bd56-dddd04a363de",
   "metadata": {},
   "source": [
    "***\n",
    "$\\texttt{[}\n",
    "\\overset{\\large 0.1}{\\texttt{\"genügend\"}},\n",
    "\\overset{\\large 0.4}{\\texttt{\"gut\"}},\n",
    "\\overset{\\large 0.8}{\\texttt{\"sehr gut\"}}, \n",
    "\\overset{\\large 1.0}{\\texttt{\"\"ausgezeichnet\"}}\\texttt{]}$\n",
    "\n",
    "$D = \\displaystyle\\frac{4}{4-1}\\big(0.1\\cdot(1-0.1)+0.4\\cdot(1-0.4)+0.8\\cdot(1-0.8)+1.0\\cdot(1-1.0)\\big)=0.65\\bar{3}$\n",
    "***"
   ]
  },
  {
   "cell_type": "markdown",
   "id": "c2940ac8-ed7c-4236-a09a-3d805f87bd9a",
   "metadata": {},
   "source": [
    "#### <span style=\"color:rgb(160,0,86)\">Für metrische Merkmale:</span>\n",
    "- *Lagemass:* Da wir mit den Werten rechnen können, lässt sich die Summe aller Daten $x_1,x_2,\\ldots,x_n$ gleichmässig auf alle statistischen Einheiten verteilen. Dieses **arithmetische Mittel** $\\bar{x}$ beschreibt, wie gross die Werte im Mittel sind: $$\\bar{x} = \\frac{1}{n}(x_1+x_2+\\ldots+x_n)=h(w_1)\\cdot w_1+h(w_2)\\cdot w_2 +\\ldots + h(w_m)\\cdot w_m$$ Das arithmetische Mittel wird aber von einzelnen extremen Werten stark beeinflusst. Der Median hingegen wird von extremen Werten weniger beeinflusst, weil sehr grosse oder sehr kleine Werte die Reihenfolge in der Mitte nicht verändern. Wenn ein Mass auf extreme Werte nicht oder nur moderat reagiert, heisst es **robust**. \n",
    "- *Streumass:* Bei metrischen Daten sind die Quartile auch Zahlen. Daher können wir den **Qartilsabstand** $Q = x_{75\\%}-x_{25\\%}$ vom unteren Quartil zum oberen Quartil berechnen. In diesem Bereich liegen ungefähr 50\\% der mittleren Daten. Wenn also $Q$ klein ist, dann liegen die Daten eng beieinander und wenn $Q$ gross ist, dann streuen die Daten stark. Der Quartilsabstand wird durch extreme Werte auch nicht gross beeinflusst.<br>\n",
    "Eine anderes Mass für die Streuung ist die **mittlere Abweichung** $MD$ der Daten vom arithmetischen Mittel $$\\begin{align*}MD&= \\displaystyle\\frac{1}{n}\\big(|x_1-\\bar{x}|+|x_2-\\bar{x}|+\\ldots+|x_n-\\bar{x}|\\big)\\\\ &= h(w_1)\\cdot|w_1-\\bar{x}| + h(w_2)\\cdot|w_2-\\bar{x}| + \\ldots + h(w_m)\\cdot|w_m-\\bar{x}|\\rule{0cm}{1cm}\\end{align*}$$ Weil die Absolutbeträge technische Schwierigkeiten mit sich bringen, wird häufiger die **mittlere quadratische Abweichung** $MQD$ der Daten vom arithmetischen Mittel $$\\begin{align*}MQD&= \\displaystyle\\frac{1}{n}\\big((x_1-\\bar{x})^2+(x_2-\\bar{x})^2+\\ldots+(x_n-\\bar{x})^2\\big)\\\\ &= h(w_1)\\cdot(w_1-\\bar{x})^2+h(w_2)\\cdot(w_2-\\bar{x})^2+\\ldots+h(w_m)\\cdot(w_n-\\bar{x})^2 \\rule{0cm}{1cm}\\end{align*}$$ gebraucht. Dieser Wert hat den Nachteil, dass die Dimension nicht mehr stimmt. Die Zahl $MQD$ hat quadratische Einheiten. Wenn wir aber aus $MQD$ die Wurzel zeihen, erhalten wir die sogenannte **Standardabweichung** $$s=\\sqrt{MQD}\\;,$$ bei der die Dimension wieder stimmt.     "
   ]
  },
  {
   "cell_type": "code",
   "execution_count": 14,
   "id": "0739a07f-764a-41ab-bd4c-b31b3cde92fb",
   "metadata": {},
   "outputs": [
    {
     "name": "stdout",
     "output_type": "stream",
     "text": [
      "Median = 27.0 , arithmetisches Mittel = 31.9\n",
      "Q = 4.25 , s = 12.676355943251199 , MD = 7.840000000000001\n"
     ]
    }
   ],
   "source": [
    "q50 = df[\"Alter\"].median()\n",
    "x_bar = df[\"Alter\"].mean()\n",
    "Q = df[\"Alter\"].quantile(0.75) - df[\"Alter\"].quantile(0.25)\n",
    "s = df[\"Alter\"].std(ddof=0)\n",
    "MD = sum(np.abs(df[\"Alter\"]-x_bar))/len(df[\"Alter\"])\n",
    "print(\"Median =\",q50,\", arithmetisches Mittel =\",x_bar) \n",
    "print(\"Q =\",Q,\", s =\",s,\", MD =\",MD)"
   ]
  },
  {
   "cell_type": "markdown",
   "id": "b20ccb46-4109-41bc-93a1-a9e883173f17",
   "metadata": {},
   "source": [
    "***\n",
    "$\\small\\begin{align*}\\bar{x}&= \\frac{1}{10}(27+34+29+24+25+27+27+69+26+31) = 31.9\\\\\n",
    "&= 0.1\\cdot 24 + 0.1\\cdot 25 + 0.1\\cdot 26 + 0.3\\cdot 27 + 0.1\\cdot 29 + 0.1\\cdot 31 + 0.1\\cdot 34 + 0.1\\cdot 69 = 31.9\\rule{0cm}{0.7cm}     \n",
    "\\end{align*}$\n",
    "\n",
    "$\\small\\begin{align*}MD&= \\frac{1}{10}\\big(|27-31.9|+|34-31.9|+|29-31.9|+|24-31.9|+|25-31.9|+|27-31.9|+|27-31.9|+|69-31.9|+|26-31.9|+|31-31.9|\\big) = 7.84\\\\\n",
    "&= 0.1\\cdot|24-31.9| + 0.1\\cdot|25-31.9| + 0.1\\cdot|26-31.9| + 0.3\\cdot |27-31.9| + 0.1\\cdot |29-31.9| + 0.1\\cdot|31-31.9| + 0.1\\cdot |34-31.9| + 0.1\\cdot|69-31.9| = 7.84\\rule{0cm}{0.7cm}    \n",
    "\\end{align*}$\n",
    "\n",
    "$\\small\\begin{align*}MQD&= \\frac{1}{10}\\big((27-31.9)^2+(34-31.9)^2+(29-31.9)^2+(24-31.9)^2+(25-31.9)^2+(27-31.9)^2+(27-31.9)^2+(69-31.9)^2+(26-31.9)^2+(31-31.9)^2\\big) = 160.69\\\\\n",
    "&= 0.1\\cdot(24-31.9)^2 + 0.1\\cdot(25-31.9)^2 + 0.1\\cdot(26-31.9)^2 + 0.3\\cdot (27-31.9)^2 + 0.1\\cdot (29-31.9)^2 + 0.1\\cdot(31-31.9)^2 + 0.1\\cdot (34-31.9)^2 + 0.1\\cdot(69-31.9)^2 = 160.69\\rule{0cm}{0.7cm}\\\\\n",
    "s &= \\sqrt{160.69} \\approx 12.676 \\rule{0cm}{0.7cm}\n",
    "\\end{align*}$\n",
    "***"
   ]
  },
  {
   "cell_type": "markdown",
   "id": "f1b22231-13dc-49cd-836a-fdaf5021da43",
   "metadata": {},
   "source": [
    "### <span style=\"color:rgb(160,0,86)\">Aufgabe 1</span>\n",
    "\n",
    "Laden Sie die Daten *2021_Personalerhebung.csv* und bestimmen Sie für alle Merkmale passende Lagemasse und Streumasse. Bestimmen Sie auch für die Merkmale **Abteilung** und **Ausbildung** die relativen Häufigkeiten und relativen Summenhäufigkeiten."
   ]
  },
  {
   "cell_type": "markdown",
   "id": "8f5a6ff7-5e0e-4571-89b8-27dd6c54eddd",
   "metadata": {},
   "source": [
    "***\n",
    "\n",
    "### <span style=\"color:rgb(160,0,86)\">Lösungsvorschlag</span>"
   ]
  },
  {
   "cell_type": "code",
   "execution_count": 1,
   "id": "1528b131-f566-4002-8800-84d6d65c5dea",
   "metadata": {},
   "outputs": [
    {
     "data": {
      "text/html": [
       "<div>\n",
       "<style scoped>\n",
       "    .dataframe tbody tr th:only-of-type {\n",
       "        vertical-align: middle;\n",
       "    }\n",
       "\n",
       "    .dataframe tbody tr th {\n",
       "        vertical-align: top;\n",
       "    }\n",
       "\n",
       "    .dataframe thead th {\n",
       "        text-align: right;\n",
       "    }\n",
       "</style>\n",
       "<table border=\"1\" class=\"dataframe\">\n",
       "  <thead>\n",
       "    <tr style=\"text-align: right;\">\n",
       "      <th></th>\n",
       "      <th>PersNummer;;Abteilung;Ausbildung;Eintrittsjahr;Bruttogehalt</th>\n",
       "    </tr>\n",
       "  </thead>\n",
       "  <tbody>\n",
       "    <tr>\n",
       "      <th>0</th>\n",
       "      <td>560426;;Finanzen;Abitur;2006;13200</td>\n",
       "    </tr>\n",
       "    <tr>\n",
       "      <th>1</th>\n",
       "      <td>590303;;Vertrieb;Mittlere Reife;2008;13500</td>\n",
       "    </tr>\n",
       "    <tr>\n",
       "      <th>2</th>\n",
       "      <td>611117;;Entwicklung;Promotion;2008;17600</td>\n",
       "    </tr>\n",
       "    <tr>\n",
       "      <th>3</th>\n",
       "      <td>620212;;Geschaftsführung;Master;2006;18000</td>\n",
       "    </tr>\n",
       "    <tr>\n",
       "      <th>4</th>\n",
       "      <td>620624;;Entwicklung;Master;2007;17400</td>\n",
       "    </tr>\n",
       "  </tbody>\n",
       "</table>\n",
       "</div>"
      ],
      "text/plain": [
       "  PersNummer;;Abteilung;Ausbildung;Eintrittsjahr;Bruttogehalt\n",
       "0                 560426;;Finanzen;Abitur;2006;13200         \n",
       "1         590303;;Vertrieb;Mittlere Reife;2008;13500         \n",
       "2           611117;;Entwicklung;Promotion;2008;17600         \n",
       "3         620212;;Geschaftsführung;Master;2006;18000         \n",
       "4              620624;;Entwicklung;Master;2007;17400         "
      ]
     },
     "execution_count": 1,
     "metadata": {},
     "output_type": "execute_result"
    }
   ],
   "source": [
    "# To do!\n",
    "import numpy as np\n",
    "import pandas as pd\n",
    "\n",
    "personal = pd.read_csv(\"Daten/2021_Personalerhebung.csv\")\n",
    "personal.head()"
   ]
  },
  {
   "cell_type": "code",
   "execution_count": 2,
   "id": "01d9b46d-ad34-44d1-86a6-5d7ed3cbabad",
   "metadata": {},
   "outputs": [
    {
     "data": {
      "text/html": [
       "<div>\n",
       "<style scoped>\n",
       "    .dataframe tbody tr th:only-of-type {\n",
       "        vertical-align: middle;\n",
       "    }\n",
       "\n",
       "    .dataframe tbody tr th {\n",
       "        vertical-align: top;\n",
       "    }\n",
       "\n",
       "    .dataframe thead th {\n",
       "        text-align: right;\n",
       "    }\n",
       "</style>\n",
       "<table border=\"1\" class=\"dataframe\">\n",
       "  <thead>\n",
       "    <tr style=\"text-align: right;\">\n",
       "      <th></th>\n",
       "      <th>PersNummer</th>\n",
       "      <th>Unnamed: 1</th>\n",
       "      <th>Abteilung</th>\n",
       "      <th>Ausbildung</th>\n",
       "      <th>Eintrittsjahr</th>\n",
       "      <th>Bruttogehalt</th>\n",
       "    </tr>\n",
       "  </thead>\n",
       "  <tbody>\n",
       "    <tr>\n",
       "      <th>0</th>\n",
       "      <td>560426</td>\n",
       "      <td>NaN</td>\n",
       "      <td>Finanzen</td>\n",
       "      <td>Abitur</td>\n",
       "      <td>2006</td>\n",
       "      <td>13200</td>\n",
       "    </tr>\n",
       "    <tr>\n",
       "      <th>1</th>\n",
       "      <td>590303</td>\n",
       "      <td>NaN</td>\n",
       "      <td>Vertrieb</td>\n",
       "      <td>Mittlere Reife</td>\n",
       "      <td>2008</td>\n",
       "      <td>13500</td>\n",
       "    </tr>\n",
       "    <tr>\n",
       "      <th>2</th>\n",
       "      <td>611117</td>\n",
       "      <td>NaN</td>\n",
       "      <td>Entwicklung</td>\n",
       "      <td>Promotion</td>\n",
       "      <td>2008</td>\n",
       "      <td>17600</td>\n",
       "    </tr>\n",
       "    <tr>\n",
       "      <th>3</th>\n",
       "      <td>620212</td>\n",
       "      <td>NaN</td>\n",
       "      <td>Geschaftsführung</td>\n",
       "      <td>Master</td>\n",
       "      <td>2006</td>\n",
       "      <td>18000</td>\n",
       "    </tr>\n",
       "    <tr>\n",
       "      <th>4</th>\n",
       "      <td>620624</td>\n",
       "      <td>NaN</td>\n",
       "      <td>Entwicklung</td>\n",
       "      <td>Master</td>\n",
       "      <td>2007</td>\n",
       "      <td>17400</td>\n",
       "    </tr>\n",
       "  </tbody>\n",
       "</table>\n",
       "</div>"
      ],
      "text/plain": [
       "   PersNummer Unnamed: 1         Abteilung      Ausbildung  Eintrittsjahr  \\\n",
       "0      560426        NaN          Finanzen          Abitur           2006   \n",
       "1      590303        NaN          Vertrieb  Mittlere Reife           2008   \n",
       "2      611117        NaN       Entwicklung       Promotion           2008   \n",
       "3      620212        NaN  Geschaftsführung          Master           2006   \n",
       "4      620624        NaN       Entwicklung          Master           2007   \n",
       "\n",
       "   Bruttogehalt  \n",
       "0         13200  \n",
       "1         13500  \n",
       "2         17600  \n",
       "3         18000  \n",
       "4         17400  "
      ]
     },
     "execution_count": 2,
     "metadata": {},
     "output_type": "execute_result"
    }
   ],
   "source": [
    "# Der Seperator in der Datei 2021_Personalerhabung ist das Semikolon!\n",
    "personal = pd.read_csv(\"Daten/2021_Personalerhebung.csv\",sep=\";\")\n",
    "personal.head()"
   ]
  },
  {
   "cell_type": "code",
   "execution_count": 3,
   "id": "e18a6e96-e999-4fec-8cd3-7e94379bdaf1",
   "metadata": {},
   "outputs": [
    {
     "data": {
      "text/html": [
       "<div>\n",
       "<style scoped>\n",
       "    .dataframe tbody tr th:only-of-type {\n",
       "        vertical-align: middle;\n",
       "    }\n",
       "\n",
       "    .dataframe tbody tr th {\n",
       "        vertical-align: top;\n",
       "    }\n",
       "\n",
       "    .dataframe thead th {\n",
       "        text-align: right;\n",
       "    }\n",
       "</style>\n",
       "<table border=\"1\" class=\"dataframe\">\n",
       "  <thead>\n",
       "    <tr style=\"text-align: right;\">\n",
       "      <th></th>\n",
       "      <th>Abteilung</th>\n",
       "      <th>Ausbildung</th>\n",
       "      <th>Eintrittsjahr</th>\n",
       "      <th>Bruttogehalt</th>\n",
       "    </tr>\n",
       "  </thead>\n",
       "  <tbody>\n",
       "    <tr>\n",
       "      <th>0</th>\n",
       "      <td>Finanzen</td>\n",
       "      <td>Abitur</td>\n",
       "      <td>2006</td>\n",
       "      <td>13200</td>\n",
       "    </tr>\n",
       "    <tr>\n",
       "      <th>1</th>\n",
       "      <td>Vertrieb</td>\n",
       "      <td>Mittlere Reife</td>\n",
       "      <td>2008</td>\n",
       "      <td>13500</td>\n",
       "    </tr>\n",
       "    <tr>\n",
       "      <th>2</th>\n",
       "      <td>Entwicklung</td>\n",
       "      <td>Promotion</td>\n",
       "      <td>2008</td>\n",
       "      <td>17600</td>\n",
       "    </tr>\n",
       "    <tr>\n",
       "      <th>3</th>\n",
       "      <td>Geschaftsführung</td>\n",
       "      <td>Master</td>\n",
       "      <td>2006</td>\n",
       "      <td>18000</td>\n",
       "    </tr>\n",
       "    <tr>\n",
       "      <th>4</th>\n",
       "      <td>Entwicklung</td>\n",
       "      <td>Master</td>\n",
       "      <td>2007</td>\n",
       "      <td>17400</td>\n",
       "    </tr>\n",
       "  </tbody>\n",
       "</table>\n",
       "</div>"
      ],
      "text/plain": [
       "          Abteilung      Ausbildung  Eintrittsjahr  Bruttogehalt\n",
       "0          Finanzen          Abitur           2006         13200\n",
       "1          Vertrieb  Mittlere Reife           2008         13500\n",
       "2       Entwicklung       Promotion           2008         17600\n",
       "3  Geschaftsführung          Master           2006         18000\n",
       "4       Entwicklung          Master           2007         17400"
      ]
     },
     "execution_count": 3,
     "metadata": {},
     "output_type": "execute_result"
    }
   ],
   "source": [
    "# Die Spalten PersNummer und Unnamed: 1 brauchen wir nicht\n",
    "personal.drop([\"PersNummer\",\"Unnamed: 1\"],axis=1,inplace=True)\n",
    "personal.head()"
   ]
  },
  {
   "cell_type": "code",
   "execution_count": 4,
   "id": "9136febe-7d40-475b-9d6b-8bfff6b91f42",
   "metadata": {},
   "outputs": [
    {
     "name": "stdout",
     "output_type": "stream",
     "text": [
      "h(Entwicklung) = 0.28\n",
      "h(Finanzen) = 0.12\n",
      "h(Geschaftsführung) = 0.16\n",
      "h(Schulung) = 0.12\n",
      "h(Test/Anwendungen) = 0.16\n",
      "h(Vertrieb) = 0.16\n"
     ]
    }
   ],
   "source": [
    "# Die relative Häufigkeiten des Merkmals Abteilung:\n",
    "dim = personal.shape\n",
    "werteAbteilung, absHAbteilung = np.unique(personal[\"Abteilung\"],return_counts=True)\n",
    "for i in range(len(werteAbteilung)):\n",
    "    print(\"h(\"+ werteAbteilung[i] +\") =\",absHAbteilung[i]/dim[0])"
   ]
  },
  {
   "cell_type": "code",
   "execution_count": 5,
   "id": "106f28b8-2030-47bf-b86f-79a58fe25925",
   "metadata": {},
   "outputs": [
    {
     "data": {
      "text/plain": [
       "array(['Abitur', 'Bache lor', 'Bachelor', 'Master', 'Mittlere Reife',\n",
       "       'Promotion'], dtype=object)"
      ]
     },
     "execution_count": 5,
     "metadata": {},
     "output_type": "execute_result"
    }
   ],
   "source": [
    "# Die relative Summenhäufigkeiten des Merkmals Ausbildung:\n",
    "werteAusbildung, absHAusbildung = np.unique(personal[\"Ausbildung\"],return_counts=True)\n",
    "werteAusbildung"
   ]
  },
  {
   "cell_type": "code",
   "execution_count": 14,
   "id": "329f8fb1-a8f0-4123-a5b0-cb94c743465f",
   "metadata": {},
   "outputs": [
    {
     "data": {
      "text/plain": [
       "array(['Abitur', 'Bachelor', 'Master', 'Mittlere Reife', 'Promotion'],\n",
       "      dtype=object)"
      ]
     },
     "execution_count": 14,
     "metadata": {},
     "output_type": "execute_result"
    }
   ],
   "source": [
    "# Es gibt einen Tipfehler im Datensatz: 'Bache lor' muss korrigiert werden!\n",
    "personal = personal.replace(\"Bache lor\",\"Bachelor\")\n",
    "werteAusbildung, absHAusbildung = np.unique(personal[\"Ausbildung\"],return_counts=True)\n",
    "werteAusbildung"
   ]
  },
  {
   "cell_type": "code",
   "execution_count": 15,
   "id": "77822356-e058-460b-98e3-96cab939ecab",
   "metadata": {},
   "outputs": [
    {
     "data": {
      "text/plain": [
       "array(['Mittlere Reife', 'Abitur', 'Bachelor', 'Master', 'Promotion'],\n",
       "      dtype='<U14')"
      ]
     },
     "execution_count": 15,
     "metadata": {},
     "output_type": "execute_result"
    }
   ],
   "source": [
    "# natürliche Reihenfolge: Mittlere Reife, Abitur, Bachelor, Master, Promotion\n",
    "werteAusbildung = np.array([werteAusbildung[3],\n",
    "                            werteAusbildung[0], \n",
    "                            werteAusbildung[1],\n",
    "                            werteAusbildung[2],\n",
    "                            werteAusbildung[4]])\n",
    "absHAusbildung =  np.array([absHAusbildung[3],\n",
    "                            absHAusbildung[0],\n",
    "                            absHAusbildung[1],\n",
    "                            absHAusbildung[2],\n",
    "                            absHAusbildung[4]])\n",
    "werteAusbildung"
   ]
  },
  {
   "cell_type": "code",
   "execution_count": 16,
   "id": "38c0ecee-1aff-4965-932d-2e657f0eea3a",
   "metadata": {},
   "outputs": [
    {
     "name": "stdout",
     "output_type": "stream",
     "text": [
      "H(Mittlere Reife) = 0.12\n",
      "H(Abitur) = 0.36\n",
      "H(Bachelor) = 0.72\n",
      "H(Master) = 0.92\n",
      "H(Promotion) = 1.0\n"
     ]
    }
   ],
   "source": [
    "def relSHAusbildung(w,h,idx):\n",
    "    N = 0\n",
    "    i = 0\n",
    "    while i <= idx:\n",
    "        N += h[i]\n",
    "        i += 1\n",
    "    return N/sum(h)        \n",
    "\n",
    "for i in range(len(werteAusbildung)): \n",
    "    print(\"H(\"+ werteAusbildung[i] +\") =\",relSHAusbildung(werteAusbildung,absHAusbildung,i))"
   ]
  },
  {
   "cell_type": "markdown",
   "id": "8370e6e7-4183-4830-a4b7-457d37fb483b",
   "metadata": {},
   "source": [
    "Das Merkmal **Abteilung** ist nominal:\n",
    "- die Lage der Daten können wir mit dem **Modus** $\\bar{x}_D$ beschreiben\n",
    "- die Streuung der Daten können wir mit dem **Dispersionsindex** $P$ beschreiben"
   ]
  },
  {
   "cell_type": "code",
   "execution_count": 17,
   "id": "d405a5b2-f134-40fd-a26c-d245afa1e435",
   "metadata": {},
   "outputs": [
    {
     "name": "stdout",
     "output_type": "stream",
     "text": [
      "x_D = Entwicklung P = 0.9791999999999998\n"
     ]
    }
   ],
   "source": [
    "m = len(werteAbteilung)\n",
    "relHAbteilung = absHAbteilung/dim[0]\n",
    "modus = personal[\"Abteilung\"].mode()[0]\n",
    "P = m/(m-1) * sum(relHAbteilung * (1-relHAbteilung))\n",
    "print(\"x_D =\",modus,\"P =\",P)"
   ]
  },
  {
   "cell_type": "markdown",
   "id": "2457eaeb-a4cd-4a4a-aa0f-73a6108a611c",
   "metadata": {},
   "source": [
    "- Der Wert *Entwicklung* ist also representativ für das Merkmal **Abteilung**.\n",
    "- Das Merkmal **Abteilung** hat eine hohe Dispersion. Die Verteilung der Werte ist demnach näher bei einer Gleichverteilung als bei einer Einpunkte-Verteilung. Das Merkmal **Abteilung** weist also eine starke Unterschiedlichkeit auf.  "
   ]
  },
  {
   "cell_type": "markdown",
   "id": "d8d30220-0dc3-4dec-9062-3734bb4655cb",
   "metadata": {},
   "source": [
    "Das Merkmal **Ausbildung** ist ordinal:\n",
    "- die mittlere Lage der Daten können wir mit dem **Median** $x_{50}$ beschreiben\n",
    "- die Streuung der Daten können wir mit der **Diversität** $D$ beschreiben"
   ]
  },
  {
   "cell_type": "code",
   "execution_count": 18,
   "id": "b11d61cd-2606-4e8d-bd12-e504694f2299",
   "metadata": {},
   "outputs": [
    {
     "name": "stdout",
     "output_type": "stream",
     "text": [
      "x_50 = Bachelor D = 0.6112\n"
     ]
    }
   ],
   "source": [
    "m = len(werteAusbildung)\n",
    "relSHAusb = np.array([relSHAusbildung(werteAusbildung,absHAusbildung,i) for i in range(m)])\n",
    "\n",
    "i = 0\n",
    "while i < m:\n",
    "    if relSHAusb[i] > 0.5:\n",
    "        break\n",
    "    i += 1\n",
    "median = werteAusbildung[i]\n",
    "\n",
    "D = 4/(m-1) * sum(relSHAusb * (1-relSHAusb))\n",
    "print(\"x_50 =\",median,\"D =\",D)"
   ]
  },
  {
   "cell_type": "markdown",
   "id": "387bdf35-da0e-4006-9144-1d176a10a1b1",
   "metadata": {},
   "source": [
    "- Der Wert *Bachelor* beschreibt also die Mitte des Merkmals **Ausbildung**. Ungefähr 50% haben höchstens einen Bachelor und ungefähr 50% haben mindestens einen Bachelor. \n",
    "- Das Merkmal **Ausbildung** hat eine geringe bis mittlere Diversität. Die Verteilung der Werte gleicht demnach nicht einer extremen Zweipunkte-Verteilung (gleichmässig links und rechts verteilt) und auch nicht einer Einpunkte-Verteilung.  "
   ]
  },
  {
   "cell_type": "markdown",
   "id": "a1fb944e-d27a-4e9d-b4b4-fa3ccf36c508",
   "metadata": {},
   "source": [
    "Die Merkmale **Eintrittsjahr** und **Bruttogehalt** sind metrisch:\n",
    "\n",
    "- die Lage der Daten können wir mit dem **Median** $x_{50}$ oder dem **arithmetischen Mittel** $\\bar{x}$ beschreiben\n",
    "- die Streuung der Daten können wir mit dem **Quartilsabstand** $Q$, der **mittleren Abweichung** $MD$ oder der **Standardabweichung** $s$ beschreiben"
   ]
  },
  {
   "cell_type": "code",
   "execution_count": 112,
   "id": "627ce018-31ba-41c5-a6e2-3d8a2c0ccfba",
   "metadata": {},
   "outputs": [
    {
     "name": "stdout",
     "output_type": "stream",
     "text": [
      "Eintrittsjahr:\n",
      "median = 2010.0 mittel = 2009.0 Q = 2.0 MD = 1.04 s = 1.296148139681572\n",
      "Bruttogehalt:\n",
      "median = 7200.0 mittel = 8840.0 Q = 8200.0 MD = 4276.8 s = 5057.351085301474\n"
     ]
    }
   ],
   "source": [
    "medianEintritt, medianGehalt = personal[[\"Eintrittsjahr\",\"Bruttogehalt\"]].median()\n",
    "mittelEintritt, mittelGehalt = personal[[\"Eintrittsjahr\",\"Bruttogehalt\"]].mean()\n",
    "\n",
    "QEintritt, QGehalt = personal[[\"Eintrittsjahr\",\"Bruttogehalt\"]].quantile(0.75)-personal[[\"Eintrittsjahr\",\"Bruttogehalt\"]].quantile(0.25)\n",
    "MDEintritt = np.abs(personal[\"Eintrittsjahr\"]-mittelEintritt).mean()\n",
    "MDGehalt = np.abs(personal[\"Bruttogehalt\"]-mittelGehalt).mean()\n",
    "sEintritt, sGehalt = personal[[\"Eintrittsjahr\",\"Bruttogehalt\"]].std(ddof=0)\n",
    "\n",
    "print(\"Eintrittsjahr:\")\n",
    "print(\"median =\",medianEintritt,\"mittel =\",mittelEintritt,\"Q =\",QEintritt,\"MD =\",MDEintritt,\"s =\",sEintritt)\n",
    "print(\"Bruttogehalt:\")\n",
    "print(\"median =\",medianGehalt,\"mittel =\",mittelGehalt,\"Q =\",QGehalt,\"MD =\",MDGehalt,\"s =\",sGehalt)"
   ]
  },
  {
   "cell_type": "markdown",
   "id": "7296dc09-9f36-42e0-bdf4-efb9806dbfc6",
   "metadata": {},
   "source": [
    "- beim Merkmal **Eintrittsjahr** haben wir keine extremen Werte, der Median $x_{50}=2010$ und das arithmetische Mittel $\\bar{x}=2009$ für die mittlere Lage unterscheiden sich kaum. Daher ist auch der Quartilsabstand $Q=2$ ungefähr doppelt so gross wie die mittlere Abweichung $MD=1.04$, die angibt, wie gross die Abweichung vom arithemtischen Mittel nach unten und nach oben mit Mittel beträgt. Die Standardabweichung $s\\approx 1.30$ ist grösser als die mittlere Abweichung, weil grosse quadratische Abweichungen mehr ins Gewicht fallen. <br> Der Median sagt uns, dass ungefähr die Hälfte des Personal im Jahr $2010$ oder vorher ins Unternehmen eingetreten ist und die andere Hälfte im Jahr $2010$ oder später. Die Eintrittsjahre liegen eng beieinander. Gemäss Quartilsabstand liegen 50% der mittleren Eintrittsjahre nicht weiter als $2$ Jahre auseinander. Das zeigt auch die mittlere Abweichung vom arithmetischen Mittel, durchschnittlich ist das Eintrittjahr $2009$ mit einer mittleren Abweichung von plus oder minus $1.04$ Jahre.   \n",
    "- beim Merkmal **Bruttogehalt** gibt es extreme Werte mit grossem Gehalt. Daher ist das arithmetische Mittel $\\bar{x}=8840$ deutlich grösser als der Median $x_{50}=7200$ und der Quartilsabstand $8200$ ist grösser als die doppelte mittlere Abweichung $MD\\approx 4276.8$. Auch hier sind die grossen Gehälter der Grund, dass die Standardabweichung $s\\approx 5057.35$ grösser ist als die mittlere Abweichung.<br> Der Median sagt uns, dass ungefähr die Hälfte des Personal ein Gehalt von $7200$ oder weniger hat und die andere Hälfte ein Gehalt von $7200$ oder mehr. Die Gehälter liegen weit auseinander. Gemäss Quartilsabstand unterscheiden sich 50% der mittleren Gehälter bis zu $8200$. Das zeigt auch die mittlere Abweichung vom arithmetischen Mittel, durchschnittlich ist das Gehalt $8840$ mit einer mittleren Abweichung von plus oder minus $4276.8$.    "
   ]
  },
  {
   "cell_type": "markdown",
   "id": "940af48f-22e1-4363-a5ed-5e21db3fc721",
   "metadata": {},
   "source": [
    "### <span style=\"color:rgb(160,0,86)\">Aufgabe 2</span>\n",
    "\n",
    "Laden Sie die Daten *Gesundheitskosten.csv* und bestimmen Sie für alle Merkmale passende Lagemasse und Streumasse. "
   ]
  },
  {
   "cell_type": "markdown",
   "id": "ca346de8-5071-43a3-b2a9-02e41d49de40",
   "metadata": {},
   "source": [
    "***\n",
    "\n",
    "### <span style=\"color:rgb(160,0,86)\">Lösungsvorschlag</span>"
   ]
  },
  {
   "cell_type": "code",
   "execution_count": 20,
   "id": "51bf0f43-9118-4e1e-bd06-15ffa32948c7",
   "metadata": {},
   "outputs": [
    {
     "data": {
      "text/html": [
       "<div>\n",
       "<style scoped>\n",
       "    .dataframe tbody tr th:only-of-type {\n",
       "        vertical-align: middle;\n",
       "    }\n",
       "\n",
       "    .dataframe tbody tr th {\n",
       "        vertical-align: top;\n",
       "    }\n",
       "\n",
       "    .dataframe thead th {\n",
       "        text-align: right;\n",
       "    }\n",
       "</style>\n",
       "<table border=\"1\" class=\"dataframe\">\n",
       "  <thead>\n",
       "    <tr style=\"text-align: right;\">\n",
       "      <th></th>\n",
       "      <th>Unnamed: 0</th>\n",
       "      <th>Krankenhäuser</th>\n",
       "      <th>Sozialmedizin</th>\n",
       "      <th>Arztpraxen</th>\n",
       "      <th>Zahnmedizin</th>\n",
       "      <th>Andere</th>\n",
       "      <th>Unterstützer</th>\n",
       "      <th>Detailhandel</th>\n",
       "      <th>Prävention</th>\n",
       "      <th>Staat</th>\n",
       "      <th>Versicherer</th>\n",
       "      <th>Importe</th>\n",
       "    </tr>\n",
       "  </thead>\n",
       "  <tbody>\n",
       "    <tr>\n",
       "      <th>0</th>\n",
       "      <td>1995</td>\n",
       "      <td>12618.01</td>\n",
       "      <td>5626.22</td>\n",
       "      <td>5426.39</td>\n",
       "      <td>2678.79</td>\n",
       "      <td>1850.24</td>\n",
       "      <td>539.26</td>\n",
       "      <td>4291.59</td>\n",
       "      <td>523.88</td>\n",
       "      <td>873.51</td>\n",
       "      <td>1412.37</td>\n",
       "      <td>216.10</td>\n",
       "    </tr>\n",
       "    <tr>\n",
       "      <th>1</th>\n",
       "      <td>1996</td>\n",
       "      <td>13190.23</td>\n",
       "      <td>5983.41</td>\n",
       "      <td>5679.40</td>\n",
       "      <td>2731.91</td>\n",
       "      <td>1952.40</td>\n",
       "      <td>530.95</td>\n",
       "      <td>4459.82</td>\n",
       "      <td>543.27</td>\n",
       "      <td>864.67</td>\n",
       "      <td>1613.91</td>\n",
       "      <td>222.72</td>\n",
       "    </tr>\n",
       "    <tr>\n",
       "      <th>2</th>\n",
       "      <td>1997</td>\n",
       "      <td>13306.79</td>\n",
       "      <td>6218.51</td>\n",
       "      <td>5889.70</td>\n",
       "      <td>2752.02</td>\n",
       "      <td>1972.85</td>\n",
       "      <td>510.27</td>\n",
       "      <td>4646.23</td>\n",
       "      <td>554.69</td>\n",
       "      <td>810.88</td>\n",
       "      <td>1654.12</td>\n",
       "      <td>228.30</td>\n",
       "    </tr>\n",
       "    <tr>\n",
       "      <th>3</th>\n",
       "      <td>1998</td>\n",
       "      <td>13733.42</td>\n",
       "      <td>6517.62</td>\n",
       "      <td>6245.69</td>\n",
       "      <td>2787.40</td>\n",
       "      <td>2077.57</td>\n",
       "      <td>573.09</td>\n",
       "      <td>4777.10</td>\n",
       "      <td>598.37</td>\n",
       "      <td>815.25</td>\n",
       "      <td>1718.39</td>\n",
       "      <td>233.29</td>\n",
       "    </tr>\n",
       "    <tr>\n",
       "      <th>4</th>\n",
       "      <td>1999</td>\n",
       "      <td>14276.61</td>\n",
       "      <td>6635.99</td>\n",
       "      <td>6510.67</td>\n",
       "      <td>2787.08</td>\n",
       "      <td>2165.11</td>\n",
       "      <td>586.25</td>\n",
       "      <td>4933.82</td>\n",
       "      <td>622.52</td>\n",
       "      <td>861.53</td>\n",
       "      <td>1712.13</td>\n",
       "      <td>238.48</td>\n",
       "    </tr>\n",
       "  </tbody>\n",
       "</table>\n",
       "</div>"
      ],
      "text/plain": [
       "   Unnamed: 0  Krankenhäuser  Sozialmedizin  Arztpraxen  Zahnmedizin   Andere  \\\n",
       "0        1995       12618.01        5626.22     5426.39      2678.79  1850.24   \n",
       "1        1996       13190.23        5983.41     5679.40      2731.91  1952.40   \n",
       "2        1997       13306.79        6218.51     5889.70      2752.02  1972.85   \n",
       "3        1998       13733.42        6517.62     6245.69      2787.40  2077.57   \n",
       "4        1999       14276.61        6635.99     6510.67      2787.08  2165.11   \n",
       "\n",
       "   Unterstützer  Detailhandel  Prävention   Staat  Versicherer  Importe  \n",
       "0        539.26       4291.59      523.88  873.51      1412.37   216.10  \n",
       "1        530.95       4459.82      543.27  864.67      1613.91   222.72  \n",
       "2        510.27       4646.23      554.69  810.88      1654.12   228.30  \n",
       "3        573.09       4777.10      598.37  815.25      1718.39   233.29  \n",
       "4        586.25       4933.82      622.52  861.53      1712.13   238.48  "
      ]
     },
     "execution_count": 20,
     "metadata": {},
     "output_type": "execute_result"
    }
   ],
   "source": [
    "import numpy as np\n",
    "import pandas as pd\n",
    "\n",
    "kosten = pd.read_csv(\"Daten/Gesundheitskosten.csv\")\n",
    "kosten.head()"
   ]
  },
  {
   "cell_type": "code",
   "execution_count": 21,
   "id": "e60e2c71-c0c8-4535-b984-f61ed4f0e768",
   "metadata": {},
   "outputs": [
    {
     "data": {
      "text/html": [
       "<div>\n",
       "<style scoped>\n",
       "    .dataframe tbody tr th:only-of-type {\n",
       "        vertical-align: middle;\n",
       "    }\n",
       "\n",
       "    .dataframe tbody tr th {\n",
       "        vertical-align: top;\n",
       "    }\n",
       "\n",
       "    .dataframe thead th {\n",
       "        text-align: right;\n",
       "    }\n",
       "</style>\n",
       "<table border=\"1\" class=\"dataframe\">\n",
       "  <thead>\n",
       "    <tr style=\"text-align: right;\">\n",
       "      <th></th>\n",
       "      <th>Krankenhäuser</th>\n",
       "      <th>Sozialmedizin</th>\n",
       "      <th>Arztpraxen</th>\n",
       "      <th>Zahnmedizin</th>\n",
       "      <th>Andere</th>\n",
       "      <th>Unterstützer</th>\n",
       "      <th>Detailhandel</th>\n",
       "      <th>Prävention</th>\n",
       "      <th>Staat</th>\n",
       "      <th>Versicherer</th>\n",
       "      <th>Importe</th>\n",
       "    </tr>\n",
       "  </thead>\n",
       "  <tbody>\n",
       "    <tr>\n",
       "      <th>0</th>\n",
       "      <td>12618.01</td>\n",
       "      <td>5626.22</td>\n",
       "      <td>5426.39</td>\n",
       "      <td>2678.79</td>\n",
       "      <td>1850.24</td>\n",
       "      <td>539.26</td>\n",
       "      <td>4291.59</td>\n",
       "      <td>523.88</td>\n",
       "      <td>873.51</td>\n",
       "      <td>1412.37</td>\n",
       "      <td>216.10</td>\n",
       "    </tr>\n",
       "    <tr>\n",
       "      <th>1</th>\n",
       "      <td>13190.23</td>\n",
       "      <td>5983.41</td>\n",
       "      <td>5679.40</td>\n",
       "      <td>2731.91</td>\n",
       "      <td>1952.40</td>\n",
       "      <td>530.95</td>\n",
       "      <td>4459.82</td>\n",
       "      <td>543.27</td>\n",
       "      <td>864.67</td>\n",
       "      <td>1613.91</td>\n",
       "      <td>222.72</td>\n",
       "    </tr>\n",
       "    <tr>\n",
       "      <th>2</th>\n",
       "      <td>13306.79</td>\n",
       "      <td>6218.51</td>\n",
       "      <td>5889.70</td>\n",
       "      <td>2752.02</td>\n",
       "      <td>1972.85</td>\n",
       "      <td>510.27</td>\n",
       "      <td>4646.23</td>\n",
       "      <td>554.69</td>\n",
       "      <td>810.88</td>\n",
       "      <td>1654.12</td>\n",
       "      <td>228.30</td>\n",
       "    </tr>\n",
       "    <tr>\n",
       "      <th>3</th>\n",
       "      <td>13733.42</td>\n",
       "      <td>6517.62</td>\n",
       "      <td>6245.69</td>\n",
       "      <td>2787.40</td>\n",
       "      <td>2077.57</td>\n",
       "      <td>573.09</td>\n",
       "      <td>4777.10</td>\n",
       "      <td>598.37</td>\n",
       "      <td>815.25</td>\n",
       "      <td>1718.39</td>\n",
       "      <td>233.29</td>\n",
       "    </tr>\n",
       "    <tr>\n",
       "      <th>4</th>\n",
       "      <td>14276.61</td>\n",
       "      <td>6635.99</td>\n",
       "      <td>6510.67</td>\n",
       "      <td>2787.08</td>\n",
       "      <td>2165.11</td>\n",
       "      <td>586.25</td>\n",
       "      <td>4933.82</td>\n",
       "      <td>622.52</td>\n",
       "      <td>861.53</td>\n",
       "      <td>1712.13</td>\n",
       "      <td>238.48</td>\n",
       "    </tr>\n",
       "  </tbody>\n",
       "</table>\n",
       "</div>"
      ],
      "text/plain": [
       "   Krankenhäuser  Sozialmedizin  Arztpraxen  Zahnmedizin   Andere  \\\n",
       "0       12618.01        5626.22     5426.39      2678.79  1850.24   \n",
       "1       13190.23        5983.41     5679.40      2731.91  1952.40   \n",
       "2       13306.79        6218.51     5889.70      2752.02  1972.85   \n",
       "3       13733.42        6517.62     6245.69      2787.40  2077.57   \n",
       "4       14276.61        6635.99     6510.67      2787.08  2165.11   \n",
       "\n",
       "   Unterstützer  Detailhandel  Prävention   Staat  Versicherer  Importe  \n",
       "0        539.26       4291.59      523.88  873.51      1412.37   216.10  \n",
       "1        530.95       4459.82      543.27  864.67      1613.91   222.72  \n",
       "2        510.27       4646.23      554.69  810.88      1654.12   228.30  \n",
       "3        573.09       4777.10      598.37  815.25      1718.39   233.29  \n",
       "4        586.25       4933.82      622.52  861.53      1712.13   238.48  "
      ]
     },
     "execution_count": 21,
     "metadata": {},
     "output_type": "execute_result"
    }
   ],
   "source": [
    "# Die Spalte Unnamed: 0 brauchen wir nicht\n",
    "kosten.drop([\"Unnamed: 0\"],axis=1,inplace=True)\n",
    "kosten.head()"
   ]
  },
  {
   "cell_type": "markdown",
   "id": "13a235d1-871d-4b7b-bfef-043375eac348",
   "metadata": {},
   "source": [
    "Alle Merkmale sind metrisch:\n",
    "\n",
    "- die Lage der Daten können wir mit dem **Median** $x_{50}$ oder dem **arithmetischen Mittel** $\\bar{x}$ beschreiben\n",
    "- die Streuung der Daten können wir mit dem **Quartilsabstand** $Q$, der **mittleren Abweichung** $MD$ oder der **Standardabweichung** $s$ beschreiben"
   ]
  },
  {
   "cell_type": "code",
   "execution_count": 139,
   "id": "ab7ccd34-2f07-412a-a02e-b2b5e7f5bc5f",
   "metadata": {},
   "outputs": [
    {
     "data": {
      "text/html": [
       "<div>\n",
       "<style scoped>\n",
       "    .dataframe tbody tr th:only-of-type {\n",
       "        vertical-align: middle;\n",
       "    }\n",
       "\n",
       "    .dataframe tbody tr th {\n",
       "        vertical-align: top;\n",
       "    }\n",
       "\n",
       "    .dataframe thead th {\n",
       "        text-align: right;\n",
       "    }\n",
       "</style>\n",
       "<table border=\"1\" class=\"dataframe\">\n",
       "  <thead>\n",
       "    <tr style=\"text-align: right;\">\n",
       "      <th></th>\n",
       "      <th>Median</th>\n",
       "      <th>Mittelwerte</th>\n",
       "      <th>Quartilsabstand</th>\n",
       "      <th>Mittlere Abweichung</th>\n",
       "      <th>Standardabweichung</th>\n",
       "    </tr>\n",
       "  </thead>\n",
       "  <tbody>\n",
       "    <tr>\n",
       "      <th>Krankenhäuser</th>\n",
       "      <td>20042.5</td>\n",
       "      <td>21013.2</td>\n",
       "      <td>9616.2</td>\n",
       "      <td>5088.8</td>\n",
       "      <td>5807.8</td>\n",
       "    </tr>\n",
       "    <tr>\n",
       "      <th>Sozialmedizin</th>\n",
       "      <td>9744.1</td>\n",
       "      <td>9855.7</td>\n",
       "      <td>4575.8</td>\n",
       "      <td>2312.4</td>\n",
       "      <td>2616.1</td>\n",
       "    </tr>\n",
       "    <tr>\n",
       "      <th>Arztpraxen</th>\n",
       "      <td>8719.3</td>\n",
       "      <td>9031.1</td>\n",
       "      <td>3969.7</td>\n",
       "      <td>2051.9</td>\n",
       "      <td>2383.2</td>\n",
       "    </tr>\n",
       "    <tr>\n",
       "      <th>Zahnmedizin</th>\n",
       "      <td>3670.0</td>\n",
       "      <td>3550.5</td>\n",
       "      <td>1049.5</td>\n",
       "      <td>523.6</td>\n",
       "      <td>579.6</td>\n",
       "    </tr>\n",
       "    <tr>\n",
       "      <th>Andere</th>\n",
       "      <td>3179.8</td>\n",
       "      <td>3529.3</td>\n",
       "      <td>1939.5</td>\n",
       "      <td>1146.3</td>\n",
       "      <td>1355.3</td>\n",
       "    </tr>\n",
       "    <tr>\n",
       "      <th>Unterstützer</th>\n",
       "      <td>850.2</td>\n",
       "      <td>982.1</td>\n",
       "      <td>660.4</td>\n",
       "      <td>350.8</td>\n",
       "      <td>414.0</td>\n",
       "    </tr>\n",
       "    <tr>\n",
       "      <th>Detailhandel</th>\n",
       "      <td>6198.3</td>\n",
       "      <td>6087.6</td>\n",
       "      <td>1306.8</td>\n",
       "      <td>802.5</td>\n",
       "      <td>950.7</td>\n",
       "    </tr>\n",
       "    <tr>\n",
       "      <th>Prävention</th>\n",
       "      <td>818.0</td>\n",
       "      <td>821.0</td>\n",
       "      <td>333.4</td>\n",
       "      <td>159.5</td>\n",
       "      <td>179.5</td>\n",
       "    </tr>\n",
       "    <tr>\n",
       "      <th>Staat</th>\n",
       "      <td>1244.1</td>\n",
       "      <td>1187.5</td>\n",
       "      <td>334.8</td>\n",
       "      <td>227.1</td>\n",
       "      <td>324.1</td>\n",
       "    </tr>\n",
       "    <tr>\n",
       "      <th>Versicherer</th>\n",
       "      <td>2200.4</td>\n",
       "      <td>2156.2</td>\n",
       "      <td>690.7</td>\n",
       "      <td>366.4</td>\n",
       "      <td>411.5</td>\n",
       "    </tr>\n",
       "    <tr>\n",
       "      <th>Importe</th>\n",
       "      <td>310.2</td>\n",
       "      <td>363.9</td>\n",
       "      <td>162.0</td>\n",
       "      <td>115.2</td>\n",
       "      <td>139.0</td>\n",
       "    </tr>\n",
       "  </tbody>\n",
       "</table>\n",
       "</div>"
      ],
      "text/plain": [
       "                Median  Mittelwerte  Quartilsabstand  Mittlere Abweichung  \\\n",
       "Krankenhäuser  20042.5      21013.2           9616.2               5088.8   \n",
       "Sozialmedizin   9744.1       9855.7           4575.8               2312.4   \n",
       "Arztpraxen      8719.3       9031.1           3969.7               2051.9   \n",
       "Zahnmedizin     3670.0       3550.5           1049.5                523.6   \n",
       "Andere          3179.8       3529.3           1939.5               1146.3   \n",
       "Unterstützer     850.2        982.1            660.4                350.8   \n",
       "Detailhandel    6198.3       6087.6           1306.8                802.5   \n",
       "Prävention       818.0        821.0            333.4                159.5   \n",
       "Staat           1244.1       1187.5            334.8                227.1   \n",
       "Versicherer     2200.4       2156.2            690.7                366.4   \n",
       "Importe          310.2        363.9            162.0                115.2   \n",
       "\n",
       "               Standardabweichung  \n",
       "Krankenhäuser              5807.8  \n",
       "Sozialmedizin              2616.1  \n",
       "Arztpraxen                 2383.2  \n",
       "Zahnmedizin                 579.6  \n",
       "Andere                     1355.3  \n",
       "Unterstützer                414.0  \n",
       "Detailhandel                950.7  \n",
       "Prävention                  179.5  \n",
       "Staat                       324.1  \n",
       "Versicherer                 411.5  \n",
       "Importe                     139.0  "
      ]
     },
     "execution_count": 139,
     "metadata": {},
     "output_type": "execute_result"
    }
   ],
   "source": [
    "# wir können alle Masse in einer Tabelle (DataFrame) zusammenstellen\n",
    "df = pd.DataFrame({\"Median\":kosten.median(),\n",
    "                   \"Mittelwerte\":kosten.mean(),\n",
    "                   \"Quartilsabstand\":kosten.quantile(0.75)-kosten.quantile(0.25),\n",
    "                   \"Mittlere Abweichung\":np.abs(kosten-kosten.mean()).mean(),\n",
    "                   \"Standardabweichung\":kosten.std(ddof=0)})\n",
    "# mit der Methode round aus dem Modul NumPy können wir die Ergebnisse runden\n",
    "np.round(df,1)"
   ]
  },
  {
   "cell_type": "markdown",
   "id": "9427c906-49c0-46c8-ad1f-8597a62cdf03",
   "metadata": {},
   "source": [
    "### <span style=\"color:rgb(160,0,86)\">Aufgabe 3</span>\n",
    "\n",
    "Laden Sie die Daten *2022_Mathematik 1 WiSo Urliste*. In dieser Excel Datei sind die Mathematik Prüfungsergebnisse von Studierenden an der Fakultät Wirschaft und Sozialwissenschaften der Universität Bern gespeichert. Alle Studierende haben die gleiche Prüfung geschrieben, nur die Reihenfolge der Aufgaben war in der Version A und Version B anders (siehe Angaben in den Zellen N3 und N4). Die Punkte für die 9 Aufgaben sind abhängig von der Version A und B also in den Spalten vertauscht!  Bestimmen Sie für jede Aufgabe passende Lagemasse und Streumasse für die Punkte.  "
   ]
  },
  {
   "cell_type": "markdown",
   "id": "bd845481-f1a0-4c57-8b1e-568bc032944a",
   "metadata": {},
   "source": [
    "***\n",
    "\n",
    "### <span style=\"color:rgb(160,0,86)\">Lösungsvorschlag</span>"
   ]
  },
  {
   "cell_type": "markdown",
   "id": "6bc5668f-f57a-4ccf-8fe4-434c51587935",
   "metadata": {},
   "source": [
    "Zuerst laden wir die Excel-Datei und speichern die Daten im DataFrame **punkte**. Die benötigten Werte müssen wir nur aus der Excel Datei herauslesen. Wir brauchen nur die Punkte zu den 9 Aufgaben und die Angabe zur Version der Prüfung. Zur besseren Übersicht können wir auch die Spalten einfacher benennen. Dann zerlegen wir das DataFrame **punkte** in zwei Teile:\n",
    "-  **VersionA** enthält alle Studierenden, bei denen die Punkte zu den Aufgaben bereits in korrekter Reihenfolge gespeichert sind\n",
    "-  **VersionB** enthält alle Studierenden, bei denen wir die Aufgaben A1 und A2, A3 und A4, A5 und A6, A7 und A8 vertauschen müssen. Nach dem Vertauschen bennen wir die Spalten mit den Aufgabennummern der Version A, weil diese die gleichen Aufaben sind.\n",
    "\n",
    "Dann fügen wir die zwei Teile **VersionA** und **VersionB** wieder zu einem DataFrame **punkteNeu** zusammen. "
   ]
  },
  {
   "cell_type": "code",
   "execution_count": 136,
   "id": "2b0af00c-a6b6-4176-9868-54ca17f7fb97",
   "metadata": {},
   "outputs": [
    {
     "data": {
      "text/html": [
       "<div>\n",
       "<style scoped>\n",
       "    .dataframe tbody tr th:only-of-type {\n",
       "        vertical-align: middle;\n",
       "    }\n",
       "\n",
       "    .dataframe tbody tr th {\n",
       "        vertical-align: top;\n",
       "    }\n",
       "\n",
       "    .dataframe thead th {\n",
       "        text-align: right;\n",
       "    }\n",
       "</style>\n",
       "<table border=\"1\" class=\"dataframe\">\n",
       "  <thead>\n",
       "    <tr style=\"text-align: right;\">\n",
       "      <th></th>\n",
       "      <th>A1</th>\n",
       "      <th>A2</th>\n",
       "      <th>A3</th>\n",
       "      <th>A4</th>\n",
       "      <th>A5</th>\n",
       "      <th>A6</th>\n",
       "      <th>A7</th>\n",
       "      <th>A8</th>\n",
       "      <th>A9</th>\n",
       "      <th>Version</th>\n",
       "    </tr>\n",
       "  </thead>\n",
       "  <tbody>\n",
       "    <tr>\n",
       "      <th>4</th>\n",
       "      <td>3.5</td>\n",
       "      <td>4</td>\n",
       "      <td>3.5</td>\n",
       "      <td>4</td>\n",
       "      <td>4</td>\n",
       "      <td>4</td>\n",
       "      <td>4</td>\n",
       "      <td>4</td>\n",
       "      <td>4</td>\n",
       "      <td>A</td>\n",
       "    </tr>\n",
       "    <tr>\n",
       "      <th>6</th>\n",
       "      <td>1.5</td>\n",
       "      <td>4</td>\n",
       "      <td>3</td>\n",
       "      <td>2.5</td>\n",
       "      <td>3</td>\n",
       "      <td>4</td>\n",
       "      <td>1.5</td>\n",
       "      <td>3</td>\n",
       "      <td>2</td>\n",
       "      <td>A</td>\n",
       "    </tr>\n",
       "    <tr>\n",
       "      <th>7</th>\n",
       "      <td>1.5</td>\n",
       "      <td>3.5</td>\n",
       "      <td>1.5</td>\n",
       "      <td>4</td>\n",
       "      <td>3</td>\n",
       "      <td>0</td>\n",
       "      <td>1</td>\n",
       "      <td>3.5</td>\n",
       "      <td>0</td>\n",
       "      <td>A</td>\n",
       "    </tr>\n",
       "    <tr>\n",
       "      <th>8</th>\n",
       "      <td>3.5</td>\n",
       "      <td>3</td>\n",
       "      <td>3.5</td>\n",
       "      <td>3</td>\n",
       "      <td>3.5</td>\n",
       "      <td>2</td>\n",
       "      <td>3.5</td>\n",
       "      <td>2.5</td>\n",
       "      <td>2</td>\n",
       "      <td>A</td>\n",
       "    </tr>\n",
       "    <tr>\n",
       "      <th>10</th>\n",
       "      <td>4</td>\n",
       "      <td>3.5</td>\n",
       "      <td>3.5</td>\n",
       "      <td>4</td>\n",
       "      <td>3</td>\n",
       "      <td>4</td>\n",
       "      <td>3.5</td>\n",
       "      <td>3</td>\n",
       "      <td>3.5</td>\n",
       "      <td>A</td>\n",
       "    </tr>\n",
       "    <tr>\n",
       "      <th>...</th>\n",
       "      <td>...</td>\n",
       "      <td>...</td>\n",
       "      <td>...</td>\n",
       "      <td>...</td>\n",
       "      <td>...</td>\n",
       "      <td>...</td>\n",
       "      <td>...</td>\n",
       "      <td>...</td>\n",
       "      <td>...</td>\n",
       "      <td>...</td>\n",
       "    </tr>\n",
       "    <tr>\n",
       "      <th>405</th>\n",
       "      <td>1</td>\n",
       "      <td>1.5</td>\n",
       "      <td>1.5</td>\n",
       "      <td>1</td>\n",
       "      <td>2</td>\n",
       "      <td>0</td>\n",
       "      <td>0.5</td>\n",
       "      <td>1.5</td>\n",
       "      <td>0</td>\n",
       "      <td>B</td>\n",
       "    </tr>\n",
       "    <tr>\n",
       "      <th>406</th>\n",
       "      <td>0</td>\n",
       "      <td>1</td>\n",
       "      <td>0</td>\n",
       "      <td>0</td>\n",
       "      <td>0.5</td>\n",
       "      <td>0</td>\n",
       "      <td>0.5</td>\n",
       "      <td>0</td>\n",
       "      <td>0</td>\n",
       "      <td>B</td>\n",
       "    </tr>\n",
       "    <tr>\n",
       "      <th>408</th>\n",
       "      <td>3.5</td>\n",
       "      <td>3.5</td>\n",
       "      <td>4</td>\n",
       "      <td>3</td>\n",
       "      <td>2.5</td>\n",
       "      <td>4</td>\n",
       "      <td>4</td>\n",
       "      <td>4</td>\n",
       "      <td>4</td>\n",
       "      <td>B</td>\n",
       "    </tr>\n",
       "    <tr>\n",
       "      <th>411</th>\n",
       "      <td>2.5</td>\n",
       "      <td>3</td>\n",
       "      <td>1.5</td>\n",
       "      <td>2</td>\n",
       "      <td>3</td>\n",
       "      <td>0.5</td>\n",
       "      <td>1</td>\n",
       "      <td>1</td>\n",
       "      <td>0</td>\n",
       "      <td>B</td>\n",
       "    </tr>\n",
       "    <tr>\n",
       "      <th>412</th>\n",
       "      <td>1</td>\n",
       "      <td>4</td>\n",
       "      <td>3</td>\n",
       "      <td>4</td>\n",
       "      <td>4</td>\n",
       "      <td>3</td>\n",
       "      <td>1</td>\n",
       "      <td>3.5</td>\n",
       "      <td>0</td>\n",
       "      <td>B</td>\n",
       "    </tr>\n",
       "  </tbody>\n",
       "</table>\n",
       "<p>411 rows × 10 columns</p>\n",
       "</div>"
      ],
      "text/plain": [
       "      A1   A2   A3   A4   A5   A6   A7   A8   A9 Version\n",
       "4    3.5    4  3.5    4    4    4    4    4    4       A\n",
       "6    1.5    4    3  2.5    3    4  1.5    3    2       A\n",
       "7    1.5  3.5  1.5    4    3    0    1  3.5    0       A\n",
       "8    3.5    3  3.5    3  3.5    2  3.5  2.5    2       A\n",
       "10     4  3.5  3.5    4    3    4  3.5    3  3.5       A\n",
       "..   ...  ...  ...  ...  ...  ...  ...  ...  ...     ...\n",
       "405    1  1.5  1.5    1    2    0  0.5  1.5    0       B\n",
       "406    0    1    0    0  0.5    0  0.5    0    0       B\n",
       "408  3.5  3.5    4    3  2.5    4    4    4    4       B\n",
       "411  2.5    3  1.5    2    3  0.5    1    1    0       B\n",
       "412    1    4    3    4    4    3    1  3.5    0       B\n",
       "\n",
       "[411 rows x 10 columns]"
      ]
     },
     "execution_count": 136,
     "metadata": {},
     "output_type": "execute_result"
    }
   ],
   "source": [
    "# pip install xlrd\n",
    "punkte = pd.read_excel(\"Daten/2022_Mathematik 1 WiSo Urliste.xls\")\n",
    "# wir speichern die bestehenden Namen der Spalten\n",
    "colNamen = punkte.columns\n",
    "# und schneiden die relevanten Spalten (axis=1) und Zeilen (axis=0) heraus\n",
    "punkte.drop(list(colNamen[0:1])+list(colNamen[10:11])+list(colNamen[12:]),axis=1,inplace=True)\n",
    "punkte.drop([0,1,2,3],axis=0,inplace=True)\n",
    "# nun geben wir den Spalten einfache Namen\n",
    "colNamenNew = [\"A1\",\"A2\",\"A3\",\"A4\",\"A5\",\"A6\",\"A7\",\"A8\",\"A9\",\"Version\"]\n",
    "punkte.columns = colNamenNew\n",
    "# dann speichern wir die Studierenden mit Veresion A\n",
    "VersionA = punkte[colNamenNew][punkte[\"Version\"]==\"A\"]\n",
    "# bei den Studierenden mit Version B müssen wir die Reihenfolge der Aufgaben ändern\n",
    "VersionB = punkte[[\"A2\",\"A1\",\"A4\",\"A3\",\"A6\",\"A5\",\"A8\",\"A7\",\"A9\",\"Version\"]][punkte[\"Version\"]==\"B\"]\n",
    "VersionB.columns = colNamenNew\n",
    "# zuletzt fügen wir die zwei DataFrame VersionA und VersionB wieder zusammen\n",
    "punkteNew = pd.concat([VersionA,VersionB])\n",
    "punkteNew"
   ]
  },
  {
   "cell_type": "markdown",
   "id": "884862d6-688e-452b-970d-2a04ff52ab6a",
   "metadata": {},
   "source": [
    "Die Werte der 9 Aufgaben sind alle metrisch:\n",
    "\n",
    "- die Lage der Daten können wir mit dem **Median** $x_{50}$ oder dem **arithmetischen Mittel** $\\bar{x}$ beschreiben\n",
    "- die Streuung der Daten können wir mit dem **Quartilsabstand** $Q$, der **mittleren Abweichung** $MD$ oder der **Standardabweichung** $s$ beschreiben"
   ]
  },
  {
   "cell_type": "code",
   "execution_count": 140,
   "id": "2cfa6057-affd-4556-975a-c3c83c3aa49e",
   "metadata": {},
   "outputs": [
    {
     "data": {
      "text/html": [
       "<div>\n",
       "<style scoped>\n",
       "    .dataframe tbody tr th:only-of-type {\n",
       "        vertical-align: middle;\n",
       "    }\n",
       "\n",
       "    .dataframe tbody tr th {\n",
       "        vertical-align: top;\n",
       "    }\n",
       "\n",
       "    .dataframe thead th {\n",
       "        text-align: right;\n",
       "    }\n",
       "</style>\n",
       "<table border=\"1\" class=\"dataframe\">\n",
       "  <thead>\n",
       "    <tr style=\"text-align: right;\">\n",
       "      <th></th>\n",
       "      <th>Median</th>\n",
       "      <th>Mittelwerte</th>\n",
       "      <th>Quartilsabstand</th>\n",
       "      <th>Mittlere Abweichung</th>\n",
       "      <th>Standardabweichung</th>\n",
       "    </tr>\n",
       "  </thead>\n",
       "  <tbody>\n",
       "    <tr>\n",
       "      <th>A1</th>\n",
       "      <td>2.0</td>\n",
       "      <td>2.155718</td>\n",
       "      <td>2.5</td>\n",
       "      <td>1.187366</td>\n",
       "      <td>1.282992</td>\n",
       "    </tr>\n",
       "    <tr>\n",
       "      <th>A2</th>\n",
       "      <td>3.0</td>\n",
       "      <td>2.868613</td>\n",
       "      <td>1.0</td>\n",
       "      <td>0.755821</td>\n",
       "      <td>0.92991</td>\n",
       "    </tr>\n",
       "    <tr>\n",
       "      <th>A3</th>\n",
       "      <td>2.5</td>\n",
       "      <td>2.411192</td>\n",
       "      <td>2.0</td>\n",
       "      <td>1.05203</td>\n",
       "      <td>1.242014</td>\n",
       "    </tr>\n",
       "    <tr>\n",
       "      <th>A4</th>\n",
       "      <td>3.0</td>\n",
       "      <td>2.604623</td>\n",
       "      <td>2.5</td>\n",
       "      <td>1.182174</td>\n",
       "      <td>1.354457</td>\n",
       "    </tr>\n",
       "    <tr>\n",
       "      <th>A5</th>\n",
       "      <td>3.0</td>\n",
       "      <td>2.821168</td>\n",
       "      <td>2.0</td>\n",
       "      <td>0.913279</td>\n",
       "      <td>1.154812</td>\n",
       "    </tr>\n",
       "    <tr>\n",
       "      <th>A6</th>\n",
       "      <td>1.0</td>\n",
       "      <td>1.504866</td>\n",
       "      <td>1.5</td>\n",
       "      <td>0.998479</td>\n",
       "      <td>1.209241</td>\n",
       "    </tr>\n",
       "    <tr>\n",
       "      <th>A7</th>\n",
       "      <td>2.5</td>\n",
       "      <td>2.30292</td>\n",
       "      <td>2.5</td>\n",
       "      <td>1.303959</td>\n",
       "      <td>1.416394</td>\n",
       "    </tr>\n",
       "    <tr>\n",
       "      <th>A8</th>\n",
       "      <td>2.5</td>\n",
       "      <td>2.164234</td>\n",
       "      <td>2.5</td>\n",
       "      <td>1.151846</td>\n",
       "      <td>1.318652</td>\n",
       "    </tr>\n",
       "    <tr>\n",
       "      <th>A9</th>\n",
       "      <td>0.5</td>\n",
       "      <td>1.069343</td>\n",
       "      <td>2.0</td>\n",
       "      <td>1.093754</td>\n",
       "      <td>1.251543</td>\n",
       "    </tr>\n",
       "  </tbody>\n",
       "</table>\n",
       "</div>"
      ],
      "text/plain": [
       "   Median Mittelwerte Quartilsabstand Mittlere Abweichung Standardabweichung\n",
       "A1    2.0    2.155718             2.5            1.187366           1.282992\n",
       "A2    3.0    2.868613             1.0            0.755821            0.92991\n",
       "A3    2.5    2.411192             2.0             1.05203           1.242014\n",
       "A4    3.0    2.604623             2.5            1.182174           1.354457\n",
       "A5    3.0    2.821168             2.0            0.913279           1.154812\n",
       "A6    1.0    1.504866             1.5            0.998479           1.209241\n",
       "A7    2.5     2.30292             2.5            1.303959           1.416394\n",
       "A8    2.5    2.164234             2.5            1.151846           1.318652\n",
       "A9    0.5    1.069343             2.0            1.093754           1.251543"
      ]
     },
     "execution_count": 140,
     "metadata": {},
     "output_type": "execute_result"
    }
   ],
   "source": [
    "# die Spalte Version brachen wir nicht mehr\n",
    "pkt = punkteNew[colNamenNew[0:9]]\n",
    "# wir können alle Masse in einer Tabelle (DataFrame) zusammenstellen\n",
    "df = pd.DataFrame({\"Median\":pkt.median(),\n",
    "                   \"Mittelwerte\":pkt.mean(),\n",
    "                   \"Quartilsabstand\":pkt.quantile(0.75)-pkt.quantile(0.25),\n",
    "                   \"Mittlere Abweichung\":np.abs(pkt-pkt.mean()).mean(),\n",
    "                   \"Standardabweichung\":pkt.std(ddof=0)})\n",
    "# mit der Methode round aus dem Modul NumPy können wir die Ergebnisse runden\n",
    "np.round(df,1)"
   ]
  },
  {
   "cell_type": "markdown",
   "id": "afc58872-4e9b-44ca-97e9-2b7c5f4e62f7",
   "metadata": {},
   "source": [
    "![HSLU](Bilder/LogoHSLU.png)"
   ]
  }
 ],
 "metadata": {
  "kernelspec": {
   "display_name": "Python 3 (ipykernel)",
   "language": "python",
   "name": "python3"
  },
  "language_info": {
   "codemirror_mode": {
    "name": "ipython",
    "version": 3
   },
   "file_extension": ".py",
   "mimetype": "text/x-python",
   "name": "python",
   "nbconvert_exporter": "python",
   "pygments_lexer": "ipython3",
   "version": "3.10.6"
  }
 },
 "nbformat": 4,
 "nbformat_minor": 5
}
